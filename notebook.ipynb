{
 "cells": [
  {
   "cell_type": "code",
   "execution_count": 3,
   "metadata": {},
   "outputs": [
    {
     "ename": "KeyboardInterrupt",
     "evalue": "",
     "output_type": "error",
     "traceback": [
      "\u001b[0;31m---------------------------------------------------------------------------\u001b[0m",
      "\u001b[0;31mKeyboardInterrupt\u001b[0m                         Traceback (most recent call last)",
      "\u001b[1;32m/adhome/p/pm/pmisiuk/Bureau/TP-master/notebook.ipynb Cell 1\u001b[0m in \u001b[0;36m<cell line: 19>\u001b[0;34m()\u001b[0m\n\u001b[1;32m     <a href='vscode-notebook-cell:/adhome/p/pm/pmisiuk/Bureau/TP-master/notebook.ipynb#W0sZmlsZQ%3D%3D?line=14'>15</a>\u001b[0m recording \u001b[39m=\u001b[39m sd\u001b[39m.\u001b[39mrec(\u001b[39mint\u001b[39m(duration\u001b[39m*\u001b[39mfreq), \n\u001b[1;32m     <a href='vscode-notebook-cell:/adhome/p/pm/pmisiuk/Bureau/TP-master/notebook.ipynb#W0sZmlsZQ%3D%3D?line=15'>16</a>\u001b[0m                    samplerate\u001b[39m=\u001b[39mfreq, channels\u001b[39m=\u001b[39m\u001b[39m2\u001b[39m)\n\u001b[1;32m     <a href='vscode-notebook-cell:/adhome/p/pm/pmisiuk/Bureau/TP-master/notebook.ipynb#W0sZmlsZQ%3D%3D?line=17'>18</a>\u001b[0m \u001b[39m# Record audio for the given number of seconds\u001b[39;00m\n\u001b[0;32m---> <a href='vscode-notebook-cell:/adhome/p/pm/pmisiuk/Bureau/TP-master/notebook.ipynb#W0sZmlsZQ%3D%3D?line=18'>19</a>\u001b[0m sd\u001b[39m.\u001b[39;49mwait()\n\u001b[1;32m     <a href='vscode-notebook-cell:/adhome/p/pm/pmisiuk/Bureau/TP-master/notebook.ipynb#W0sZmlsZQ%3D%3D?line=20'>21</a>\u001b[0m plt\u001b[39m.\u001b[39mfigure()\n\u001b[1;32m     <a href='vscode-notebook-cell:/adhome/p/pm/pmisiuk/Bureau/TP-master/notebook.ipynb#W0sZmlsZQ%3D%3D?line=21'>22</a>\u001b[0m plt\u001b[39m.\u001b[39mplot(recording)\n",
      "File \u001b[0;32m/usr/local/anaconda3/lib/python3.9/site-packages/sounddevice.py:392\u001b[0m, in \u001b[0;36mwait\u001b[0;34m(ignore_errors)\u001b[0m\n\u001b[1;32m    376\u001b[0m \u001b[39m\"\"\"Wait for `play()`/`rec()`/`playrec()` to be finished.\u001b[39;00m\n\u001b[1;32m    377\u001b[0m \n\u001b[1;32m    378\u001b[0m \u001b[39mPlayback/recording can be stopped with a `KeyboardInterrupt`.\u001b[39;00m\n\u001b[0;32m   (...)\u001b[0m\n\u001b[1;32m    389\u001b[0m \n\u001b[1;32m    390\u001b[0m \u001b[39m\"\"\"\u001b[39;00m\n\u001b[1;32m    391\u001b[0m \u001b[39mif\u001b[39;00m _last_callback:\n\u001b[0;32m--> 392\u001b[0m     \u001b[39mreturn\u001b[39;00m _last_callback\u001b[39m.\u001b[39;49mwait(ignore_errors)\n",
      "File \u001b[0;32m/usr/local/anaconda3/lib/python3.9/site-packages/sounddevice.py:2592\u001b[0m, in \u001b[0;36m_CallbackContext.wait\u001b[0;34m(self, ignore_errors)\u001b[0m\n\u001b[1;32m   2586\u001b[0m \u001b[39m\"\"\"Wait for finished_callback.\u001b[39;00m\n\u001b[1;32m   2587\u001b[0m \n\u001b[1;32m   2588\u001b[0m \u001b[39mCan be interrupted with a KeyboardInterrupt.\u001b[39;00m\n\u001b[1;32m   2589\u001b[0m \n\u001b[1;32m   2590\u001b[0m \u001b[39m\"\"\"\u001b[39;00m\n\u001b[1;32m   2591\u001b[0m \u001b[39mtry\u001b[39;00m:\n\u001b[0;32m-> 2592\u001b[0m     \u001b[39mself\u001b[39;49m\u001b[39m.\u001b[39;49mevent\u001b[39m.\u001b[39;49mwait()\n\u001b[1;32m   2593\u001b[0m \u001b[39mfinally\u001b[39;00m:\n\u001b[1;32m   2594\u001b[0m     \u001b[39mself\u001b[39m\u001b[39m.\u001b[39mstream\u001b[39m.\u001b[39mclose(ignore_errors)\n",
      "File \u001b[0;32m/usr/local/anaconda3/lib/python3.9/threading.py:574\u001b[0m, in \u001b[0;36mEvent.wait\u001b[0;34m(self, timeout)\u001b[0m\n\u001b[1;32m    572\u001b[0m signaled \u001b[39m=\u001b[39m \u001b[39mself\u001b[39m\u001b[39m.\u001b[39m_flag\n\u001b[1;32m    573\u001b[0m \u001b[39mif\u001b[39;00m \u001b[39mnot\u001b[39;00m signaled:\n\u001b[0;32m--> 574\u001b[0m     signaled \u001b[39m=\u001b[39m \u001b[39mself\u001b[39;49m\u001b[39m.\u001b[39;49m_cond\u001b[39m.\u001b[39;49mwait(timeout)\n\u001b[1;32m    575\u001b[0m \u001b[39mreturn\u001b[39;00m signaled\n",
      "File \u001b[0;32m/usr/local/anaconda3/lib/python3.9/threading.py:312\u001b[0m, in \u001b[0;36mCondition.wait\u001b[0;34m(self, timeout)\u001b[0m\n\u001b[1;32m    310\u001b[0m \u001b[39mtry\u001b[39;00m:    \u001b[39m# restore state no matter what (e.g., KeyboardInterrupt)\u001b[39;00m\n\u001b[1;32m    311\u001b[0m     \u001b[39mif\u001b[39;00m timeout \u001b[39mis\u001b[39;00m \u001b[39mNone\u001b[39;00m:\n\u001b[0;32m--> 312\u001b[0m         waiter\u001b[39m.\u001b[39;49macquire()\n\u001b[1;32m    313\u001b[0m         gotit \u001b[39m=\u001b[39m \u001b[39mTrue\u001b[39;00m\n\u001b[1;32m    314\u001b[0m     \u001b[39melse\u001b[39;00m:\n",
      "\u001b[0;31mKeyboardInterrupt\u001b[0m: "
     ]
    }
   ],
   "source": [
    "# import required libraries\n",
    "import sounddevice as sd\n",
    "from scipy.io.wavfile import write\n",
    "import matplotlib.pyplot as plt\n",
    "\n",
    "\n",
    "# Sampling frequency\n",
    "freq = 48000\n",
    "\n",
    "# Recording duration\n",
    "duration = 10\n",
    "\n",
    "# Start recorder with the given values \n",
    "# of duration and sample frequency\n",
    "recording = sd.rec(int(duration*freq), \n",
    "                   samplerate=freq, channels=2)\n",
    "\n",
    "# Record audio for the given number of seconds\n",
    "sd.wait()\n",
    "\n",
    "plt.figure()\n",
    "plt.plot(recording)\n",
    "print(recording)\n",
    "plt.show()"
   ]
  },
  {
   "cell_type": "code",
   "execution_count": 2,
   "metadata": {},
   "outputs": [
    {
     "name": "stdout",
     "output_type": "stream",
     "text": [
      "Enregistrement audio en cours...\n"
     ]
    },
    {
     "name": "stderr",
     "output_type": "stream",
     "text": [
      "ALSA lib pcm.c:8526:(snd_pcm_recover) underrun occurred\n"
     ]
    },
    {
     "name": "stdout",
     "output_type": "stream",
     "text": [
      "Enregistrement audio terminé.\n"
     ]
    }
   ],
   "source": [
    "import sounddevice as sd\n",
    "import soundfile as sf\n",
    "import numpy as np\n",
    "\n",
    "# Paramètres de l'enregistrement audio\n",
    "duration = 5  # durée de l'enregistrement en secondes\n",
    "fs = 44100  # fréquence d'échantillonnage en Hz\n",
    "channels = 1  # nombre de canaux audio (mono = 1)\n",
    "\n",
    "# Fréquence du son émis\n",
    "f = 440\n",
    "\n",
    "# Génération du signal sonore\n",
    "t = np.linspace(0, duration, int(duration * fs), False)\n",
    "sinewave = np.sin(f * 2 * np.pi * t)\n",
    "\n",
    "# Émission du signal sonore\n",
    "sd.play(sinewave, fs)\n",
    "\n",
    "# Enregistrement de l'acquisition audio dans un fichier\n",
    "print(\"Enregistrement audio en cours...\")\n",
    "recording = sd.rec(int(duration * fs), samplerate=fs, channels=channels)\n",
    "sd.wait()\n",
    "sf.write(\"enregistrement.wav\", recording, fs)\n",
    "print(\"Enregistrement audio terminé.\")\n"
   ]
  }
 ],
 "metadata": {
  "kernelspec": {
   "display_name": "Python 3.9.12 ('base')",
   "language": "python",
   "name": "python3"
  },
  "language_info": {
   "codemirror_mode": {
    "name": "ipython",
    "version": 3
   },
   "file_extension": ".py",
   "mimetype": "text/x-python",
   "name": "python",
   "nbconvert_exporter": "python",
   "pygments_lexer": "ipython3",
   "version": "3.9.12"
  },
  "orig_nbformat": 4,
  "vscode": {
   "interpreter": {
    "hash": "3067ead486e059ec00ffe7555bdb889e6e264a24dc711bf108106cc7baee8d5d"
   }
  }
 },
 "nbformat": 4,
 "nbformat_minor": 2
}
