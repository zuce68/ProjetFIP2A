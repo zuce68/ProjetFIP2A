{
 "cells": [
  {
   "cell_type": "code",
   "execution_count": 16,
   "metadata": {},
   "outputs": [
    {
     "ename": "AttributeError",
     "evalue": "cffi library '<None>' has no function, constant or global variable named 'stderr'",
     "output_type": "error",
     "traceback": [
      "\u001b[0;31m---------------------------------------------------------------------------\u001b[0m",
      "\u001b[0;31mAttributeError\u001b[0m                            Traceback (most recent call last)",
      "\u001b[1;32m/adhome/p/pm/pmisiuk/Bureau/TP-master/notebook.ipynb Cell 1\u001b[0m in \u001b[0;36m<cell line: 2>\u001b[0;34m()\u001b[0m\n\u001b[1;32m      <a href='vscode-notebook-cell:/adhome/p/pm/pmisiuk/Bureau/TP-master/notebook.ipynb#W0sZmlsZQ%3D%3D?line=0'>1</a>\u001b[0m \u001b[39m# import required libraries\u001b[39;00m\n\u001b[0;32m----> <a href='vscode-notebook-cell:/adhome/p/pm/pmisiuk/Bureau/TP-master/notebook.ipynb#W0sZmlsZQ%3D%3D?line=1'>2</a>\u001b[0m \u001b[39mimport\u001b[39;00m \u001b[39msounddevice\u001b[39;00m \u001b[39mas\u001b[39;00m \u001b[39msd\u001b[39;00m\n\u001b[1;32m      <a href='vscode-notebook-cell:/adhome/p/pm/pmisiuk/Bureau/TP-master/notebook.ipynb#W0sZmlsZQ%3D%3D?line=2'>3</a>\u001b[0m \u001b[39mfrom\u001b[39;00m \u001b[39mscipy\u001b[39;00m\u001b[39m.\u001b[39;00m\u001b[39mio\u001b[39;00m\u001b[39m.\u001b[39;00m\u001b[39mwavfile\u001b[39;00m \u001b[39mimport\u001b[39;00m write\n\u001b[1;32m      <a href='vscode-notebook-cell:/adhome/p/pm/pmisiuk/Bureau/TP-master/notebook.ipynb#W0sZmlsZQ%3D%3D?line=3'>4</a>\u001b[0m \u001b[39mimport\u001b[39;00m \u001b[39mmatplotlib\u001b[39;00m\u001b[39m.\u001b[39;00m\u001b[39mpyplot\u001b[39;00m \u001b[39mas\u001b[39;00m \u001b[39mplt\u001b[39;00m\n",
      "File \u001b[0;32m/usr/local/anaconda3/lib/python3.9/site-packages/sounddevice.py:2869\u001b[0m, in \u001b[0;36m<module>\u001b[0;34m\u001b[0m\n\u001b[1;32m   2865\u001b[0m         _terminate()\n\u001b[1;32m   2868\u001b[0m _atexit\u001b[39m.\u001b[39mregister(_exit_handler)\n\u001b[0;32m-> 2869\u001b[0m _initialize()\n\u001b[1;32m   2871\u001b[0m \u001b[39mif\u001b[39;00m \u001b[39m__name__\u001b[39m \u001b[39m==\u001b[39m \u001b[39m'\u001b[39m\u001b[39m__main__\u001b[39m\u001b[39m'\u001b[39m:\n\u001b[1;32m   2872\u001b[0m     \u001b[39mprint\u001b[39m(query_devices())\n",
      "File \u001b[0;32m/usr/local/anaconda3/lib/python3.9/site-packages/sounddevice.py:2825\u001b[0m, in \u001b[0;36m_initialize\u001b[0;34m()\u001b[0m\n\u001b[1;32m   2823\u001b[0m \u001b[39mfor\u001b[39;00m stderr_name \u001b[39min\u001b[39;00m \u001b[39m'\u001b[39m\u001b[39mstderr\u001b[39m\u001b[39m'\u001b[39m, \u001b[39m'\u001b[39m\u001b[39m__stderrp\u001b[39m\u001b[39m'\u001b[39m:\n\u001b[1;32m   2824\u001b[0m     \u001b[39mtry\u001b[39;00m:\n\u001b[0;32m-> 2825\u001b[0m         old_stderr \u001b[39m=\u001b[39m \u001b[39mgetattr\u001b[39;49m(stdio, stderr_name)\n\u001b[1;32m   2826\u001b[0m     \u001b[39mexcept\u001b[39;00m _ffi\u001b[39m.\u001b[39merror:\n\u001b[1;32m   2827\u001b[0m         \u001b[39mcontinue\u001b[39;00m\n",
      "\u001b[0;31mAttributeError\u001b[0m: cffi library '<None>' has no function, constant or global variable named 'stderr'"
     ]
    }
   ],
   "source": [
    "# import required libraries\n",
    "import sounddevice as sd\n",
    "from scipy.io.wavfile import write\n",
    "import matplotlib.pyplot as plt\n",
    "\n",
    "\n",
    "# Sampling frequency\n",
    "freq = 48000\n",
    "\n",
    "# Recording duration\n",
    "duration = 10\n",
    "\n",
    "# Start recorder with the given values \n",
    "# of duration and sample frequency\n",
    "recording = sd.rec(int(duration*freq), \n",
    "                   samplerate=freq, channels=2)\n",
    "\n",
    "# Record audio for the given number of seconds\n",
    "sd.wait()\n",
    "\n",
    "plt.figure()\n",
    "plt.plot(recording)\n",
    "print(recording)\n",
    "plt.show()"
   ]
  }
 ],
 "metadata": {
  "kernelspec": {
   "display_name": "Python 3.9.12 ('base')",
   "language": "python",
   "name": "python3"
  },
  "language_info": {
   "codemirror_mode": {
    "name": "ipython",
    "version": 3
   },
   "file_extension": ".py",
   "mimetype": "text/x-python",
   "name": "python",
   "nbconvert_exporter": "python",
   "pygments_lexer": "ipython3",
   "version": "3.9.12"
  },
  "orig_nbformat": 4,
  "vscode": {
   "interpreter": {
    "hash": "3067ead486e059ec00ffe7555bdb889e6e264a24dc711bf108106cc7baee8d5d"
   }
  }
 },
 "nbformat": 4,
 "nbformat_minor": 2
}
