{
 "cells": [
  {
   "cell_type": "code",
   "execution_count": null,
   "metadata": {},
   "outputs": [],
   "source": [
    "# Importer les bibliothèques nécessaires\n",
    "# Gestion du son\n",
    "import sounddevice as sd\n",
    "import soundfile as sf\n",
    "# Bibliothèques pour analyse traitement du signal\n",
    "import scipy.io.wavfile\n",
    "import matplotlib.pyplot as plt\n",
    "import scipy.signal\n",
    "import numpy as np\n",
    "#Bibliothèques pour générer, acquérir les sons\n",
    "import traitsignfip\n",
    "from importlib import reload\n",
    "reload(traitsignfip)\n",
    "\n",
    "\n",
    "\n",
    "data_left, data_right = traitsignfip.record(10)\n",
    "\n",
    "fs = 44100 # fréquence d'échantillonage\n",
    "N=len(data_left) #nombre d'échantillions \n",
    "n = np.arange(0,N)/fs   #on divise par la fréquence d'échantillonage pour etre mieux dans l'échelle \n",
    "\n",
    "distance=0.8#Distance entre les deux micros en mètre\n",
    "\n",
    "\n",
    "plt.figure()\n",
    "plt.title(\"Right\")\n",
    "plt.plot(n,data_right)\n",
    "plt.figure()\n",
    "plt.title(\"Left\")\n",
    "plt.plot(n,data_left)"
   ]
  }
 ],
 "metadata": {
  "language_info": {
   "name": "python"
  },
  "orig_nbformat": 4
 },
 "nbformat": 4,
 "nbformat_minor": 2
}
