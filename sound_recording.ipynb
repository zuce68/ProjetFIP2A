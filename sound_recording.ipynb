{
 "cells": [
  {
   "cell_type": "code",
   "execution_count": 22,
   "metadata": {},
   "outputs": [
    {
     "name": "stdout",
     "output_type": "stream",
     "text": [
      "Enregistrement en cours...\n",
      "Enregistrement terminé.\n",
      "Fichier enregistré : enregistrement.wav\n"
     ]
    }
   ],
   "source": [
    "#programme pour mesurer la vitesse du son \n",
    "import sounddevice as sd\n",
    "import soundfile as sf\n",
    "\n",
    "# Paramètres d'enregistrement\n",
    "duration = 5  # Durée de l'enregistrement en secondes\n",
    "fs = 44100  # Fréquence d'échantillonnage en Hz\n",
    "channels = 2  # Nombre de canaux\n",
    "\n",
    "# Enregistrer le son\n",
    "print(\"Enregistrement en cours...\")\n",
    "recorded_audio = sd.rec(int(duration * fs), samplerate=fs, channels=channels)\n",
    "sd.wait()  # Attendre la fin de l'enregistrement\n",
    "\n",
    "\n",
    "# Enregistrer les données audio dans un fichier WAV\n",
    "file_name = \"enregistrement.wav\"\n",
    "sf.write(file_name, recorded_audio, fs, subtype='PCM_16')\n",
    "\n",
    "print(f\"Fichier enregistré : {file_name}\")\n"
   ]
  },
  {
   "cell_type": "code",
   "execution_count": 33,
   "metadata": {},
   "outputs": [
    {
     "name": "stderr",
     "output_type": "stream",
     "text": [
      "ALSA lib pcm.c:8526:(snd_pcm_recover) underrun occurred\n",
      "Expression 'err' failed in 'src/hostapi/alsa/pa_linux_alsa.c', line: 3350\n",
      "Expression 'ContinuePoll( self, StreamDirection_In, &pollTimeout, &pollCapture )' failed in 'src/hostapi/alsa/pa_linux_alsa.c', line: 3891\n",
      "Expression 'PaAlsaStream_WaitForFrames( stream, &framesAvail, &xrun )' failed in 'src/hostapi/alsa/pa_linux_alsa.c', line: 4269\n"
     ]
    },
    {
     "ename": "IndexError",
     "evalue": "too many indices for array: array is 1-dimensional, but 2 were indexed",
     "output_type": "error",
     "traceback": [
      "\u001b[0;31m---------------------------------------------------------------------------\u001b[0m",
      "\u001b[0;31mIndexError\u001b[0m                                Traceback (most recent call last)",
      "\u001b[1;32m/adhome/p/pm/pmisiuk/Bureau/TP-master/sound_recording.ipynb Cell 2\u001b[0m in \u001b[0;36m<cell line: 32>\u001b[0;34m()\u001b[0m\n\u001b[1;32m     <a href='vscode-notebook-cell:/adhome/p/pm/pmisiuk/Bureau/TP-master/sound_recording.ipynb#X10sZmlsZQ%3D%3D?line=28'>29</a>\u001b[0m N\u001b[39m=\u001b[39m\u001b[39mlen\u001b[39m(data) \u001b[39m#nombre d'échantillions \u001b[39;00m\n\u001b[1;32m     <a href='vscode-notebook-cell:/adhome/p/pm/pmisiuk/Bureau/TP-master/sound_recording.ipynb#X10sZmlsZQ%3D%3D?line=29'>30</a>\u001b[0m n \u001b[39m=\u001b[39m np\u001b[39m.\u001b[39marange(\u001b[39m0\u001b[39m,N)\u001b[39m/\u001b[39m\u001b[39m44100\u001b[39m   \u001b[39m#on divise par la fréquence d'échantillonage pour etre mieux dans l'échelle \u001b[39;00m\n\u001b[0;32m---> <a href='vscode-notebook-cell:/adhome/p/pm/pmisiuk/Bureau/TP-master/sound_recording.ipynb#X10sZmlsZQ%3D%3D?line=31'>32</a>\u001b[0m data_right \u001b[39m=\u001b[39m data[:,\u001b[39m1\u001b[39;49m]\n\u001b[1;32m     <a href='vscode-notebook-cell:/adhome/p/pm/pmisiuk/Bureau/TP-master/sound_recording.ipynb#X10sZmlsZQ%3D%3D?line=32'>33</a>\u001b[0m data_left \u001b[39m=\u001b[39m data[:,\u001b[39m0\u001b[39m]\n\u001b[1;32m     <a href='vscode-notebook-cell:/adhome/p/pm/pmisiuk/Bureau/TP-master/sound_recording.ipynb#X10sZmlsZQ%3D%3D?line=35'>36</a>\u001b[0m \u001b[39m#affichage du channel 1 \u001b[39;00m\n",
      "\u001b[0;31mIndexError\u001b[0m: too many indices for array: array is 1-dimensional, but 2 were indexed"
     ]
    }
   ],
   "source": [
    "#permet d'afficher un son\n",
    "import scipy.io.wavfile\n",
    "import matplotlib.pyplot as plt\n",
    "import numpy as np\n",
    "import sounddevice as sd\n",
    "import numpy as np\n",
    "\n",
    "# Définir les paramètres du signal sonore\n",
    "frequency = 440  # Fréquence en Hertz\n",
    "duration = 10  # Durée en secondes\n",
    "volume = 1  # Volume entre 0 et 1\n",
    "\n",
    "# Générer le signal sonore\n",
    "t = np.linspace(0, duration, int(duration * 44100), False)\n",
    "note = np.sin(frequency * t * 2 * np.pi)\n",
    "audio = note * (2**15 - 1) / np.max(np.abs(note))\n",
    "audio = audio.astype(np.int16)\n",
    "\n",
    "# Enregistrer le signal sonore\n",
    "recording = sd.playrec(audio, samplerate=44100, channels=2)\n",
    "\n",
    "# Attendre la fin de l'enregistrement\n",
    "sd.wait()\n",
    "\n",
    "# Charger le fichier audio\n",
    "rate, data = scipy.io.wavfile.read('enregistrement.wav')\n",
    "\n",
    "\n",
    "N=len(data) #nombre d'échantillions \n",
    "n = np.arange(0,N)/44100   #on divise par la fréquence d'échantillonage pour etre mieux dans l'échelle \n",
    "\n",
    "data_right = data[:,1]\n",
    "data_left = data[:,0]\n",
    "\n",
    "\n",
    "#affichage du channel 1 \n",
    "plt.figure()\n",
    "plt.title(\"Right\")\n",
    "plt.plot(n,data_right)\n",
    "plt.figure()\n",
    "plt.title(\"Left\")\n",
    "plt.plot(n,data_left)\n",
    "\n",
    "\n",
    "\n",
    "\n",
    "#plt.ylim(-10000,10000)\n",
    "plt.show()\n",
    "\n",
    "\n"
   ]
  },
  {
   "cell_type": "code",
   "execution_count": 1,
   "metadata": {},
   "outputs": [
    {
     "name": "stdout",
     "output_type": "stream",
     "text": [
      "Enregistrement audio en cours...\n"
     ]
    },
    {
     "name": "stderr",
     "output_type": "stream",
     "text": [
      "ALSA lib pcm.c:8526:(snd_pcm_recover) underrun occurred\n"
     ]
    },
    {
     "name": "stdout",
     "output_type": "stream",
     "text": [
      "Enregistrement audio terminé.\n"
     ]
    }
   ],
   "source": [
    "import sounddevice as sd\n",
    "import soundfile as sf\n",
    "import numpy as np\n",
    "\n",
    "# Paramètres de l'enregistrement audio\n",
    "duration = 5  # durée de l'enregistrement en secondes\n",
    "fs = 44100  # fréquence d'échantillonnage en Hz\n",
    "channels = 2  # nombre de canaux audio (mono = 1)\n",
    "\n",
    "# Fréquence du son émis\n",
    "f = 440\n",
    "\n",
    "# Génération du signal sonore\n",
    "t = np.linspace(0, duration, int(duration * fs), False)\n",
    "sinewave = np.sin(f * 2 * np.pi * t)\n",
    "\n",
    "# Émission du signal sonore\n",
    "sd.play(sinewave, fs)\n",
    "\n",
    "# Enregistrement de l'acquisition audio dans un fichier\n",
    "print(\"Enregistrement audio en cours...\")\n",
    "recording = sd.rec(int(duration * fs), samplerate=fs, channels=channels)\n",
    "sd.wait()\n",
    "sf.write(\"enregistrement.wav\", recording, fs)\n",
    "print(\"Enregistrement audio terminé.\")\n"
   ]
  }
 ],
 "metadata": {
  "kernelspec": {
   "display_name": "Python 3.9.12 ('base')",
   "language": "python",
   "name": "python3"
  },
  "language_info": {
   "codemirror_mode": {
    "name": "ipython",
    "version": 3
   },
   "file_extension": ".py",
   "mimetype": "text/x-python",
   "name": "python",
   "nbconvert_exporter": "python",
   "pygments_lexer": "ipython3",
   "version": "3.9.12"
  },
  "orig_nbformat": 4,
  "vscode": {
   "interpreter": {
    "hash": "3067ead486e059ec00ffe7555bdb889e6e264a24dc711bf108106cc7baee8d5d"
   }
  }
 },
 "nbformat": 4,
 "nbformat_minor": 2
}
