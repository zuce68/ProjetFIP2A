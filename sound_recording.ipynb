{
 "cells": [
  {
   "cell_type": "code",
   "execution_count": 2,
   "metadata": {},
   "outputs": [
    {
     "name": "stdout",
     "output_type": "stream",
     "text": [
      "Enregistrement en cours...\n",
      "Fichier enregistré : enregistrement.wav\n"
     ]
    }
   ],
   "source": [
    "#programme pour mesurer la vitesse du son \n",
    "import sounddevice as sd\n",
    "import soundfile as sf\n",
    "\n",
    "# Paramètres d'enregistrement\n",
    "duration = 5  # Durée de l'enregistrement en secondes\n",
    "fs = 44100  # Fréquence d'échantillonnage en Hz\n",
    "channels = 2  # Nombre de canaux\n",
    "\n",
    "# Enregistrer le son\n",
    "print(\"Enregistrement en cours...\")\n",
    "recorded_audio = sd.rec(int(duration * fs), samplerate=fs, channels=channels)\n",
    "sd.wait()  # Attendre la fin de l'enregistrement\n",
    "\n",
    "\n",
    "# Enregistrer les données audio dans un fichier WAV\n",
    "file_name = \"enregistrement.wav\"\n",
    "sf.write(file_name, recorded_audio, fs, subtype='PCM_16')\n",
    "\n",
    "print(f\"Fichier enregistré : {file_name}\")\n"
   ]
  },
  {
   "cell_type": "code",
   "execution_count": 2,
   "metadata": {},
   "outputs": [
    {
     "ename": "IndexError",
     "evalue": "too many indices for array: array is 1-dimensional, but 2 were indexed",
     "output_type": "error",
     "traceback": [
      "\u001b[0;31m---------------------------------------------------------------------------\u001b[0m",
      "\u001b[0;31mIndexError\u001b[0m                                Traceback (most recent call last)",
      "\u001b[1;32m/adhome/p/pm/pmisiuk/Bureau/TP-master/sound_recording.ipynb Cell 2\u001b[0m in \u001b[0;36m<cell line: 16>\u001b[0;34m()\u001b[0m\n\u001b[1;32m     <a href='vscode-notebook-cell:/adhome/p/pm/pmisiuk/Bureau/TP-master/sound_recording.ipynb#W1sZmlsZQ%3D%3D?line=12'>13</a>\u001b[0m N\u001b[39m=\u001b[39m\u001b[39mlen\u001b[39m(data) \u001b[39m#nombre d'échantillions \u001b[39;00m\n\u001b[1;32m     <a href='vscode-notebook-cell:/adhome/p/pm/pmisiuk/Bureau/TP-master/sound_recording.ipynb#W1sZmlsZQ%3D%3D?line=13'>14</a>\u001b[0m n \u001b[39m=\u001b[39m np\u001b[39m.\u001b[39marange(\u001b[39m0\u001b[39m,N)\u001b[39m/\u001b[39m\u001b[39m44100\u001b[39m   \u001b[39m#on divise par la fréquence d'échantillonage pour etre mieux dans l'échelle \u001b[39;00m\n\u001b[0;32m---> <a href='vscode-notebook-cell:/adhome/p/pm/pmisiuk/Bureau/TP-master/sound_recording.ipynb#W1sZmlsZQ%3D%3D?line=15'>16</a>\u001b[0m data_right \u001b[39m=\u001b[39m data[:,\u001b[39m1\u001b[39;49m]\n\u001b[1;32m     <a href='vscode-notebook-cell:/adhome/p/pm/pmisiuk/Bureau/TP-master/sound_recording.ipynb#W1sZmlsZQ%3D%3D?line=16'>17</a>\u001b[0m data_left \u001b[39m=\u001b[39m data[:,\u001b[39m0\u001b[39m]\n\u001b[1;32m     <a href='vscode-notebook-cell:/adhome/p/pm/pmisiuk/Bureau/TP-master/sound_recording.ipynb#W1sZmlsZQ%3D%3D?line=19'>20</a>\u001b[0m \u001b[39m#affichage du channel 1 \u001b[39;00m\n",
      "\u001b[0;31mIndexError\u001b[0m: too many indices for array: array is 1-dimensional, but 2 were indexed"
     ]
    }
   ],
   "source": [
    "#permet d'afficher un son\n",
    "import scipy.io.wavfile\n",
    "import matplotlib.pyplot as plt\n",
    "import numpy as np\n",
    "import sounddevice as sd\n",
    "import numpy as np\n",
    "\n",
    "\n",
    "# Charger le fichier audio\n",
    "rate, data = scipy.io.wavfile.read('enregistrement.wav')\n",
    "\n",
    "\n",
    "N=len(data) #nombre d'échantillions \n",
    "n = np.arange(0,N)/44100   #on divise par la fréquence d'échantillonage pour etre mieux dans l'échelle \n",
    "\n",
    "data_right = data[:,1]\n",
    "data_left = data[:,0]\n",
    "\n",
    "\n",
    "#affichage du channel 1 \n",
    "plt.figure()\n",
    "plt.title(\"Right\")\n",
    "plt.plot(n,data_right)\n",
    "plt.figure()\n",
    "plt.title(\"Left\")\n",
    "plt.plot(n,data_left)\n",
    "\n",
    "\n",
    "\n",
    "\n",
    "#plt.ylim(-10000,10000)\n",
    "plt.show()\n",
    "\n",
    "\n"
   ]
  },
  {
   "cell_type": "code",
   "execution_count": 3,
   "metadata": {},
   "outputs": [
    {
     "name": "stderr",
     "output_type": "stream",
     "text": [
      "Exception in thread Thread-6:\n",
      "Traceback (most recent call last):\n",
      "  File \"/usr/local/anaconda3/lib/python3.9/threading.py\", line 973, in _bootstrap_inner\n",
      "    self.run()\n",
      "  File \"/usr/local/anaconda3/lib/python3.9/threading.py\", line 910, in run\n",
      "    self._target(*self._args, **self._kwargs)\n",
      "  File \"/tmp/ipykernel_80443/924994564.py\", line 24, in record\n",
      "NameError: name 'fs' is not defined\n"
     ]
    },
    {
     "name": "stdout",
     "output_type": "stream",
     "text": [
      "Enregistrement en cours...\n"
     ]
    },
    {
     "name": "stderr",
     "output_type": "stream",
     "text": [
      "ALSA lib pcm.c:8526:(snd_pcm_recover) underrun occurred\n"
     ]
    },
    {
     "name": "stdout",
     "output_type": "stream",
     "text": [
      "Enregistrement terminé.\n"
     ]
    }
   ],
   "source": [
    "import sounddevice as sd\n",
    "import numpy as np\n",
    "import threading\n",
    "import soundfile as sf\n",
    "import wave\n",
    "\n",
    "class Recorder:\n",
    "    def __init__(self, filename):\n",
    "        self.filename = filename\n",
    "        self.frames = []\n",
    "        self.recording = False\n",
    "\n",
    "    def start_recording(self, channels, samplerate):\n",
    "        self.recording = True\n",
    "        self.frames = []\n",
    "        threading.Thread(target=self.record, args=(channels, samplerate)).start()\n",
    "\n",
    "    def stop_recording(self):\n",
    "        self.recording = False\n",
    "      \n",
    "\n",
    "    def record(self, channels, samplerate):\n",
    "        print(\"Enregistrement en cours...\")\n",
    "        recorded_audio = sd.rec(int(5 * samplerate), samplerate=fs, channels=channels)\n",
    "        sd.wait()  # Attendre la fin de l'enregistrement\n",
    "        # Enregistrer les données audio dans un fichier WAV\n",
    "        file_name = \"enregistrement.wav\"\n",
    "        sf.write(file_name, recorded_audio, samplerate, subtype='PCM_16')\n",
    "        \n",
    "\n",
    "    def get_frames(self):\n",
    "        return self.frames\n",
    "\n",
    "def play_sound():\n",
    "    duration = 5.0\n",
    "    samplerate = sd.query_devices('default')['default_samplerate']\n",
    "    samples = int(duration * samplerate)\n",
    "    sound = np.random.randn(samples, 2)\n",
    "    sd.play(sound, samplerate=samplerate)\n",
    "    sd.wait()\n",
    "\n",
    "recorder = Recorder('enregistrement.wav')\n",
    "recorder.start_recording(channels=1, samplerate=44100)\n",
    "\n",
    "play_sound()\n",
    "\n",
    "recorder.stop_recording()\n",
    "frames = recorder.get_frames()\n",
    "\n",
    "print('Enregistrement terminé.')\n"
   ]
  },
  {
   "cell_type": "code",
   "execution_count": 3,
   "metadata": {},
   "outputs": [
    {
     "name": "stdout",
     "output_type": "stream",
     "text": [
      "Enregistrement en cours...\n"
     ]
    },
    {
     "name": "stderr",
     "output_type": "stream",
     "text": [
      "ALSA lib pcm.c:8526:(snd_pcm_recover) underrun occurred\n",
      "ALSA lib pcm.c:8526:(snd_pcm_recover) underrun occurred\n",
      "ALSA lib pcm.c:8526:(snd_pcm_recover) underrun occurred\n",
      "ALSA lib pcm.c:8526:(snd_pcm_recover) underrun occurred\n",
      "ALSA lib pcm.c:8526:(snd_pcm_recover) underrun occurred\n",
      "ALSA lib pcm.c:8526:(snd_pcm_recover) underrun occurred\n",
      "ALSA lib pcm.c:8526:(snd_pcm_recover) underrun occurred\n",
      "ALSA lib pcm.c:8526:(snd_pcm_recover) underrun occurred\n",
      "ALSA lib pcm.c:8526:(snd_pcm_recover) underrun occurred\n",
      "ALSA lib pcm.c:8526:(snd_pcm_recover) underrun occurred\n",
      "ALSA lib pcm.c:8526:(snd_pcm_recover) underrun occurred\n",
      "ALSA lib pcm.c:8526:(snd_pcm_recover) underrun occurred\n",
      "ALSA lib pcm.c:8526:(snd_pcm_recover) underrun occurred\n",
      "ALSA lib pcm.c:8526:(snd_pcm_recover) underrun occurred\n",
      "ALSA lib pcm.c:8526:(snd_pcm_recover) underrun occurred\n",
      "ALSA lib pcm.c:8526:(snd_pcm_recover) underrun occurred\n",
      "ALSA lib pcm.c:8526:(snd_pcm_recover) underrun occurred\n",
      "ALSA lib pcm.c:8526:(snd_pcm_recover) underrun occurred\n",
      "ALSA lib pcm.c:8526:(snd_pcm_recover) underrun occurred\n",
      "ALSA lib pcm.c:8526:(snd_pcm_recover) underrun occurred\n",
      "ALSA lib pcm.c:8526:(snd_pcm_recover) underrun occurred\n",
      "ALSA lib pcm.c:8526:(snd_pcm_recover) underrun occurred\n",
      "ALSA lib pcm.c:8526:(snd_pcm_recover) underrun occurred\n",
      "ALSA lib pcm.c:8526:(snd_pcm_recover) underrun occurred\n",
      "ALSA lib pcm.c:8526:(snd_pcm_recover) underrun occurred\n",
      "ALSA lib pcm.c:8526:(snd_pcm_recover) underrun occurred\n",
      "ALSA lib pcm.c:8526:(snd_pcm_recover) underrun occurred\n",
      "ALSA lib pcm.c:8526:(snd_pcm_recover) underrun occurred\n",
      "ALSA lib pcm.c:8526:(snd_pcm_recover) underrun occurred\n",
      "ALSA lib pcm.c:8526:(snd_pcm_recover) underrun occurred\n",
      "ALSA lib pcm.c:8526:(snd_pcm_recover) underrun occurred\n",
      "ALSA lib pcm.c:8526:(snd_pcm_recover) underrun occurred\n",
      "ALSA lib pcm.c:8526:(snd_pcm_recover) underrun occurred\n",
      "ALSA lib pcm.c:8526:(snd_pcm_recover) underrun occurred\n",
      "ALSA lib pcm.c:8526:(snd_pcm_recover) underrun occurred\n",
      "ALSA lib pcm.c:8526:(snd_pcm_recover) underrun occurred\n",
      "ALSA lib pcm.c:8526:(snd_pcm_recover) underrun occurred\n",
      "ALSA lib pcm.c:8526:(snd_pcm_recover) underrun occurred\n",
      "ALSA lib pcm.c:8526:(snd_pcm_recover) underrun occurred\n",
      "ALSA lib pcm.c:8526:(snd_pcm_recover) underrun occurred\n",
      "ALSA lib pcm.c:8526:(snd_pcm_recover) underrun occurred\n",
      "ALSA lib pcm.c:8526:(snd_pcm_recover) underrun occurred\n",
      "ALSA lib pcm.c:8526:(snd_pcm_recover) underrun occurred\n",
      "ALSA lib pcm.c:8526:(snd_pcm_recover) underrun occurred\n",
      "ALSA lib pcm.c:8526:(snd_pcm_recover) underrun occurred\n",
      "ALSA lib pcm.c:8526:(snd_pcm_recover) underrun occurred\n",
      "ALSA lib pcm.c:8526:(snd_pcm_recover) underrun occurred\n",
      "ALSA lib pcm.c:8526:(snd_pcm_recover) underrun occurred\n",
      "ALSA lib pcm.c:8526:(snd_pcm_recover) underrun occurred\n",
      "ALSA lib pcm.c:8526:(snd_pcm_recover) underrun occurred\n",
      "ALSA lib pcm.c:8526:(snd_pcm_recover) underrun occurred\n",
      "ALSA lib pcm.c:8526:(snd_pcm_recover) underrun occurred\n",
      "ALSA lib pcm.c:8526:(snd_pcm_recover) underrun occurred\n",
      "ALSA lib pcm.c:8526:(snd_pcm_recover) underrun occurred\n",
      "ALSA lib pcm.c:8526:(snd_pcm_recover) underrun occurred\n",
      "ALSA lib pcm.c:8526:(snd_pcm_recover) underrun occurred\n",
      "ALSA lib pcm.c:8526:(snd_pcm_recover) underrun occurred\n",
      "ALSA lib pcm.c:8526:(snd_pcm_recover) underrun occurred\n",
      "ALSA lib pcm.c:8526:(snd_pcm_recover) underrun occurred\n",
      "ALSA lib pcm.c:8526:(snd_pcm_recover) underrun occurred\n",
      "ALSA lib pcm.c:8526:(snd_pcm_recover) underrun occurred\n",
      "ALSA lib pcm.c:8526:(snd_pcm_recover) underrun occurred\n",
      "ALSA lib pcm.c:8526:(snd_pcm_recover) underrun occurred\n",
      "ALSA lib pcm.c:8526:(snd_pcm_recover) underrun occurred\n",
      "ALSA lib pcm.c:8526:(snd_pcm_recover) underrun occurred\n",
      "ALSA lib pcm.c:8526:(snd_pcm_recover) underrun occurred\n",
      "ALSA lib pcm.c:8526:(snd_pcm_recover) underrun occurred\n",
      "ALSA lib pcm.c:8526:(snd_pcm_recover) underrun occurred\n",
      "ALSA lib pcm.c:8526:(snd_pcm_recover) underrun occurred\n",
      "ALSA lib pcm.c:8526:(snd_pcm_recover) underrun occurred\n"
     ]
    },
    {
     "name": "stdout",
     "output_type": "stream",
     "text": [
      "Enregistrement terminé.\n"
     ]
    },
    {
     "name": "stderr",
     "output_type": "stream",
     "text": [
      "ALSA lib pcm.c:8526:(snd_pcm_recover) underrun occurred\n",
      "ALSA lib pcm.c:8526:(snd_pcm_recover) underrun occurred\n",
      "ALSA lib pcm.c:8526:(snd_pcm_recover) underrun occurred\n"
     ]
    },
    {
     "name": "stderr",
     "output_type": "stream",
     "text": [
      "ALSA lib pcm.c:8526:(snd_pcm_recover) underrun occurred\n",
      "ALSA lib pcm.c:8526:(snd_pcm_recover) underrun occurred\n",
      "ALSA lib pcm.c:8526:(snd_pcm_recover) underrun occurred\n"
     ]
    }
   ],
   "source": [
    "import sounddevice as sd\n",
    "import numpy as np\n",
    "import threading\n",
    "import time\n",
    "import wave\n",
    "\n",
    "class Player:\n",
    "    def __init__(self):\n",
    "        self.playing = False\n",
    "    def start_playing(self):\n",
    "        # Générer un tableau de nombres aléatoires entre -1 et 1 pour créer du bruit blanc\n",
    "        self.playing = True\n",
    "    def run(self):\n",
    "        while self.playing is True:\n",
    "            data = np.random.uniform(-1, 1, 44100)\n",
    "            # Jouer le bruit sur le haut-parleur\n",
    "            sd.play(data, 44100)\n",
    "            # Attendre un court instant avant de jouer le bruit suivant\n",
    "            time.sleep(0.1)\n",
    "    def stop_playing(self):\n",
    "        self.playing = False\n",
    "\n",
    "\n",
    "# Lancer le thread pour jouer le bruit blanc en arrière-plan\n",
    "player = Player()\n",
    "\n",
    "# Enregistrer le son du micro dans un fichier \"enregistrement.wav\"\n",
    "duration = 5 # Durée d'enregistrement en secondes\n",
    "fs = 44100 # Fréquence d'échantillonnage\n",
    "player.start_playing()\n",
    "t1=threading.Thread(target=player.run)\n",
    "t1.setDaemon(True)\n",
    "t1.start()\n",
    "print(\"Enregistrement en cours...\")\n",
    "recording = sd.rec(int(duration * fs), samplerate=fs, channels=2)\n",
    "sd.wait()\n",
    "print(\"Enregistrement terminé.\")\n",
    "player.stop_playing()\n",
    "# Enregistrer les données d'enregistrement dans un fichier \"enregistrement.wav\"\n",
    "with wave.open(\"enregistrement.wav\", \"wb\") as f:\n",
    "    f.setnchannels(2)\n",
    "    f.setsampwidth(2)\n",
    "    f.setframerate(fs)\n",
    "    f.writeframes(b\"\".join([np.array(recording[:, 0], dtype=np.int16).tobytes()]))\n"
   ]
  }
 ],
 "metadata": {
  "kernelspec": {
   "display_name": "Python 3.9.12 ('base')",
   "language": "python",
   "name": "python3"
  },
  "language_info": {
   "codemirror_mode": {
    "name": "ipython",
    "version": 3
   },
   "file_extension": ".py",
   "mimetype": "text/x-python",
   "name": "python",
   "nbconvert_exporter": "python",
   "pygments_lexer": "ipython3",
   "version": "3.9.12"
  },
  "orig_nbformat": 4,
  "vscode": {
   "interpreter": {
    "hash": "3067ead486e059ec00ffe7555bdb889e6e264a24dc711bf108106cc7baee8d5d"
   }
  }
 },
 "nbformat": 4,
 "nbformat_minor": 2
}
