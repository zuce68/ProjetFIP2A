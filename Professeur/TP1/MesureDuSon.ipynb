{
 "cells": [
  {
   "cell_type": "markdown",
   "metadata": {},
   "source": [
    "### TP : Traitement du Signal\n",
    "## Objectif\n",
    "\n",
    "L'objectif de ce TP est de mesurer la vitesse du son en utilisant le matériel fourni.\n",
    "\n",
    "## Matériel\n",
    "\n",
    "- Haut-parleur\n",
    "- Deux microphones\n",
    "- Ordinateur avec Python et Jupyter Notebook installés\n",
    "\n",
    "## Questions\n",
    "\n",
    "1. Comment peut-on mesurer la vitesse du son ?\n",
    "2. Comment isoler le signal émis par l'haut-parleur et comment peut-on minimiser les bruits captés par les microphones ?\n",
    "3. Utiliser les différents signaux afin de déduire lequel est le plus qualitatif.\n",
    "\n",
    "## Code\n",
    "\n",
    "Voici le code Python à utiliser pour générer les signaux et enregistrer le son :\n",
    "\n",
    "```\n",
    "# Importer les bibliothèques nécessaires\n",
    "# Gestion du son\n",
    "import sounddevice as sd\n",
    "import soundfile as sf\n",
    "# Bibliothèques pour analyse traitement du signal\n",
    "import scipy.io.wavfile\n",
    "import matplotlib.pyplot as plt\n",
    "import numpy as np\n",
    "#Bibliothèques pour générer, acquérir les sons\n",
    "import traitesignfip\n",
    "\n",
    "\n",
    "traitesignfip.record_microphone(\"noise\") #Acquisition du son des microphones durant 5 secondes, l'haut-parleur émet le son passé en argument pendant 1 seconde\n",
    "\n",
    "left,right = traitesignfip.read_signal('enregistrement.wav')\n",
    "\n",
    "#La ligne ci-dessus permet de séparer les deux canaux (Left and Right) car chacun des 2 micros enregistre sur un canal différent. \n",
    "#Ainsi deux tableaux permettent de traiter les valeurs de chaque micro. (Tableaux 'left' et 'right')\n",
    "```\n"
   ]
  },
  {
   "cell_type": "markdown",
   "metadata": {},
   "source": [
    "# Code python permettant de réaliser la mesure du son"
   ]
  },
  {
   "cell_type": "code",
   "execution_count": 1,
   "metadata": {},
   "outputs": [
    {
     "ename": "ModuleNotFoundError",
     "evalue": "No module named 'traitesignfip'",
     "output_type": "error",
     "traceback": [
      "\u001b[0;31m---------------------------------------------------------------------------\u001b[0m",
      "\u001b[0;31mModuleNotFoundError\u001b[0m                       Traceback (most recent call last)",
      "\u001b[1;32m/adhome/p/pm/pmisiuk/ProjetFIP2A/Professeur/TP1/MesureDuSon.ipynb Cell 3\u001b[0m in \u001b[0;36m<cell line: 10>\u001b[0;34m()\u001b[0m\n\u001b[1;32m      <a href='vscode-notebook-cell:/adhome/p/pm/pmisiuk/ProjetFIP2A/Professeur/TP1/MesureDuSon.ipynb#W3sZmlsZQ%3D%3D?line=7'>8</a>\u001b[0m \u001b[39mimport\u001b[39;00m \u001b[39mnumpy\u001b[39;00m \u001b[39mas\u001b[39;00m \u001b[39mnp\u001b[39;00m\n\u001b[1;32m      <a href='vscode-notebook-cell:/adhome/p/pm/pmisiuk/ProjetFIP2A/Professeur/TP1/MesureDuSon.ipynb#W3sZmlsZQ%3D%3D?line=8'>9</a>\u001b[0m \u001b[39m#Bibliothèques pour générer, acquérir les sons\u001b[39;00m\n\u001b[0;32m---> <a href='vscode-notebook-cell:/adhome/p/pm/pmisiuk/ProjetFIP2A/Professeur/TP1/MesureDuSon.ipynb#W3sZmlsZQ%3D%3D?line=9'>10</a>\u001b[0m \u001b[39mimport\u001b[39;00m \u001b[39mtraitesignfip\u001b[39;00m\n\u001b[1;32m     <a href='vscode-notebook-cell:/adhome/p/pm/pmisiuk/ProjetFIP2A/Professeur/TP1/MesureDuSon.ipynb#W3sZmlsZQ%3D%3D?line=10'>11</a>\u001b[0m \u001b[39mfrom\u001b[39;00m \u001b[39mimportlib\u001b[39;00m \u001b[39mimport\u001b[39;00m reload\n\u001b[1;32m     <a href='vscode-notebook-cell:/adhome/p/pm/pmisiuk/ProjetFIP2A/Professeur/TP1/MesureDuSon.ipynb#W3sZmlsZQ%3D%3D?line=11'>12</a>\u001b[0m reload(traitesignfip)\n",
      "\u001b[0;31mModuleNotFoundError\u001b[0m: No module named 'traitesignfip'"
     ]
    }
   ],
   "source": [
    "# Importer les bibliothèques nécessaires\n",
    "# Gestion du son\n",
    "import sounddevice as sd\n",
    "import soundfile as sf\n",
    "# Bibliothèques pour analyse traitement du signal\n",
    "import scipy.io.wavfile\n",
    "import matplotlib.pyplot as plt\n",
    "import numpy as np\n",
    "#Bibliothèques pour générer, acquérir les sons\n",
    "import traitesignfip\n",
    "from importlib import reload\n",
    "reload(traitesignfip)\n",
    "\n",
    "traitesignfip.record_microphone(\"sinus\",3)\n",
    "\n",
    "data_left, data_right = traitesignfip.read_signal('enregistrement.wav')\n",
    "\n",
    "fs = 44100 # fréquence d'échantillonage\n",
    "N=len(data_left) #nombre d'échantillions \n",
    "n = np.arange(0,N)/fs   #on divise par la fréquence d'échantillonage pour etre mieux dans l'échelle \n",
    "\n",
    "distance=0.80#Distance entre les deux micros en mètre\n",
    "\n",
    "#affichage du channel 1 \n",
    "plt.figure()\n",
    "plt.title(\"Right\")\n",
    "plt.plot(n,data_right)\n",
    "plt.figure()\n",
    "plt.title(\"Left\")\n",
    "plt.plot(n,data_left)\n",
    "\n",
    "corrLeft=np.correlate(data_left,traitesignfip.samples, mode='same')\n",
    "corrRight=np.correlate(data_right,traitesignfip.samples, mode='same')\n",
    "# Calcul de la corrélation croisée entre les deux signaux\n",
    "\n",
    "plt.figure()\n",
    "plt.title(\"CorrelLeft\")\n",
    "plt.plot(n,corrLeft)\n",
    "#Intercorrélation gauche \n",
    "plt.figure()\n",
    "plt.title(\"CorrelRight\")\n",
    "plt.plot(n,corrRight)\n",
    "#Intercorrélation droite \n",
    "\n",
    "# Trouver l'indice du maximum de la corrélation\n",
    "max_index_Left = np.argmax(corrLeft)/fs\n",
    "max_index_Right = np.argmax(corrRight)/fs\n",
    "\n",
    "delta_t = delta = np.abs(max_index_Left - max_index_Right)\n",
    "\n",
    "print(\"Temps PIC Gauche : \"+str(max_index_Left))\n",
    "print(\"Temps PIC Droit : \"+str(max_index_Right))\n",
    "\n",
    "print(\"Delta : \"+str(delta_t))\n",
    "print(\"Vitesse : \"+str(distance/delta_t)+\" m/s\")\n"
   ]
  },
  {
   "cell_type": "code",
   "execution_count": 29,
   "metadata": {},
   "outputs": [
    {
     "name": "stdout",
     "output_type": "stream",
     "text": [
      "Temps PIC Gauche : 3.506235827664399\n",
      "Temps PIC Droit : 3.506235827664399\n",
      "Delta : 0.0\n",
      "Vitesse : inf m/s\n"
     ]
    },
    {
     "name": "stderr",
     "output_type": "stream",
     "text": [
      "/tmp/ipykernel_33038/3161309212.py:40: RuntimeWarning: divide by zero encountered in double_scalars\n",
      "  print(\"Vitesse : \"+str(distance/delta_t)+\" m/s\")\n",
      "/tmp/ipykernel_33038/3161309212.py:41: RuntimeWarning: divide by zero encountered in double_scalars\n",
      "  vitesse_moyenne+=distance/delta_t\n",
      "ALSA lib pcm.c:8526:(snd_pcm_recover) underrun occurred\n",
      "ALSA lib pcm.c:8526:(snd_pcm_recover) underrun occurred\n",
      "ALSA lib pcm.c:8526:(snd_pcm_recover) underrun occurred\n",
      "ALSA lib pcm.c:8526:(snd_pcm_recover) underrun occurred\n",
      "ALSA lib pcm.c:8526:(snd_pcm_recover) underrun occurred\n",
      "ALSA lib pcm.c:8526:(snd_pcm_recover) underrun occurred\n",
      "ALSA lib pcm.c:8526:(snd_pcm_recover) underrun occurred\n",
      "ALSA lib pcm.c:8526:(snd_pcm_recover) underrun occurred\n",
      "ALSA lib pcm.c:8526:(snd_pcm_recover) underrun occurred\n",
      "ALSA lib pcm.c:8526:(snd_pcm_recover) underrun occurred\n",
      "ALSA lib pcm.c:8526:(snd_pcm_recover) underrun occurred\n",
      "ALSA lib pcm.c:8526:(snd_pcm_recover) underrun occurred\n",
      "ALSA lib pcm.c:8526:(snd_pcm_recover) underrun occurred\n",
      "ALSA lib pcm.c:8526:(snd_pcm_recover) underrun occurred\n",
      "ALSA lib pcm.c:8526:(snd_pcm_recover) underrun occurred\n",
      "ALSA lib pcm.c:8526:(snd_pcm_recover) underrun occurred\n",
      "ALSA lib pcm.c:8526:(snd_pcm_recover) underrun occurred\n",
      "ALSA lib pcm.c:8526:(snd_pcm_recover) underrun occurred\n",
      "ALSA lib pcm.c:8526:(snd_pcm_recover) underrun occurred\n",
      "ALSA lib pcm.c:8526:(snd_pcm_recover) underrun occurred\n",
      "ALSA lib pcm.c:8526:(snd_pcm_recover) underrun occurred\n"
     ]
    },
    {
     "name": "stdout",
     "output_type": "stream",
     "text": [
      "Temps PIC Gauche : 3.3322448979591837\n",
      "Temps PIC Droit : 3.3322448979591837\n",
      "Delta : 0.0\n",
      "Vitesse : inf m/s\n"
     ]
    },
    {
     "name": "stderr",
     "output_type": "stream",
     "text": [
      "ALSA lib pcm.c:8526:(snd_pcm_recover) underrun occurred\n",
      "ALSA lib pcm.c:8526:(snd_pcm_recover) underrun occurred\n",
      "ALSA lib pcm.c:8526:(snd_pcm_recover) underrun occurred\n",
      "ALSA lib pcm.c:8526:(snd_pcm_recover) underrun occurred\n",
      "ALSA lib pcm.c:8526:(snd_pcm_recover) underrun occurred\n",
      "ALSA lib pcm.c:8526:(snd_pcm_recover) underrun occurred\n",
      "ALSA lib pcm.c:8526:(snd_pcm_recover) underrun occurred\n",
      "ALSA lib pcm.c:8526:(snd_pcm_recover) underrun occurred\n",
      "ALSA lib pcm.c:8526:(snd_pcm_recover) underrun occurred\n",
      "ALSA lib pcm.c:8526:(snd_pcm_recover) underrun occurred\n",
      "ALSA lib pcm.c:8526:(snd_pcm_recover) underrun occurred\n",
      "ALSA lib pcm.c:8526:(snd_pcm_recover) underrun occurred\n",
      "ALSA lib pcm.c:8526:(snd_pcm_recover) underrun occurred\n",
      "ALSA lib pcm.c:8526:(snd_pcm_recover) underrun occurred\n",
      "ALSA lib pcm.c:8526:(snd_pcm_recover) underrun occurred\n",
      "ALSA lib pcm.c:8526:(snd_pcm_recover) underrun occurred\n",
      "ALSA lib pcm.c:8526:(snd_pcm_recover) underrun occurred\n",
      "ALSA lib pcm.c:8526:(snd_pcm_recover) underrun occurred\n"
     ]
    },
    {
     "name": "stdout",
     "output_type": "stream",
     "text": [
      "Temps PIC Gauche : 3.3515873015873017\n",
      "Temps PIC Droit : 3.3515873015873017\n",
      "Delta : 0.0\n",
      "Vitesse : inf m/s\n",
      "Vitesse moyenne Noise 2 seconde : inf\n"
     ]
    }
   ],
   "source": [
    "# Importer les bibliothèques nécessaires\n",
    "# Gestion du son\n",
    "import sounddevice as sd\n",
    "import soundfile as sf\n",
    "# Bibliothèques pour analyse traitement du signal\n",
    "import scipy.io.wavfile\n",
    "import matplotlib.pyplot as plt\n",
    "import numpy as np\n",
    "#Bibliothèques pour générer, acquérir les sons\n",
    "import traitesignfip\n",
    "from importlib import reload\n",
    "reload(traitesignfip)\n",
    "vitesse_moyenne=0\n",
    "\n",
    "for x in range(3):\n",
    "    traitesignfip.record_microphone(\"noise\",3)\n",
    "\n",
    "    data_left, data_right = traitesignfip.read_signal('enregistrement.wav')\n",
    "\n",
    "    fs = 44100 # fréquence d'échantillonage\n",
    "    N=len(data_left) #nombre d'échantillions \n",
    "    n = np.arange(0,N)/fs   #on divise par la fréquence d'échantillonage pour etre mieux dans l'échelle \n",
    "\n",
    "    distance=0.80#Distance entre les deux micros en mètre\n",
    "\n",
    "    corrLeft=np.correlate(data_left,traitesignfip.samples, mode='same')\n",
    "    corrRight=np.correlate(data_right,traitesignfip.samples, mode='same')\n",
    "    # Calcul de la corrélation croisée entre les deux signaux\n",
    "\n",
    "    # Trouver l'indice du maximum de la corrélation\n",
    "    max_index_Left = np.argmax(corrLeft)/fs\n",
    "    max_index_Right = np.argmax(corrRight)/fs\n",
    "\n",
    "    delta_t  = np.abs(max_index_Left - max_index_Right)\n",
    "\n",
    "    print(\"Temps PIC Gauche : \"+str(max_index_Left))\n",
    "    print(\"Temps PIC Droit : \"+str(max_index_Right))\n",
    "\n",
    "    print(\"Delta : \"+str(delta_t))\n",
    "    print(\"Vitesse : \"+str(distance/delta_t)+\" m/s\")\n",
    "    vitesse_moyenne+=distance/delta_t\n",
    "\n",
    "print(\"Vitesse moyenne Noise 2 seconde : \"+str(vitesse_moyenne/3))"
   ]
  }
 ],
 "metadata": {
  "kernelspec": {
   "display_name": "Python 3.9.12 ('base')",
   "language": "python",
   "name": "python3"
  },
  "language_info": {
   "codemirror_mode": {
    "name": "ipython",
    "version": 3
   },
   "file_extension": ".py",
   "mimetype": "text/x-python",
   "name": "python",
   "nbconvert_exporter": "python",
   "pygments_lexer": "ipython3",
   "version": "3.9.12"
  },
  "orig_nbformat": 4,
  "vscode": {
   "interpreter": {
    "hash": "3067ead486e059ec00ffe7555bdb889e6e264a24dc711bf108106cc7baee8d5d"
   }
  }
 },
 "nbformat": 4,
 "nbformat_minor": 2
}
