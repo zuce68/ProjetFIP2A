{
 "cells": [
  {
   "attachments": {},
   "cell_type": "markdown",
   "metadata": {},
   "source": [
    "# Maquette 2 : correction\n",
    "\n",
    "# Emetteur :\n",
    "\n",
    "## Partie 1 : Installation et configuration du matériel\n",
    "Importation des bibliothèques nécessaires pour le TP"
   ]
  },
  {
   "cell_type": "code",
   "execution_count": null,
   "metadata": {},
   "outputs": [],
   "source": [
    "import numpy as np \n",
    "import comnumfip2 as com2\n",
    "import matplotlib.pyplot as plt\n",
    "import sounddevicecustom as sd_cust"
   ]
  },
  {
   "attachments": {},
   "cell_type": "markdown",
   "metadata": {},
   "source": [
    "Vérification de la configuration de l’émetteur avec le récepteur "
   ]
  },
  {
   "cell_type": "code",
   "execution_count": null,
   "metadata": {},
   "outputs": [],
   "source": [
    "com2.check_config_transmitter()"
   ]
  },
  {
   "attachments": {},
   "cell_type": "markdown",
   "metadata": {},
   "source": [
    "## Partie 2 : Étude de la modulation numérique en bande de base\n",
    "\n",
    "Création du message binaire en codage source ASCII"
   ]
  },
  {
   "cell_type": "code",
   "execution_count": null,
   "metadata": {},
   "outputs": [],
   "source": [
    "#Message sous forme de chaine de caractère\n",
    "message     = \"Lorem Ipsum is simply dummy text of the printing and typesetting industry. Lorem Ipsum has been the industry's standard dummy text ever since the 1500s, when an unknown printer took a galley of type and scrambled it to make a type specimen book. It has survived not only five centuries, but also the leap into electronic typesetting, remaining essentially unchanged. It was popularised in the 1960s with the release of Letraset sheets containing Lorem Ipsum passages, and more recently with desktop publishing software like Aldus PageMaker including versions of Lorem Ipsum.\"\n",
    "#Conversion de la chaîne en ASCII\n",
    "message_bin = com2.string_to_ascii(message)"
   ]
  },
  {
   "attachments": {},
   "cell_type": "markdown",
   "metadata": {},
   "source": [
    "Application des modulation sur le message"
   ]
  },
  {
   "cell_type": "code",
   "execution_count": null,
   "metadata": {},
   "outputs": [],
   "source": [
    "#Génération d'une modulation à partir d'un message binaire\n",
    "signal_NRZ        = com2.nrz_signal_generator(message_bin)\n",
    "signal_Manchester = com2.manchester_signal_generator(message_bin)\n",
    "signal_AMI        = com2.ami_signal_generator(message_bin)"
   ]
  },
  {
   "attachments": {},
   "cell_type": "markdown",
   "metadata": {},
   "source": [
    "Analyse spectrale des modulations"
   ]
  },
  {
   "cell_type": "code",
   "execution_count": null,
   "metadata": {},
   "outputs": [],
   "source": [
    "from scipy import signal\n",
    "\n",
    "def plot_periodogram(x,fs,title):\n",
    "    f, Pxx_den = signal.periodogram(x, fs)\n",
    "    plt.plot(f, Pxx_den) \n",
    "    plt.xlabel('frequency [Hz]')\n",
    "    plt.ylabel('PSD [V**2/Hz]')\n",
    "    plt.title(title)\n",
    "    plt.show()\n",
    "    \n",
    "\n",
    "fe = 44100\n",
    "plot_periodogram(signal_AMI,fe,\"modulation bande de base (AMI)\")\n",
    "plot_periodogram(signal_Manchester,fe,\"modulation bande de base (Manchester)\")\n",
    "plot_periodogram(signal_NRZ,fe,\"modulation bande de base (NRZ)\")"
   ]
  },
  {
   "attachments": {},
   "cell_type": "markdown",
   "metadata": {},
   "source": [
    "<div style=\"text-align:center\">\n",
    "    <img src=\"PeriodogramAMI.png\" width=\"32%\">\n",
    "    <img src=\"PeriodogramMAN.png\" width=\"30%\">\n",
    "    <img src=\"PeriodogramNRZ.png\" width=\"30%\">\n",
    "</div>"
   ]
  },
  {
   "attachments": {},
   "cell_type": "markdown",
   "metadata": {},
   "source": [
    "Remarque : \n",
    "\n",
    "La modulation AMI et la modulation NRZ ont une bande passante plus étroite que la modulation Manchester. Dans de nombreuses applications, il est préférable d'utiliser une bande passante plus étroite pour éviter de gaspiller de la bande passante, car cela peut permettre de transmettre plus de signaux simultanément sur une même fréquence. Cependant, il convient de noter que la largeur de bande n'est pas le seul critère de choix pour la modulation. Chaque méthode de modulation a ses avantages et ses inconvénients en termes de qualité de signal, de tolérance au bruit et de complexité de mise en œuvre."
   ]
  },
  {
   "attachments": {},
   "cell_type": "markdown",
   "metadata": {},
   "source": [
    "Transmission des modulations sur le canal "
   ]
  },
  {
   "cell_type": "code",
   "execution_count": null,
   "metadata": {},
   "outputs": [],
   "source": [
    "#Envoie le signal à la sortie audio de l'ordinateur\n",
    "com2.send_signal_to_canal(signal_NRZ)\n",
    "com2.send_signal_to_canal(signal_Manchester)\n",
    "com2.send_signal_to_canal(signal_AMI)"
   ]
  },
  {
   "attachments": {},
   "cell_type": "markdown",
   "metadata": {},
   "source": [
    "# Récepteur :\n",
    "\n",
    "## Partie 1 : Installation et configuration du matériel\n",
    "\n",
    "Importation des bibliothèques nécessaires pour le TP"
   ]
  },
  {
   "cell_type": "code",
   "execution_count": null,
   "metadata": {},
   "outputs": [],
   "source": [
    "import numpy as np \n",
    "import comnumfip2 as com2\n",
    "import matplotlib.pyplot as plt\n",
    "import sounddevicecustom as sd_cust"
   ]
  },
  {
   "attachments": {},
   "cell_type": "markdown",
   "metadata": {},
   "source": [
    "Initialisation des paramètres de volume"
   ]
  },
  {
   "cell_type": "code",
   "execution_count": null,
   "metadata": {},
   "outputs": [],
   "source": [
    "com2.init_volume()"
   ]
  },
  {
   "attachments": {},
   "cell_type": "markdown",
   "metadata": {},
   "source": [
    "Vérification de la configuration du récepteur avec l’émetteur "
   ]
  },
  {
   "cell_type": "code",
   "execution_count": null,
   "metadata": {},
   "outputs": [],
   "source": [
    "com2.check_config_transmitter()"
   ]
  },
  {
   "attachments": {},
   "cell_type": "markdown",
   "metadata": {},
   "source": [
    "## Partie 2 : Étude de la modulation numérique en bande de bas\n",
    "\n",
    "Acquisition d'un signal en modulation NRZ"
   ]
  },
  {
   "cell_type": "code",
   "execution_count": null,
   "metadata": {},
   "outputs": [],
   "source": [
    "#Enregistre le signal à l'entrée audio de l'ordinateur\n",
    "t_NRZ,signal_NRZ = com2.acquire_signal(44100,3)"
   ]
  },
  {
   "attachments": {},
   "cell_type": "markdown",
   "metadata": {},
   "source": [
    "Acquisition d'un signal en modulation AMI"
   ]
  },
  {
   "cell_type": "code",
   "execution_count": 2,
   "metadata": {},
   "outputs": [],
   "source": [
    "#Enregistre le signal à l'entrée audio de l'ordinateur\n",
    "t_AMI,signal_AMI = com2.acquire_signal(44100,3)"
   ]
  },
  {
   "attachments": {},
   "cell_type": "markdown",
   "metadata": {},
   "source": [
    "Acquisition d'un signal en modulation Manchester"
   ]
  },
  {
   "cell_type": "code",
   "execution_count": null,
   "metadata": {},
   "outputs": [],
   "source": [
    "#Enregistre le signal à l'entrée audio de l'ordinateur\n",
    "t_MAN,signal_Manchester = com2.acquire_signal(44100,3)"
   ]
  },
  {
   "attachments": {},
   "cell_type": "markdown",
   "metadata": {},
   "source": [
    "Affichage des modulations"
   ]
  },
  {
   "cell_type": "code",
   "execution_count": null,
   "metadata": {},
   "outputs": [],
   "source": [
    "\n",
    "plt.figure()\n",
    "plt.title(\"NRZ\")\n",
    "plt.plot(t_NRZ,signal_NRZ)\n",
    "plt.xlabel('Temps (s)')\n",
    "plt.ylabel('Amplitude')\n",
    "plt.show()\n",
    "\n",
    "plt.figure()\n",
    "plt.title(\"AMI\")\n",
    "plt.plot(t_AMI,signal_AMI)\n",
    "plt.xlabel('Temps (s)')\n",
    "plt.ylabel('Amplitude')\n",
    "plt.show()\n",
    "\n",
    "plt.figure()\n",
    "plt.title(\"Manchester\")\n",
    "plt.plot(t_MAN,signal_Manchester)\n",
    "plt.xlabel('Temps (s)')\n",
    "plt.ylabel('Amplitude')\n",
    "plt.show()"
   ]
  },
  {
   "attachments": {},
   "cell_type": "markdown",
   "metadata": {},
   "source": [
    "<div style=\"text-align:center\">\n",
    "    <img src=\"signalNRZ.png\" width=\"30%\">\n",
    "    <img src=\"signalAMI.png\" width=\"30%\">\n",
    "    <img src=\"signalMAN.png\" width=\"30%\">\n",
    "</div>"
   ]
  },
  {
   "attachments": {},
   "cell_type": "markdown",
   "metadata": {},
   "source": [
    "Suppression des bit de start et de stop"
   ]
  },
  {
   "cell_type": "code",
   "execution_count": null,
   "metadata": {},
   "outputs": [],
   "source": [
    "#Supprime les bits de start et stop et conserve uniquement le message\n",
    "t_NRZ, signal_NRZ        = com2.get_message_from_signal(signal_NRZ,0.5)\n",
    "t_AMI, signal_AMI        = com2.get_message_from_signal(signal_AMI,0.5)\n",
    "t_Man, signal_Manchester = com2.get_message_from_signal(signal_Manchester,0.5)"
   ]
  },
  {
   "attachments": {},
   "cell_type": "markdown",
   "metadata": {},
   "source": [
    "Échantillonnage et seuillage des signaux"
   ]
  },
  {
   "cell_type": "code",
   "execution_count": null,
   "metadata": {},
   "outputs": [],
   "source": [
    "#Echantillone et seuil le signal en réglant le seuil et le décalage d'échantillonnage\n",
    "NRZ_sampled        = com2.sample_and_threshold_NRZ(signal_NRZ,0,0)\n",
    "AMI_sampled        = com2.sample_and_threshold_AMI(signal_AMI,0.5,0)\n",
    "Manchester_sampled = com2.sample_and_threshold_Manchester(signal_Manchester,0.5,0)"
   ]
  },
  {
   "attachments": {},
   "cell_type": "markdown",
   "metadata": {},
   "source": [
    "Décodage du signal et affichage du message reçu"
   ]
  },
  {
   "cell_type": "code",
   "execution_count": null,
   "metadata": {},
   "outputs": [],
   "source": [
    "message_nrz        = com2.bin2ascii(NRZ_sampled)\n",
    "message_Manchester = com2.bin2ascii(Manchester_sampled)\n",
    "message_AMI        = com2.bin2ascii(AMI_sampled)\n",
    "\n",
    "print(f\"NRZ = {message_nrz}\")\n",
    "print(f\"AMI = {message_AMI}\")\n",
    "print(f\"Manchester = {message_Manchester}\")\n"
   ]
  },
  {
   "attachments": {},
   "cell_type": "markdown",
   "metadata": {},
   "source": [
    "Sortie console :\n",
    "\n",
    "NRZ = Lorem Ipsum is simply dummy text of the printing and typesetting industry. Lorem Ipsum has been the industry's standard dummy text ever since the 1500s, when an unknown printer took a galley of type and scrambled it to make a type specimen book. It has survived not only five centuries, but also the leap into electronic typesetting, remaining essentially unchanged. It was popularised in the 1960s with the release of Letraset sheets containing Lorem Ipsum passages, and more recently with desktop publishing software like Aldus PageMaker including versions of Lorem Ipsum.\n",
    "\n",
    "AMI = Lorem Ipsum is simply dummy text of the printing and typesetting industry. Lorem Ipsum has been the industry's standard dummy text ever since the 1500s, when an unknown printer took a galley of type and scrambled it to make a type specimen book. It has survived not only five centuries, but also the leap into electronic typesetting, remaining essentially unchanged. It was popularised in the 1960s with the release of Letraset sheets containing Lorem Ipsum passages, and more recently with desktop publishing software like Aldus PageMaker including versions of Lorem Ipsum.\n",
    "\n",
    "Manchester = Lorem Ipsum is simply dummy text of the printing and typesetting industry. Lorem Ipsum has been the industry's standard dummy text ever since the 1500s, when an unknown printer took a galley of type and scrambled it to make a type specimen book. It has survived not only five centuries, but also the leap into electronic typesetting, remaining essentially unchanged. It was popularised in the 1960s with the release of Letraset sheets containing Lorem Ipsum passages, and more recently with desktop publishing software like Aldus PageMaker including versions of Lorem Ipsum."
   ]
  },
  {
   "attachments": {},
   "cell_type": "markdown",
   "metadata": {},
   "source": [
    "\n",
    "\n",
    "Vérification de la robustesse face à l’inversion de polarité"
   ]
  },
  {
   "attachments": {},
   "cell_type": "markdown",
   "metadata": {},
   "source": [
    "Acquisition d'un signal dont la polarité est inversée en modulation NRZ"
   ]
  },
  {
   "cell_type": "code",
   "execution_count": null,
   "metadata": {},
   "outputs": [],
   "source": [
    "#Enregistre le signal à l'entrée audio de l'ordinateur\n",
    "t_NRZ,signal_NRZ_INV = com2.acquire_signal(44100,3)"
   ]
  },
  {
   "attachments": {},
   "cell_type": "markdown",
   "metadata": {},
   "source": [
    "Acquisition d'un signal dont la polarité est inversée en modulation AMI"
   ]
  },
  {
   "cell_type": "code",
   "execution_count": null,
   "metadata": {},
   "outputs": [],
   "source": [
    "#Enregistre le signal à l'entrée audio de l'ordinateur\n",
    "t_AMI,signal_AMI_INV = com2.acquire_signal(44100,3)"
   ]
  },
  {
   "attachments": {},
   "cell_type": "markdown",
   "metadata": {},
   "source": [
    "Acquisition d'un signal dont la polarité est inversée en modulation Manchester"
   ]
  },
  {
   "cell_type": "code",
   "execution_count": null,
   "metadata": {},
   "outputs": [],
   "source": [
    "#Enregistre le signal à l'entrée audio de l'ordinateur\n",
    "t_MAN,signal_Manchester_INV = com2.acquire_signal(44100,3)"
   ]
  },
  {
   "attachments": {},
   "cell_type": "markdown",
   "metadata": {},
   "source": [
    "Affichage des modulations "
   ]
  },
  {
   "cell_type": "code",
   "execution_count": null,
   "metadata": {},
   "outputs": [],
   "source": [
    "\n",
    "plt.figure()\n",
    "plt.title(\"NRZ\")\n",
    "plt.plot(t_NRZ,signal_NRZ_INV)\n",
    "plt.xlabel('Temps (s)')\n",
    "plt.ylabel('Amplitude')\n",
    "plt.show()\n",
    "\n",
    "plt.figure()\n",
    "plt.title(\"AMI\")\n",
    "plt.plot(t_AMI,signal_AMI_INV)\n",
    "plt.xlabel('Temps (s)')\n",
    "plt.ylabel('Amplitude')\n",
    "plt.show()\n",
    "\n",
    "plt.figure()\n",
    "plt.title(\"Manchester\")\n",
    "plt.plot(t_MAN,signal_Manchester_INV)\n",
    "plt.xlabel('Temps (s)')\n",
    "plt.ylabel('Amplitude')\n",
    "plt.show()"
   ]
  },
  {
   "attachments": {},
   "cell_type": "markdown",
   "metadata": {},
   "source": [
    "<div style=\"text-align:center\">\n",
    "    <img src=\"SignalNRZInv.png\" width=\"30%\">\n",
    "    <img src=\"SignalAMIInv.png\" width=\"30%\">\n",
    "    <img src=\"SignalMANInv.png\" width=\"30%\">\n",
    "</div>"
   ]
  },
  {
   "attachments": {},
   "cell_type": "markdown",
   "metadata": {},
   "source": [
    "Suppression des bit de start et stop "
   ]
  },
  {
   "cell_type": "code",
   "execution_count": null,
   "metadata": {},
   "outputs": [],
   "source": [
    "#Supprime les bits de start et stop et conserve uniquement le message\n",
    "t_NRZ, signal_NRZ_INV        = com2.get_message_from_signal(signal_NRZ_INV,0.5)\n",
    "t_AMI, signal_AMI_INV        = com2.get_message_from_signal(signal_AMI_INV,0.5)\n",
    "t_Man, signal_Manchester_INV = com2.get_message_from_signal(signal_Manchester_INV,0.5)"
   ]
  },
  {
   "attachments": {},
   "cell_type": "markdown",
   "metadata": {},
   "source": [
    "Échantillonnage et seuillage des signaux"
   ]
  },
  {
   "cell_type": "code",
   "execution_count": null,
   "metadata": {},
   "outputs": [],
   "source": [
    "#Echantillone et seuil le signal en réglant le seuil et le décalage d'échantillonnage\n",
    "NRZ_INV_sampled        = com2.sample_and_threshold_NRZ(signal_NRZ_INV,0.5,0)\n",
    "AMI_INV_sampled        = com2.sample_and_threshold_AMI(signal_AMI_INV,0.5,0)\n",
    "Manchester_INV_sampled = com2.sample_and_threshold_Manchester( signal_Manchester_INV,0.5,0)"
   ]
  },
  {
   "attachments": {},
   "cell_type": "markdown",
   "metadata": {},
   "source": [
    "Décodage du signal et affichage du message reçu"
   ]
  },
  {
   "cell_type": "code",
   "execution_count": null,
   "metadata": {},
   "outputs": [],
   "source": [
    "message_nrz = com2.bin2ascii(NRZ_sampled)\n",
    "message_Manchester = com2.bin2ascii(Manchester_sampled)\n",
    "message_AMI = com2.bin2ascii(AMI_sampled)\n",
    "\n",
    "print(f\"NRZ = {message_nrz}\")\n",
    "print(f\"AMI = {message_AMI}\")\n",
    "print(f\"Manchester = {message_Manchester}\")"
   ]
  },
  {
   "attachments": {},
   "cell_type": "markdown",
   "metadata": {},
   "source": [
    "Sortie console :\n",
    "\n",
    "NRZ =\n",
    "³ß¶ßßßßßßßßßßÑß³ß¶ßßßßØßßßßßßßÎÊÏÏÓßßßßßßßßßßßßßßßßßßÑß¶ßßßßßßÓßßßßßßßÓßßßÑß¶ßßßßßÎÆÉÏßßßßß³ßßß³ß¶ßÓßßßßßßßßß¾ß¯²ßßßß³ß¶Ñ\n",
    "\n",
    "AMI = Lorem Ipsum is simply dummy text of the printing and typesetting industry. Lorem Ipsum has been the industry's standard dummy text ever since the 1500s, when an unknown printer took a galley of type and scrambled it to make a type specimen book. It has survived not only five centuries, but also the leap into electronic typesetting, remaining essentially unchanged. It was popularised in the 1960s with the release of Letraset sheets containing Lorem Ipsum passages, and more recently with desktop publishing software like Aldus PageMaker including versions of Lorem Ipsum.\n",
    "\n",
    "Manchester = ³ß¶ßßßßßßßßßßÑß³ß¶ßßßßØßßßßßßßÎÊÏÏÓßßßßßßßßßßßßßßßßßßÑß¶ßßßßßßÓßßßßßßßÓßßßÑß¶ßßßßßÎÆÉÏßßßßß³ßßß³ß¶ßÓßßßßßßßßß¾ß¯²ßßßß³ß¶Ñ"
   ]
  },
  {
   "attachments": {},
   "cell_type": "markdown",
   "metadata": {},
   "source": [
    "## 2.2 Source réelle simulée\n",
    "\n",
    "### 2.2.1 Source en présence d’un filtre passe-bas\n",
    "\n",
    "Activation du filtre 1 de la boîte \"canal FIP”\n",
    "\n",
    "Acquisition d'un signal en modulation NRZ avec le filtre 1 activé"
   ]
  },
  {
   "cell_type": "code",
   "execution_count": null,
   "metadata": {},
   "outputs": [],
   "source": [
    "#Enregistre le signal à l'entrée audio de l'ordinateur\n",
    "t_NRZ,signal_NRZ_FIR1 = com2.acquire_signal(44100,3)"
   ]
  },
  {
   "attachments": {},
   "cell_type": "markdown",
   "metadata": {},
   "source": [
    "Acquisition d'un signal en modulation AMI avec le filtre 1 activé"
   ]
  },
  {
   "cell_type": "code",
   "execution_count": null,
   "metadata": {},
   "outputs": [],
   "source": [
    "#Enregistre le signal à l'entrée audio de l'ordinateur\n",
    "t_AMI,signal_AMI_FIR1 = com2.acquire_signal(44100,3)"
   ]
  },
  {
   "attachments": {},
   "cell_type": "markdown",
   "metadata": {},
   "source": [
    "Acquisition d'un signal en modulation Manchester avec le filtre 1 activé"
   ]
  },
  {
   "cell_type": "code",
   "execution_count": null,
   "metadata": {},
   "outputs": [],
   "source": [
    "#Enregistre le signal à l'entrée audio de l'ordinateur\n",
    "t_MAN,signal_Manchester_FIR1 = com2.acquire_signal(44100,3)"
   ]
  },
  {
   "attachments": {},
   "cell_type": "markdown",
   "metadata": {},
   "source": [
    "Affichage de la modulation, ici si vous voulez voir les effets du filtre, vous devez zoomer sur le signal"
   ]
  },
  {
   "cell_type": "code",
   "execution_count": null,
   "metadata": {},
   "outputs": [],
   "source": [
    "plt.figure()\n",
    "plt.title(\"NRZ\")\n",
    "plt.plot(t_NRZ,signal_NRZ_FIR1)\n",
    "plt.xlabel('Temps (s)')\n",
    "plt.ylabel('Amplitude')\n",
    "plt.xlim(0.5,0.51)\n",
    "plt.show()\n",
    "\n",
    "plt.figure()\n",
    "plt.title(\"AMI\")\n",
    "plt.plot(t_AMI,signal_AMI_FIR1)\n",
    "plt.xlabel('Temps (s)')\n",
    "plt.ylabel('Amplitude')\n",
    "plt.xlim(0.5,0.51)\n",
    "plt.show()\n",
    "\n",
    "plt.figure()\n",
    "plt.title(\"Manchester\")\n",
    "plt.plot(t_MAN,signal_Manchester_FIR1)\n",
    "plt.xlabel('Temps (s)')\n",
    "plt.ylabel('Amplitude')\n",
    "plt.xlim(0.5,0.51)\n",
    "plt.show()"
   ]
  },
  {
   "attachments": {},
   "cell_type": "markdown",
   "metadata": {},
   "source": [
    "<div style=\"text-align:center\">\n",
    "    <img src=\"SignalNRZFIR1.png\" width=\"30%\">\n",
    "    <img src=\"SignalAMIFIR1.png\" width=\"30%\">\n",
    "    <img src=\"SignalMANFIR1.png\" width=\"30%\">\n",
    "</div>"
   ]
  },
  {
   "attachments": {},
   "cell_type": "markdown",
   "metadata": {},
   "source": [
    "Suppression des bit de start et stop "
   ]
  },
  {
   "cell_type": "code",
   "execution_count": null,
   "metadata": {},
   "outputs": [],
   "source": [
    "#Supprime les bits de start et stop et conserve uniquement le message\n",
    "t_NRZ, signal_NRZ_FIR1         = com2.get_message_from_signal(signal_NRZ_FIR1,0.5)\n",
    "t_AMI, signal_AMI_FIR1         = com2.get_message_from_signal(signal_AMI_FIR1,0.5)\n",
    "t_Man, signal_Manchester_FIR1  = com2.get_message_from_signal(signal_Manchester_FIR1,0.5)"
   ]
  },
  {
   "attachments": {},
   "cell_type": "markdown",
   "metadata": {},
   "source": [
    "Affichage du diagramme de l’œil pour le signal NRZ"
   ]
  },
  {
   "cell_type": "code",
   "execution_count": null,
   "metadata": {},
   "outputs": [],
   "source": [
    "com2.eyediag(t_NRZ,signal_NRZ_FIR1,1/4410,0.5)"
   ]
  },
  {
   "attachments": {},
   "cell_type": "markdown",
   "metadata": {},
   "source": [
    "<div style=\"text-align:center\">\n",
    "    <img src=\"EyeNRZFIR1.png\" width=\"30%\">\n",
    "</div>"
   ]
  },
  {
   "attachments": {},
   "cell_type": "markdown",
   "metadata": {},
   "source": [
    "Affichage du diagramme de l’œil pour le signal AMI"
   ]
  },
  {
   "cell_type": "code",
   "execution_count": null,
   "metadata": {},
   "outputs": [],
   "source": [
    "com2.eyediag(t_AMI,signal_AMI_FIR1,1/4410,0.5)"
   ]
  },
  {
   "attachments": {},
   "cell_type": "markdown",
   "metadata": {},
   "source": [
    "<div style=\"text-align:center\">\n",
    "    <img src=\"EyeAMIFIR1.png\" width=\"30%\">\n",
    "</div>"
   ]
  },
  {
   "attachments": {},
   "cell_type": "markdown",
   "metadata": {},
   "source": [
    "Affichage du diagramme de l’œil pour le signal Manchester"
   ]
  },
  {
   "cell_type": "code",
   "execution_count": null,
   "metadata": {},
   "outputs": [],
   "source": [
    "com2.eyediag(t_AMI,signal_AMI_FIR1,1/4410,0.5)"
   ]
  },
  {
   "attachments": {},
   "cell_type": "markdown",
   "metadata": {},
   "source": [
    "<div style=\"text-align:center\">\n",
    "    <img src=\"EyeMANFIR1.png\" width=\"30%\">\n",
    "</div>"
   ]
  },
  {
   "attachments": {},
   "cell_type": "markdown",
   "metadata": {},
   "source": [
    "Échantillonnage et seuillage des signaux"
   ]
  },
  {
   "cell_type": "code",
   "execution_count": null,
   "metadata": {},
   "outputs": [],
   "source": [
    "#Echantillone et seuil le signal en réglant le seuil et le décalage d'échantillonnage\n",
    "NRZ_sampled        = com2.sample_and_threshold_NRZ(signal_NRZ_FIR1,0,0)\n",
    "AMI_sampled        = com2.sample_and_threshold_AMI(signal_AMI_FIR1,0.5,0)\n",
    "Manchester_sampled = com2.sample_and_threshold_Manchester(signal_Manchester_FIR1,0,0)"
   ]
  },
  {
   "attachments": {},
   "cell_type": "markdown",
   "metadata": {},
   "source": [
    "Décodage du signal et affichage du message reçu"
   ]
  },
  {
   "cell_type": "code",
   "execution_count": null,
   "metadata": {},
   "outputs": [],
   "source": [
    "message_nrz        = com2.bin2ascii(NRZ_sampled)\n",
    "message_Manchester = com2.bin2ascii(Manchester_sampled)\n",
    "message_AMI        = com2.bin2ascii(AMI_sampled)\n",
    "\n",
    "print(f\"NRZ = {message_nrz}\")\n",
    "print(f\"AMI = {message_AMI}\")\n",
    "print(f\"Manchester = {message_Manchester}\")\n"
   ]
  },
  {
   "attachments": {},
   "cell_type": "markdown",
   "metadata": {},
   "source": [
    "Sortie console :\n",
    "\n",
    "NRZ = Lorem Ipsum is simply dummy text of the printing and typesetting industry. Lorem Ipsum has been the industry's standard dummy text ever since the 1500s, when an unknown printer took a galley of type and scrambled it to make a type specimen book. It has survived not only five centuries, but also the leap into electronic typesetting, remaining essentially unchanged. It was popularised in the 1960s with the release of Letraset sheets containing Lorem Ipsum passages, and more recently with desktop publishing software like Aldus PageMaker including versions of Lorem Ipsum.\n",
    "\n",
    "AMI = Lorem Ipsum is simply dummy text of the printing and typesetting industry. Lorem Ipsum has been the industry's standard dummy text ever since the 1500s, when an unknown printer took a galley of type and scrambled it to make a type specimen book. It has survived not only five centuries, but also the leap into electronic typesetting, remaining essentially unchanged. It was popularised in the 1960s with the release of Letraset sheets containing Lorem Ipsum passages, and more recently with desktop publishing software like Aldus PageMaker including versions of Lorem Ipsum.\n",
    "\n",
    "Manchester = MiRem&IWSum'iS'SimWmI'dUmmI'ueKU§if§tke'WRijTije'mjd§TIweSeuTije'ijdUSuRI¦MiRem&IWSum'kmS'jeej§tke'ijdUSuRI%S'Sumjdmrd§dUmmI'ueKU§eveR'Sijke'tke%µ57·S-§Wkej§mj§Ujkjiwj§WRijTeR'tmik'm'emmmeI'if§TIwe'mjd§Skrmmjmed¦iu§ti&mmke'm'TIwe'Swekimej§jmik¦Iu¦kmS'SuRvived§jmu§inmI'five'kejUUrieS-§jUu§mmSi'tke&memw'ijTi'emekuRmnik'TIweSeuTije-§Remmijije'eSsejTimmmI'Ujkkmjeedª¦Iu§WmS'WiWUmmriSed¦ij§tke%µ)6·S'Witi§tke'RememSe'if¦MeuRmSeu§SkeeuS'kmjUmijije&MiRem&IWSum'WmSsmeeS-§mjd¦miRe'RekejTmI'Witi§deSktiW'WUbmiSkije'SifUWmre&mike&MmdUS&SmeeMmkeR&ijkmUdije'veRSiijS'if¦MiRem&IWSum.\n"
   ]
  },
  {
   "attachments": {},
   "cell_type": "markdown",
   "metadata": {},
   "source": [
    "Calcul du taux d’erreur pour chaque modulation"
   ]
  },
  {
   "cell_type": "code",
   "execution_count": null,
   "metadata": {},
   "outputs": [],
   "source": [
    "message_initial     = \"Lorem Ipsum is simply dummy text of the printing and typesetting industry. Lorem Ipsum has been the industry's standard dummy text ever since the 1500s, when an unknown printer took a galley of type and scrambled it to make a type specimen book. It has survived not only five centuries, but also the leap into electronic typesetting, remaining essentially unchanged. It was popularised in the 1960s with the release of Letraset sheets containing Lorem Ipsum passages, and more recently with desktop publishing software like Aldus PageMaker including versions of Lorem Ipsum.\"\n",
    "message_bin_initial = com2.string_to_ascii(message_initial)\n",
    "\n",
    "diff = message_bin_initial - Manchester_sampled\n",
    "nbr_erreur = np.sum(np.abs(diff))\n",
    "pourcentage = nbr_erreur*100/len(message_bin_initial)\n",
    "print(\"nombre d'erreur pour le signal Manchester : \",nbr_erreur)\n",
    "print(\"Pourcentage d'erreur pour le signal Manchester : \",pourcentage,\"%\\n\")\n",
    "\n",
    "\n",
    "diff= message_bin_initial - AMI_sampled\n",
    "nbr_erreur = np.sum(np.abs(diff))\n",
    "pourcentage = nbr_erreur*100/len(message_bin_initial)\n",
    "print(\"nombre d'erreur pour le signal AMI : \",nbr_erreur)\n",
    "print(\"Pourcentage d'erreur pour le signal AMI : \",pourcentage,\"%\\n\")\n",
    "\n",
    "\n",
    "diff= message_bin_initial - NRZ_sampled\n",
    "nbr_erreur = np.sum(np.abs(diff))\n",
    "pourcentage = nbr_erreur*100/len(message_bin_initial)\n",
    "print(\"nombre d'erreur pour le signal NRZ : \",nbr_erreur)\n",
    "print(\"Pourcentage d'erreur pour le signal NRZ : \",pourcentage,\"%\")"
   ]
  },
  {
   "attachments": {},
   "cell_type": "markdown",
   "metadata": {},
   "source": [
    "Sortie console : \n",
    "\n",
    "nombre d'erreur pour le signal Manchester :  731\n",
    "Pourcentage d'erreur pour le signal Manchester :  15.918989547038327 %\n",
    "\n",
    "nombre d'erreur pour le signal AMI :  0\n",
    "Pourcentage d'erreur pour le signal AMI :  0.0 %\n",
    "\n",
    "nombre d'erreur pour le signal NRZ :  0\n",
    "Pourcentage d'erreur pour le signal NRZ :  0.0 %\n",
    "\n",
    "\n",
    "\n"
   ]
  },
  {
   "attachments": {},
   "cell_type": "markdown",
   "metadata": {},
   "source": [
    "Activation du filtre 2 de la boîte \"canal FIP”\n",
    "\n",
    "Acquisition d'un signal en modulation NRZ avec le filtre 2 activé"
   ]
  },
  {
   "cell_type": "code",
   "execution_count": null,
   "metadata": {},
   "outputs": [],
   "source": [
    "#Enregistre le signal à l'entrée audio de l'ordinateur\n",
    "t_NRZ,signal_NRZ_FIR2 = com2.acquire_signal(44100,3)"
   ]
  },
  {
   "attachments": {},
   "cell_type": "markdown",
   "metadata": {},
   "source": [
    "Acquisition d'un signal en modulation AMI avec le filtre 2 activé"
   ]
  },
  {
   "cell_type": "code",
   "execution_count": null,
   "metadata": {},
   "outputs": [],
   "source": [
    "#Enregistre le signal à l'entrée audio de l'ordinateur\n",
    "t_AMI,signal_AMI_FIR2 = com2.acquire_signal(44100,3)"
   ]
  },
  {
   "attachments": {},
   "cell_type": "markdown",
   "metadata": {},
   "source": [
    "Acquisition d'un signal en modulation Manchester avec le filtre 2 activé"
   ]
  },
  {
   "cell_type": "code",
   "execution_count": null,
   "metadata": {},
   "outputs": [],
   "source": [
    "#Enregistre le signal à l'entrée audio de l'ordinateur\n",
    "t_MAN,signal_Manchester_FIR2 = com2.acquire_signal(44100,3)"
   ]
  },
  {
   "attachments": {},
   "cell_type": "markdown",
   "metadata": {},
   "source": [
    "Affichage de la modulation, ici si vous voulez voir les effets du filtre, vous devez zoomer sur le signal."
   ]
  },
  {
   "cell_type": "code",
   "execution_count": null,
   "metadata": {},
   "outputs": [],
   "source": [
    "plt.figure()\n",
    "plt.title(\"NRZ\")\n",
    "plt.plot(t_NRZ,signal_NRZ_FIR2)\n",
    "plt.xlabel('Temps (s)')\n",
    "plt.ylabel('Amplitude')\n",
    "plt.xlim(0.5,0.51)\n",
    "plt.show()\n",
    "\n",
    "plt.figure()\n",
    "plt.title(\"AMI\")\n",
    "plt.plot(t_AMI,signal_AMI_FIR2)\n",
    "plt.xlabel('Temps (s)')\n",
    "plt.ylabel('Amplitude')\n",
    "plt.xlim(0.5,0.51)\n",
    "plt.show()\n",
    "\n",
    "plt.figure()\n",
    "plt.title(\"Manchester\")\n",
    "plt.plot(t_MAN,signal_Manchester_FIR2 )\n",
    "plt.xlabel('Temps (s)')\n",
    "plt.ylabel('Amplitude')\n",
    "plt.xlim(0.5,0.51)\n",
    "plt.show()"
   ]
  },
  {
   "attachments": {},
   "cell_type": "markdown",
   "metadata": {},
   "source": [
    "<div style=\"text-align:center\">\n",
    "    <img src=\"SignalNRZFIR2.png\" width=\"30%\">\n",
    "    <img src=\"SignalAMIFIR2.png\" width=\"30%\">\n",
    "    <img src=\"SignalMANFIR2.png\" width=\"30%\">\n",
    "</div>"
   ]
  },
  {
   "attachments": {},
   "cell_type": "markdown",
   "metadata": {},
   "source": [
    "Suppression des bit de start et de stop "
   ]
  },
  {
   "cell_type": "code",
   "execution_count": null,
   "metadata": {},
   "outputs": [],
   "source": [
    "t_NRZ, signal_NRZ_FIR1         = com2.get_message_from_signal(signal_NRZ_FIR1,0.5)\n",
    "t_AMI, signal_AMI_FIR1         = com2.get_message_from_signal(signal_AMI_FIR1,0.5)\n",
    "t_Man, signal_Manchester_FIR1  = com2.get_message_from_signal(signal_Manchester_FIR1,0.5)"
   ]
  },
  {
   "attachments": {},
   "cell_type": "markdown",
   "metadata": {},
   "source": [
    "Affichage du diagramme de l’œil pour le signal NRZ"
   ]
  },
  {
   "cell_type": "code",
   "execution_count": null,
   "metadata": {},
   "outputs": [],
   "source": [
    "com2.eyediag(t_NRZ,message_NRZ_FIR2,1/4410,0.5)"
   ]
  },
  {
   "attachments": {},
   "cell_type": "markdown",
   "metadata": {},
   "source": [
    "<div style=\"text-align:center\">\n",
    "    <img src=\"EyeNRZFIR2.png\" width=\"30%\">\n",
    "</div>"
   ]
  },
  {
   "attachments": {},
   "cell_type": "markdown",
   "metadata": {},
   "source": [
    "Affichage du diagramme de l’œil pour le signal AMI"
   ]
  },
  {
   "cell_type": "code",
   "execution_count": null,
   "metadata": {},
   "outputs": [],
   "source": [
    "com2.eyediag(t_AMI,message_AMI_FIR2,1/4410,0.5)"
   ]
  },
  {
   "attachments": {},
   "cell_type": "markdown",
   "metadata": {},
   "source": [
    "<div style=\"text-align:center\">\n",
    "    <img src=\"EyeAMIFIR2.png\" width=\"30%\">\n",
    "</div>"
   ]
  },
  {
   "attachments": {},
   "cell_type": "markdown",
   "metadata": {},
   "source": [
    "Affichage du diagramme de l’œil pour le signal Manchester"
   ]
  },
  {
   "cell_type": "code",
   "execution_count": null,
   "metadata": {},
   "outputs": [],
   "source": [
    "com2.eyediag(t_Man,signal_Manchester_FIR1,1/4410,0.5)"
   ]
  },
  {
   "attachments": {},
   "cell_type": "markdown",
   "metadata": {},
   "source": [
    "<div style=\"text-align:center\">\n",
    "    <img src=\"EyeMANFIR2.png\" width=\"30%\">\n",
    "</div>"
   ]
  },
  {
   "attachments": {},
   "cell_type": "markdown",
   "metadata": {},
   "source": [
    "Échantillonnage et seuillage des signaux"
   ]
  },
  {
   "cell_type": "code",
   "execution_count": null,
   "metadata": {},
   "outputs": [],
   "source": [
    "NRZ_sampled        = com2.sample_and_threshold_NRZ(message_NRZ_FIR2,0,0.00005)\n",
    "AMI_sampled        = com2.sample_and_threshold_AMI(message_AMI_FIR2,0.5,0.00005)\n",
    "Manchester_sampled = com2.sample_and_threshold_Manchester(message_Manchester_FIR2,0.1,0.00005)"
   ]
  },
  {
   "attachments": {},
   "cell_type": "markdown",
   "metadata": {},
   "source": [
    "Décodage du signal et affichage du message reçu"
   ]
  },
  {
   "cell_type": "code",
   "execution_count": null,
   "metadata": {},
   "outputs": [],
   "source": [
    "message_nrz        = com2.bin2ascii(NRZ_sampled)\n",
    "message_Manchester = com2.bin2ascii(Manchester_sampled)\n",
    "message_AMI        = com2.bin2ascii(AMI_sampled)\n",
    "\n",
    "print(f\"NRZ = {message_nrz}\")\n",
    "print(f\"AMI = {message_AMI}\")\n",
    "print(f\"Manchester = {message_Manchester}\")\n"
   ]
  },
  {
   "attachments": {},
   "cell_type": "markdown",
   "metadata": {},
   "source": [
    "Sortie console :\n",
    "\n",
    "NRZ = Lorem Ipsum is simply dummy text of the printing and typesetting industry. Lorem Ipsum has been the indwstry's standard dummy text ever since the 1500s, when an wnknown printer took a galley of type and scrambled it to make a type specimen book. It has swrvived not only five centuries, but also the leap into electronic typesetting, remaining essentially unchanged. It was popularised in the 1960s with the release of Letraset sheets containing Lorem Ipsum passages, and more recently with desktop publishing software like Aldus PageMaker including versions of Lorem Ipsum.\n",
    "\n",
    "AMI = \\oåm Ip_um i _implG tummO tenô o~ the pioôioýàaoô tEpeettioýàioôutÇ. \\oåm IpOum ha bõen the ioôutÇ? taoôaô tummO te|ô ewõ~ ioãe the 1u00, when an uoëoïwn péoôe~ took a alleo o~ tEpu aoô cámbled it tlàmake a tEpu _pucimen book. It ha _u÷éwõd oït ooìG éwõ ceoôuée, cõt almàthe leap ioôlàelectooéc tEpeettioý¬ õmaioéoýàeeoôiallG uoãhaoÿed. It wa populaéed in the 1ï¶0 with thu åleae o~ \\etáet heet cooôaioéoýà\\oõm IpOum paae, aoô moõ åceoôlG with tektop publihioýàoôwaå like Altu PaeMake~ ioãludioýàwõßiooß o~ \\oõm IpOum.\n",
    "\n",
    "Manchester = ÙÊfÍInÛfæmIoËfoæKIfÉûoÍíII{oäí{åïÊLoäËÍoææËLäËLÎoËLÍoäûfÍfMdäËLÎoËLÍífdæÛlnÙÊfÍInÛfæmIoËËfoÆÍmLoäËÍoËLÍífdæÛnfoædËLÍËfÍoÍíII{oäí\n",
    "{åïÍdÍfoæKLÎMoäËÍmgegææioæKÍLoËLoíLÊLÊfLoææËLäífoäÊJKoËoÎKIÉÍkoÊLoäûfÍoËLÍoæNfËINÉÍmoËeïäÏoÉKJMoËoäûfÍoæfÍNKImLoÎÊJKlnÛeïËËfoæmfäËdÍmoÌÊeïÊLÉûoÌËdÍoÎM\n",
    "LäífËmfioÆåmïËIæKoäËÍoÉÍkgoËLäÏoÍIÍNdæÊLËNoäûfÍfMdäËLÎioæÍIKKLËLÎoÍffMLäËKIÉûoíLÎKËLÎmmlnÛeïæKfoæÊfíIËfËfMmoËLoäËÍmc\n",
    "{dææoæKlËoäËÍoæÍIÍkfMoÊLnÙÍdæËfMmïæKÍmdæoÎJLäËKLËLÎnÙÊfÍInÛfæmIoæËffKnmfioËLÍoÉJfÍoæÍNMLäÉûoæKlËoÍífJdÊgoæíNÉËfKËLÎoæJLäæKfÍoÉËJMnÛIÍífnÒËnmYKJMfoËLÎI\n",
    "ímËLÎoäÍfæKJLæoÊLnÙÊfÍInÛfæmIl\n"
   ]
  },
  {
   "attachments": {},
   "cell_type": "markdown",
   "metadata": {},
   "source": [
    "Calcul du taux d’erreur pour chaque modulation"
   ]
  },
  {
   "cell_type": "code",
   "execution_count": null,
   "metadata": {},
   "outputs": [],
   "source": [
    "message_initial     = \"Lorem Ipsum is simply dummy text of the printing and typesetting industry. Lorem Ipsum has been the industry's standard dummy text ever since the 1500s, when an unknown printer took a galley of type and scrambled it to make a type specimen book. It has survived not only five centuries, but also the leap into electronic typesetting, remaining essentially unchanged. It was popularised in the 1960s with the release of Letraset sheets containing Lorem Ipsum passages, and more recently with desktop publishing software like Aldus PageMaker including versions of Lorem Ipsum.\"\n",
    "message_bin_initial = com2.string_to_ascii(message_initial)\n",
    "\n",
    "diff = message_bin_initial - Manchester_sampled\n",
    "nbr_erreur = np.sum(np.abs(diff))\n",
    "pourcentage = nbr_erreur*100/len(message_bin_initial)\n",
    "print(\"nombre d'erreur pour le signal Manchester : \",nbr_erreur)\n",
    "print(\"Pourcentage d'erreur pour le signal Manchester : \",pourcentage,\"%\\n\")\n",
    "\n",
    "\n",
    "diff= message_bin_initial - AMI_sampled\n",
    "nbr_erreur = np.sum(np.abs(diff))\n",
    "pourcentage = nbr_erreur*100/len(message_bin_initial)\n",
    "print(\"nombre d'erreur pour le signal AMI : \",nbr_erreur)\n",
    "print(\"Pourcentage d'erreur pour le signal AMI : \",pourcentage,\"%\\n\")\n",
    "\n",
    "\n",
    "diff= message_bin_initial - NRZ_sampled\n",
    "nbr_erreur = np.sum(np.abs(diff))\n",
    "pourcentage = nbr_erreur*100/len(message_bin_initial)\n",
    "print(\"nombre d'erreur pour le signal NRZ : \",nbr_erreur)\n",
    "print(\"Pourcentage d'erreur pour le signal NRZ : \",pourcentage,\"%\")"
   ]
  },
  {
   "attachments": {},
   "cell_type": "markdown",
   "metadata": {},
   "source": [
    "Sortie console : \n",
    "\n",
    "nombre d'erreur pour le signal Manchester :  1817\n",
    "Pourcentage d'erreur pour le signal Manchester :  39.568815331010455 %\n",
    "\n",
    "nombre d'erreur pour le signal AMI :  435\n",
    "Pourcentage d'erreur pour le signal AMI :  9.472996515679442 %\n",
    "\n",
    "nombre d'erreur pour le signal NRZ :  3\n",
    "Pourcentage d'erreur pour le signal NRZ :  0.06533101045296168 %"
   ]
  }
 ],
 "metadata": {
  "kernelspec": {
   "display_name": "base",
   "language": "python",
   "name": "python3"
  },
  "language_info": {
   "codemirror_mode": {
    "name": "ipython",
    "version": 3
   },
   "file_extension": ".py",
   "mimetype": "text/x-python",
   "name": "python",
   "nbconvert_exporter": "python",
   "pygments_lexer": "ipython3",
   "version": "3.9.16"
  },
  "orig_nbformat": 4
 },
 "nbformat": 4,
 "nbformat_minor": 2
}
