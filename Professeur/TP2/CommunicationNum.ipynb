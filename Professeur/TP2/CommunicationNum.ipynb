{
 "cells": [
  {
   "cell_type": "markdown",
   "metadata": {},
   "source": [
    "### TP : Traitement du signal 2\n",
    "### Objectif\n",
    "\n",
    "L'objectif de ce TP est de mettre en oeuvre une communication numérique entre deux ordinateur via une liaison Jack. \n",
    "\n",
    "### Matériel\n",
    "\n",
    "- 2 Ordinateurs sous Ubuntu avec Python et Jupyter\n",
    "- 1 Canal composé d’une boîte noire et de deux câbles jack\n",
    "\n",
    "### Questions\n",
    "\n",
    "1. Mettre en oeuvre une chaîne de communication numérique.\n",
    "2. Quelle modulation sera utilisée lors de ce TP ? Pourquoi ? \n",
    "3. Essayer de transmettre des messages avec différentes forme d’onde. \n",
    "4. Quelle est la forme d’onde la plus robuste aux bruits ?\n",
    "5. Quelle est l’interêt du code ASCII ? \n",
    "6. Existe-t-il un code source plus avantageux que le ASCII ?\n",
    "\n",
    "## Code\n",
    "\n",
    "Voici le code Python à utiliser pour enregistrer une communication numérique :\n",
    "\n",
    "```\n",
    "# Importer les bibliothèques nécessaires\n",
    "# Bibliothèques pour analyse traitement du signal\n",
    "import scipy.io.wavfile\n",
    "import matplotlib.pyplot as plt\n",
    "import numpy as np\n",
    "#Bibliothèques pour générer, acquérir les sons\n",
    "import comnumfip2\n",
    "\n",
    "\n",
    "signal = comnumfip2.receive_signal() #Acquisition du signal \n",
    "\n",
    "signal_binaire = commnumfip2.sample_and_threshold(signal)\n",
    "\n",
    "#La ligne ci-dessus permet d'échantillonner et de seuiller le signal acquérit.\n",
    "```\n"
   ]
  },
  {
   "cell_type": "code",
   "execution_count": 38,
   "metadata": {},
   "outputs": [],
   "source": [
    "import comnumfip2\n",
    "from importlib import reload\n",
    "import sounddevice as sd\n",
    "import numpy as np\n",
    "import matplotlib.pyplot as plt\n",
    "import soundfile as sf\n",
    "\n",
    "reload(comnumfip2)\n",
    "\n",
    "fs=44100\n",
    "duration=1\n",
    "analog_test =[]\n",
    "while len(analog_test)==0:\n",
    "    analog = sd.rec(int(duration*fs),samplerate=fs,channels=1)\n",
    "    sd.wait()\n",
    "    #Filtre de réception\n",
    "    file_name = \"enregistrementAMI.wav\"\n",
    "    sf.write(file_name, analog, 44100, subtype='PCM_16')\n",
    "    mask = (analog<-0.5) | (analog>0.5) #On garde tout ce qui a une amplitude de plus de 0.9V\n",
    "    analog_test = analog[mask]\n",
    "\n",
    "\n",
    "\n",
    "plt.plot(analog)\n",
    "plt.show()\n",
    "\n",
    "fe=44100\n",
    "t= np.arange(0,1/10000,1/fe)\n",
    "motif = np.where((t<=(1/10000)),1,0)\n",
    "\n",
    "plt.plot(motif)\n",
    "\n",
    "analog=analog.flatten()\n",
    "\n",
    "filtered_signal = np.correlate(analog, motif, mode='same')\n",
    "\n",
    "\n",
    "plt.plot(filtered_signal)\n",
    "\n",
    "bin=comnumfip2.sample_and_threshold(analog_test,0.5)\n",
    "print(bin)\n",
    "print(comnumfip2.bin2ascii(bin))\n"
   ]
  }
 ],
 "metadata": {
  "kernelspec": {
   "display_name": "Python 3.9.12 ('base')",
   "language": "python",
   "name": "python3"
  },
  "language_info": {
   "codemirror_mode": {
    "name": "ipython",
    "version": 3
   },
   "file_extension": ".py",
   "mimetype": "text/x-python",
   "name": "python",
   "nbconvert_exporter": "python",
   "pygments_lexer": "ipython3",
   "version": "3.9.12"
  },
  "orig_nbformat": 4,
  "vscode": {
   "interpreter": {
    "hash": "3067ead486e059ec00ffe7555bdb889e6e264a24dc711bf108106cc7baee8d5d"
   }
  }
 },
 "nbformat": 4,
 "nbformat_minor": 2
}
