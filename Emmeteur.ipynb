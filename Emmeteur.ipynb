{
 "cells": [
  {
   "cell_type": "code",
   "execution_count": 188,
   "metadata": {},
   "outputs": [
    {
     "name": "stdout",
     "output_type": "stream",
     "text": [
      "[0 1 1 1 0 1 0 0 0 1 1 0 0 1 0 1 0 1 1 1 0 0 1 1 0 1 1 1 0 1 0 0]\n"
     ]
    },
    {
     "data": {
      "image/png": "[encoded data removed]",
      "text/plain": [
       "<Figure size 432x288 with 1 Axes>"
      ]
     },
     "metadata": {
      "needs_background": "light"
     },
     "output_type": "display_data"
    },
    {
     "name": "stdout",
     "output_type": "stream",
     "text": [
      "Fichier WAV créé : signal.wav\n"
     ]
    },
    {
     "data": {
      "image/png": "[encoded data removed]",
      "text/plain": [
       "<Figure size 432x288 with 1 Axes>"
      ]
     },
     "metadata": {
      "needs_background": "light"
     },
     "output_type": "display_data"
    }
   ],
   "source": [
    "import comnumfip2_modif as com\n",
    "import numpy as np\n",
    "from scipy.io.wavfile import write\n",
    "from importlib import reload \n",
    "import matplotlib.pyplot as plt\n",
    "reload(com)\n",
    "message = \"test\"\n",
    "signal = com.NRZ_signal_generator(message)\n",
    "\n",
    "\n",
    "com.plot_signal(signal)\n",
    "com.send_signal_to_canal(signal)\n",
    "\n",
    "\n",
    "# Paramètres du signal\n",
    "freq_echantillonnage = 44100  # Fréquence d'échantillonnage en Hz\n",
    "\n",
    "\n",
    "# Écrire le signal dans un fichier WAV\n",
    "nom_fichier = \"signal.wav\"\n",
    "write(nom_fichier, freq_echantillonnage, signal)\n",
    "print(f\"Fichier WAV créé : {nom_fichier}\")\n",
    "\n",
    "\n",
    "plt.figure()\n",
    "plt.plot(signal)\n",
    "plt.xlim(23800,24000)\n",
    "plt.show()\n"
   ]
  },
  {
   "cell_type": "code",
   "execution_count": 195,
   "metadata": {},
   "outputs": [
    {
     "name": "stdout",
     "output_type": "stream",
     "text": [
      "44420\n"
     ]
    },
    {
     "data": {
      "text/plain": [
       "(0.495, 0.52)"
      ]
     },
     "execution_count": 195,
     "metadata": {},
     "output_type": "execute_result"
    },
    {
     "data": {
      "image/png": "[encoded data removed]",
      "text/plain": [
       "<Figure size 432x288 with 1 Axes>"
      ]
     },
     "metadata": {
      "needs_background": "light"
     },
     "output_type": "display_data"
    }
   ],
   "source": [
    "print(len(signal))\n",
    "n = np.arange(0,len(signal))/44100\n",
    "plt.plot(n,signal)\n",
    "plt.xlim(0.495,0.52)\n"
   ]
  },
  {
   "cell_type": "markdown",
   "metadata": {},
   "source": [
    "Decodage du signal"
   ]
  },
  {
   "cell_type": "code",
   "execution_count": null,
   "metadata": {},
   "outputs": [],
   "source": [
    "import wave\n",
    "import matplotlib.pyplot as plt\n",
    "import numpy as np\n",
    "\n",
    "# Ouvrir le fichier wave en mode lecture\n",
    "nom_fichier = \"pasdepb.wav\"  # Remplacez cela par le nom de votre propre fichie21900r wave\n",
    "with wave.open(nom_fichier, 'rb') as fichier_wave:\n",
    "    # Obtenir les propriétés du fichier wave\n",
    "    nb_channels = fichier_wave.getnchannels()\n",
    "    sample_width = fichier_wave.getsampwidth()\n",
    "    framerate = fichier_wave.getframerate()\n",
    "    nb_frames = fichier_wave.getnframes()\n",
    "\n",
    "    # Lire les données audio\n",
    "    frames = fichier_wave.readframes(nb_frames)\n",
    "\n",
    "    # Convertir les données binaires en valeurs d'échantillons\n",
    "    # en fonction de la largeur de l'échantillon\n",
    "    if sample_width == 1:\n",
    "        # Pour les échantillons de 8 bits (unsigned)\n",
    "        samples = np.frombuffer(frames, dtype=np.uint8)\n",
    "    elif sample_width == 2:\n",
    "        # Pour les échantillons de 16 bits (signed)\n",
    "        samples = np.frombuffer(frames, dtype=np.int16)\n",
    "    elif sample_width == 4:\n",
    "        # Pour les échantillons de 32 bits (float)\n",
    "        samples = np.frombuffer(frames, dtype=np.float32)\n",
    "    else:\n",
    "        raise ValueError(\"Largeur d'échantillon non prise en charge : {}\".format(sample_width))\n",
    "\n",
    "    # Créer un tableau de temps en secondes pour les échantillons\n",
    "    temps = np.arange(0, nb_frames) / framerate\n",
    "\n",
    "    # Afficher les données audio dans un graphique\n",
    "    plt.figure(figsize=(12, 6))\n",
    "    plt.plot(samples)\n",
    "    plt.xlabel('Temps (s)')\n",
    "    plt.ylabel('Amplitude')\n",
    "    plt.title('Données audio')\n",
    "    plt.show()"
   ]
  },
  {
   "cell_type": "code",
   "execution_count": null,
   "metadata": {},
   "outputs": [],
   "source": [
    "plt.figure()\n",
    "plt.xlim(32000,32100)\n",
    "plt.plot(samples)\n",
    "plt.show()\n"
   ]
  },
  {
   "cell_type": "code",
   "execution_count": null,
   "metadata": {},
   "outputs": [],
   "source": [
    "#tracer le spectre du signal\n",
    "\n",
    "# Calcul de la FFT sur le signal recu\n",
    "plt.figure()\n",
    "plt.plot(samples)\n",
    "plt.show()\n",
    "\n",
    "\n",
    "FFT = np.fft.fft(samples)\n",
    "MOD_FFT=np.abs(FFT)\n",
    "Pha_FFT=np.angle(FFT)\n",
    "\n",
    "# centrage de la transformé et shift\n",
    "Fe = 44100 \n",
    "Te= 1/Fe\n",
    "N = len(samples)\n",
    "k= np.arange(N) -np.floor(N/2)  # np floor permet d'avoir une valeur arrondie et le - va faire un décalage vectoriel\n",
    "MOD_FFT = np.fft.fftshift(MOD_FFT)\n",
    "Pha_FFT = np.fft.fftshift(Pha_FFT)\n",
    "\n",
    "f = k/(N*Te)\n",
    "\n",
    "\n",
    "#affichage de la phase\n",
    "plt.figure(figsize=(10,5))\n",
    "plt.ylabel(\"Phase\")\n",
    "plt.xlabel(\"f(HZ)\")\n",
    "plt.plot(f,Pha_FFT)\n",
    "\n",
    "#affichage du module\n",
    "plt.figure(figsize=(10,5))\n",
    "plt.ylabel(\"Module\")\n",
    "plt.xlabel(\"f(HZ)\")\n",
    "plt.plot(f,MOD_FFT)"
   ]
  },
  {
   "cell_type": "code",
   "execution_count": null,
   "metadata": {},
   "outputs": [],
   "source": [
    "#filtrage du signal par un filtre RIF\n",
    "#on veut filtrer les hautes fréquence donc il faut un filtre passe bas\n",
    "\n",
    "fe = 44100\n",
    "#On commence par définir se que l'on connait\n",
    "\n",
    "fc1 = 1000       #frequence de coupure\n",
    "fc2 = 22100\n",
    "df = 100        #largueur de bande\n",
    "Ondbande = 1    #ondulation en bande passante\n",
    "stopband = -60  # atténuation en stop bande\n",
    "\n",
    "# Abscisses des 4 points de la ligne brisée\n",
    "x1 = [0, fc1 - df/2, fc1 - df/2, fc1 - df/2]\n",
    "\n",
    "# Ordonnées des 4 points de la ligne brisée\n",
    "y1 = [stopband,stopband, Ondbande, Ondbande]\n",
    "\n",
    "# Abscisses des 4 points de la ligne brisée\n",
    "x2 = [fc2+df/2,fc2+df/2, fe/2, fe/2]\n",
    "\n",
    "# Ordonnées des 4 points de la ligne brisée\n",
    "y2 = [Ondbande,stopband, stopband,  stopband]\n",
    "\n",
    "\n",
    "# Abscisses des 4 points de la ligne brisée\n",
    "x3 = [fc1+df/2,fc1+df/2, fc2-df/2, fc2-df/2]\n",
    "\n",
    "# Ordonnées des 4 points de la ligne brisée\n",
    "y3 = [stopband,-Ondbande, -Ondbande,  stopband]\n",
    "\n",
    "# Affichage\n",
    "plt.figure(figsize=(20,5))\n",
    "plt.plot(x1, y1, color='k', linestyle='--', marker='*')\n",
    "plt.plot(x2, y2, color='k', linestyle='--', marker='*')\n",
    "plt.plot(x3, y3, color='k', linestyle='--', marker='*')\n",
    "plt.xlabel(\"f (Hz)\")\n",
    "plt.ylabel(\"20 log|H| (dB)\")\n",
    "plt.title('gabarit')\n",
    "plt.show()\n",
    "\n"
   ]
  },
  {
   "cell_type": "code",
   "execution_count": null,
   "metadata": {},
   "outputs": [],
   "source": [
    "\n",
    "largeur_de_transition = (fc1+df-fc1) / fe\n",
    "print(\"Ordre des fenêtres (déterminé à partir de la largeur de transition) :\")\n",
    "print(f\"Blackmann :            N = {int(5.5/largeur_de_transition)}\")\n",
    "print(f\"Kaiser (beta = 6,76) : N = {int(4.32/largeur_de_transition)}\")\n",
    "print(f\"Kaiser (beta = 8,96) : N = {int(5.71/largeur_de_transition)}\")\n",
    "\n",
    "\n",
    "\n",
    "#Synthétisation du filtre RIF\n",
    "from scipy import signal\n",
    "#scipy.signal.firwin(numtaps, cutoff, width=None, window='hamming', pass_zero=True, scale=True, nyq=None, fs=None)\n",
    "N = int(4.32/largeur_de_transition)\n",
    "print(N)\n",
    "\n",
    "rif = signal.firwin(N,fc1,window=(\"kaiser\", (6.76)),fs=fe,pass_zero='highpass')\n",
    "#rif = signal.firwin(N,(fc1,fc2),window=(\"kaiser\", (6.76)),fs=fe,pass_zero='bandpass') #ici, la fréquence de coupure a été ajusté à la main (à la base c'était 0.5) à cause des erreurs numérique\n",
    "w, h = signal.freqz(rif,fs=fe) #w retourne Les fréquences auxquelles h a été calculé, dans les mêmes unités que fs. (fe/2)\n",
    "                                #h La réponse en fréquence, sous forme de nombres complexes.\n",
    "plt.figure(figsize=(20,5))       \n",
    "plt.plot(w,20 * np.log10(abs(h))) #on fait alors 20 log de l'absolue de h pour avoir le module qu'on affiche en fonction de w\n",
    "plt.plot(x1, y1, color='k', linestyle='--', marker='*')\n",
    "plt.plot(x2, y2, color='k', linestyle='--', marker='*')\n",
    "plt.plot(x3, y3, color='k', linestyle='--', marker='*')\n",
    "plt.xlabel(\"f (Hz)\")\n",
    "\n",
    "plt.ylabel(\"20 log|H| (dB)\")\n",
    "plt.show()\n",
    "\n",
    "\n",
    "#analyse du retard de groupe\n",
    "w, gd = signal.group_delay((rif,1))\n",
    "plt.figure()\n",
    "plt.ylabel('retard de groupe (échantillions)')\n",
    "plt.plot(w,gd)\n",
    "plt.show()\n",
    "print(gd[0])"
   ]
  },
  {
   "cell_type": "code",
   "execution_count": null,
   "metadata": {},
   "outputs": [],
   "source": [
    "\n",
    "samples_rif_filtered = signal.lfilter(rif,1,samples)\n",
    "plt.figure()\n",
    "plt.plot(samples_rif_filtered)\n",
    "plt.title(\"signal filtered\")\n",
    "plt.show()\n",
    "samples_rif_filtered = samples_rif_filtered[(samples_rif_filtered > 20000) | (samples_rif_filtered < -20000)]\n",
    "\n",
    "plt.figure()\n",
    "plt.plot(samples_rif_filtered)\n",
    "plt.show()\n",
    "\n",
    "\n",
    "bin=com.sample_and_threshold(samples_rif_filtered,10000)\n",
    "print(bin)\n",
    "\n",
    "bin = bin[1:]\n",
    "print(len(bin))\n",
    "print(com.bin2ascii(bin))\n"
   ]
  },
  {
   "cell_type": "code",
   "execution_count": null,
   "metadata": {},
   "outputs": [],
   "source": []
  }
 ],
 "metadata": {
  "kernelspec": {
   "display_name": "Python 3.9.12 ('base')",
   "language": "python",
   "name": "python3"
  },
  "language_info": {
   "codemirror_mode": {
    "name": "ipython",
    "version": 3
   },
   "file_extension": ".py",
   "mimetype": "text/x-python",
   "name": "python",
   "nbconvert_exporter": "python",
   "pygments_lexer": "ipython3",
   "version": "3.9.12"
  },
  "orig_nbformat": 4,
  "vscode": {
   "interpreter": {
    "hash": "3067ead486e059ec00ffe7555bdb889e6e264a24dc711bf108106cc7baee8d5d"
   }
  }
 },
 "nbformat": 4,
 "nbformat_minor": 2
}
