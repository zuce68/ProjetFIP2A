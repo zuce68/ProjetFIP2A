{
 "cells": [
  {
   "cell_type": "code",
   "execution_count": 1,
   "metadata": {},
   "outputs": [
    {
     "name": "stderr",
     "output_type": "stream",
     "text": [
      "ALSA lib pcm_dsnoop.c:601:(snd_pcm_dsnoop_open) unable to open slave\n",
      "ALSA lib pcm_dmix.c:1032:(snd_pcm_dmix_open) unable to open slave\n",
      "ALSA lib pcm.c:2664:(snd_pcm_open_noupdate) Unknown PCM cards.pcm.rear\n",
      "ALSA lib pcm.c:2664:(snd_pcm_open_noupdate) Unknown PCM cards.pcm.center_lfe\n",
      "ALSA lib pcm.c:2664:(snd_pcm_open_noupdate) Unknown PCM cards.pcm.side\n",
      "Cannot connect to server socket err = No such file or directory\n",
      "Cannot connect to server request channel\n",
      "jack server is not running or cannot be started\n",
      "JackShmReadWritePtr::~JackShmReadWritePtr - Init not done for -1, skipping unlock\n",
      "JackShmReadWritePtr::~JackShmReadWritePtr - Init not done for -1, skipping unlock\n",
      "Cannot connect to server socket err = No such file or directory\n",
      "Cannot connect to server request channel\n",
      "jack server is not running or cannot be started\n",
      "JackShmReadWritePtr::~JackShmReadWritePtr - Init not done for -1, skipping unlock\n",
      "JackShmReadWritePtr::~JackShmReadWritePtr - Init not done for -1, skipping unlock\n",
      "ALSA lib confmisc.c:160:(snd_config_get_card) Invalid field card\n",
      "ALSA lib pcm_usb_stream.c:482:(_snd_pcm_usb_stream_open) Invalid card 'card'\n",
      "ALSA lib confmisc.c:160:(snd_config_get_card) Invalid field card\n",
      "ALSA lib pcm_usb_stream.c:482:(_snd_pcm_usb_stream_open) Invalid card 'card'\n",
      "ALSA lib pcm_dmix.c:1032:(snd_pcm_dmix_open) unable to open slave\n"
     ]
    }
   ],
   "source": [
    "#ce programme permet d'enregistrer un son depuis la prise micro de mon pc\n",
    "\n",
    "import pyaudio\n",
    "import wave\n",
    "\n",
    "\n",
    "# Initialiser PyAudio\n",
    "p = pyaudio.PyAudio()\n",
    "\n",
    "# Ouvrir le flux audio pour la prise jack\n",
    "stream = p.open(format=pyaudio.paInt16, channels=1, rate=44100, input=True, frames_per_buffer=1024) #chanel=1 pour mono /chanel = 2 pour stereo\n",
    "\n",
    "# Enregistrer le son\n",
    "frames = []\n",
    "for i in range(0, int(44100 / 1024 * 5)):   #fréquence d'échantillonage = 44100Hz, le nombre de bloc dans une frame est de 1024 donc on a 44100/1024=43 bloc par seconde *10 ce qui fait 430 blocs pour 10 seconde \n",
    "    data = stream.read(1024)\n",
    "    frames.append(data)\n",
    "\n",
    "# Fermer le flux audio\n",
    "stream.stop_stream()\n",
    "stream.close()\n",
    "p.terminate()\n",
    "\n",
    "# Écrire les données audio enregistrées dans un fichier WAV\n",
    "with wave.open(\"enregistrement.wav\", \"wb\") as wf:\n",
    "    wf.setnchannels(1)                                                                      #=1 pour mono / 2 pour stereo ->mono pour le TP de communication numérique et stéréo pour celui de mesure de vitesse du son \n",
    "    wf.setsampwidth(p.get_sample_size(pyaudio.paInt16))\n",
    "    wf.setframerate(44100)\n",
    "    wf.writeframes(b''.join(frames))\n",
    "\n",
    "\n",
    "\n"
   ]
  },
  {
   "cell_type": "code",
   "execution_count": null,
   "metadata": {},
   "outputs": [],
   "source": [
    "import sounddevice as sd\n",
    "import numpy as np\n",
    "import threading\n",
    "import wave\n",
    "\n",
    "class Recorder:\n",
    "    def __init__(self, filename):\n",
    "        self.filename = filename\n",
    "        self.frames = []\n",
    "        self.recording = False\n",
    "\n",
    "    def start_recording(self, channels, samplerate):\n",
    "        self.recording = True\n",
    "        self.frames = []\n",
    "        threading.Thread(target=self.record, args=(channels, samplerate)).start()\n",
    "\n",
    "    def stop_recording(self):\n",
    "        self.recording = False\n",
    "\n",
    "    def record(self, channels, samplerate):\n",
    "        with wave.open(self.filename, mode='wb') as wf:\n",
    "            wf.setnchannels(channels)\n",
    "            wf.setsampwidth(2)\n",
    "            wf.setframerate(samplerate)\n",
    "            with sd.InputStream(channels=channels, samplerate=samplerate, blocksize=1024) as stream:\n",
    "                while self.recording:\n",
    "                    data, _ = stream.read(1024)\n",
    "                    self.frames.append(data)\n",
    "                    wf.writeframes(data)\n",
    "\n",
    "    def get_frames(self):\n",
    "        return self.frames\n",
    "\n",
    "def play_sound():\n",
    "    duration = 5.0\n",
    "    samplerate = sd.query_devices('default')['default_samplerate']\n",
    "    samples = int(duration * samplerate)\n",
    "    sound = np.random.randn(samples, 1)\n",
    "    sd.play(sound, samplerate=samplerate)\n",
    "    sd.wait()\n",
    "\n",
    "recorder = Recorder('enregistrement.wav')\n",
    "recorder.start_recording(channels=2, samplerate=44100)\n",
    "\n",
    "play_sound()\n",
    "\n",
    "recorder.stop_recording()\n",
    "frames = recorder.get_frames()\n",
    "\n",
    "print('Enregistrement terminé.')\n"
   ]
  },
  {
   "cell_type": "code",
   "execution_count": 122,
   "metadata": {},
   "outputs": [],
   "source": [
    "import pyaudio\n",
    "import wave\n",
    "\n",
    "# Initialiser PyAudio\n",
    "p = pyaudio.PyAudio()\n",
    "\n",
    "# Ouvrir le flux audio pour la prise jack avec 3 canaux (mono + gauche + droite)\n",
    "stream = p.open(format=pyaudio.paInt16, channels=3, rate=44100, input=True, frames_per_buffer=1024)\n",
    "\n",
    "# Enregistrer le son\n",
    "frames_mono = []\n",
    "frames_left = []\n",
    "frames_right = []\n",
    "for i in range(0, int(44100 / 1024 * 5)):\n",
    "    data = stream.read(1024)\n",
    "    # Extraire les données des 3 canaux\n",
    "    mono_data = data[0::3]\n",
    "    left_data = data[1::3]\n",
    "    right_data = data[2::3]\n",
    "    # Ajouter les données à chaque canal\n",
    "    frames_mono.append(mono_data)\n",
    "    frames_left.append(left_data)\n",
    "    frames_right.append(right_data)\n",
    "\n",
    "# Fermer le flux audio\n",
    "stream.stop_stream()\n",
    "stream.close()\n",
    "p.terminate()\n",
    "\n",
    "# Écrire les données audio enregistrées dans un fichier WAV pour chaque canal\n",
    "with wave.open(\"enregistrement_mono.wav\", \"wb\") as wf:\n",
    "    wf.setnchannels(1)\n",
    "    wf.setsampwidth(p.get_sample_size(pyaudio.paInt16))\n",
    "    wf.setframerate(44100)\n",
    "    wf.writeframes(b''.join(frames_mono))\n",
    "    \n",
    "with wave.open(\"enregistrement_gauche.wav\", \"wb\") as wf:\n",
    "    wf.setnchannels(1)\n",
    "    wf.setsampwidth(p.get_sample_size(pyaudio.paInt16))\n",
    "    wf.setframerate(44100)\n",
    "    wf.writeframes(b''.join(frames_left))\n",
    "    \n",
    "with wave.open(\"enregistrement_droit.wav\", \"wb\") as wf:\n",
    "    wf.setnchannels(1)\n",
    "    wf.setsampwidth(p.get_sample_size(pyaudio.paInt16))\n",
    "    wf.setframerate(44100)\n",
    "    wf.writeframes(b''.join(frames_right))\n"
   ]
  },
  {
   "cell_type": "code",
   "execution_count": 6,
   "metadata": {},
   "outputs": [
    {
     "data": {
      "image/png": "[encoded data removed]",
      "text/plain": [
       "<Figure size 640x480 with 1 Axes>"
      ]
     },
     "metadata": {},
     "output_type": "display_data"
    }
   ],
   "source": [
    "#permet d'afficher un son\n",
    "import scipy.io.wavfile\n",
    "import matplotlib.pyplot as plt\n",
    "import numpy as np\n",
    "\n",
    "# Charger le fichier audio\n",
    "rate, data = scipy.io.wavfile.read('enregistrement.wav')\n",
    "\n",
    "\n",
    "\n",
    "N=len(data) #nombre d'échantillions \n",
    "n = np.arange(0,N)/44100   #on divise par la fréquence d'échantillonage pour etre mieux dans l'échelle \n",
    "\n",
    "\n",
    "\n",
    "#affichage du channel 1 \n",
    "plt.figure()\n",
    "plt.plot(n,data)\n",
    "\n",
    "\n",
    "#plt.ylim(-10000,10000)\n",
    "plt.show()\n",
    "\n",
    "\n"
   ]
  },
  {
   "cell_type": "code",
   "execution_count": null,
   "metadata": {},
   "outputs": [],
   "source": []
  },
  {
   "attachments": {},
   "cell_type": "markdown",
   "metadata": {},
   "source": [
    "jusque ici tout fonctionnait bien"
   ]
  },
  {
   "cell_type": "code",
   "execution_count": 159,
   "metadata": {},
   "outputs": [],
   "source": [
    "import pyaudio\n",
    "import wave\n",
    "\n",
    "# Initialiser PyAudio\n",
    "p = pyaudio.PyAudio()\n",
    "\n",
    "# Ouvrir le flux audio pour la prise jack\n",
    "stream = p.open(format=pyaudio.paInt16, channels=2, rate=44100, input=True, frames_per_buffer=1024)\n",
    "\n",
    "# Enregistrer le son\n",
    "frames = []\n",
    "for i in range(0, int(44100 / 1024 * 5)):\n",
    "    data = stream.read(1024)\n",
    "    frames.append(data)\n",
    "\n",
    "# Fermer le flux audio\n",
    "stream.stop_stream()\n",
    "stream.close()\n",
    "p.terminate()\n",
    "\n",
    "# Écrire les données audio enregistrées dans un fichier WAV\n",
    "with wave.open(\"enregistrement.wav\", \"wb\") as wf:\n",
    "    wf.setnchannels(2)  # 2 canaux pour le mode stéréo\n",
    "    wf.setsampwidth(p.get_sample_size(pyaudio.paInt16))\n",
    "    wf.setframerate(44100)\n",
    "    wf.writeframes(b''.join(frames))\n"
   ]
  },
  {
   "cell_type": "code",
   "execution_count": 22,
   "metadata": {},
   "outputs": [
    {
     "name": "stdout",
     "output_type": "stream",
     "text": [
      "Enregistrement en cours...\n",
      "Enregistrement terminé.\n",
      "Fichier enregistré : enregistrement.wav\n"
     ]
    }
   ],
   "source": [
    "#programme pour mesurer la vitesse du son \n",
    "\n",
    "\n",
    "\n",
    "import sounddevice as sd\n",
    "import soundfile as sf\n",
    "\n",
    "# Paramètres d'enregistrement\n",
    "duration = 5  # Durée de l'enregistrement en secondes\n",
    "fs = 44100  # Fréquence d'échantillonnage en Hz\n",
    "channels = 2  # Nombre de canaux\n",
    "\n",
    "# Enregistrer le son\n",
    "print(\"Enregistrement en cours...\")\n",
    "recorded_audio = sd.rec(int(duration * fs), samplerate=fs, channels=channels)\n",
    "sd.wait()  # Attendre la fin de l'enregistrement\n",
    "print(\"Enregistrement terminé.\")\n",
    "\n",
    "# Enregistrer les données audio dans un fichier WAV\n",
    "file_name = \"enregistrement.wav\"\n",
    "sf.write(file_name, recorded_audio, fs, subtype='PCM_16')\n",
    "\n",
    "print(f\"Fichier enregistré : {file_name}\")\n"
   ]
  },
  {
   "cell_type": "code",
   "execution_count": 21,
   "metadata": {},
   "outputs": [
    {
     "data": {
      "image/png": "[encoded data removed]",
      "text/plain": [
       "<Figure size 640x480 with 1 Axes>"
      ]
     },
     "metadata": {},
     "output_type": "display_data"
    }
   ],
   "source": [
    "#permet d'afficher un son\n",
    "import scipy.io.wavfile\n",
    "import matplotlib.pyplot as plt\n",
    "import numpy as np\n",
    "\n",
    "# Charger le fichier audio\n",
    "rate, data = scipy.io.wavfile.read('enregistrement.wav')\n",
    "\n",
    "\n",
    "\n",
    "N=len(data) #nombre d'échantillions \n",
    "n = np.arange(0,N)/44100   #on divise par la fréquence d'échantillonage pour etre mieux dans l'échelle \n",
    "\n",
    "\n",
    "\n",
    "#affichage du channel 1 \n",
    "plt.figure()\n",
    "plt.plot(n,data)\n",
    "\n",
    "\n",
    "#plt.ylim(-10000,10000)\n",
    "plt.show()\n",
    "\n",
    "\n"
   ]
  }
 ],
 "metadata": {
  "kernelspec": {
   "display_name": "Python 3.8.10 64-bit",
   "language": "python",
   "name": "python3"
  },
  "language_info": {
   "codemirror_mode": {
    "name": "ipython",
    "version": 3
   },
   "file_extension": ".py",
   "mimetype": "text/x-python",
   "name": "python",
   "nbconvert_exporter": "python",
   "pygments_lexer": "ipython3",
   "version": "3.8.10"
  },
  "orig_nbformat": 4,
  "vscode": {
   "interpreter": {
    "hash": "916dbcbb3f70747c44a77c7bcd40155683ae19c65e1c03b4aa3499c5328201f1"
   }
  }
 },
 "nbformat": 4,
 "nbformat_minor": 2
}
