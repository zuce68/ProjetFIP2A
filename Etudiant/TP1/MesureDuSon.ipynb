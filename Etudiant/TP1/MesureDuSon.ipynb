{
 "cells": [
  {
   "cell_type": "markdown",
   "metadata": {},
   "source": [
    "### TP : Traitement du Signal\n",
    "## Objectif\n",
    "\n",
    "L'objectif de ce TP est de mesurer la vitesse du son en utilisant le matériel fourni.\n",
    "\n",
    "## Matériel\n",
    "\n",
    "- Haut-parleur\n",
    "- Deux microphones\n",
    "- Ordinateur avec Python et Jupyter Notebook installés\n",
    "\n",
    "## Questions\n",
    "\n",
    "1. Comment peut-on mesurer la vitesse du son ?\n",
    "2. Comment isoler le signal émis par l'haut-parleur et comment peut-on minimiser les bruits captés par les microphones ?\n",
    "3. Utiliser les différents signaux afin de déduire lequel est le plus qualitatif.\n",
    "\n",
    "## Code\n",
    "\n",
    "Voici le code Python à utiliser pour générer les signaux et enregistrer le son :\n",
    "\n",
    "```\n",
    "# Importer les bibliothèques nécessaires\n",
    "# Gestion du son\n",
    "import sounddevice as sd\n",
    "import soundfile as sf\n",
    "# Bibliothèques pour analyse traitement du signal\n",
    "import scipy.io.wavfile\n",
    "import matplotlib.pyplot as plt\n",
    "import numpy as np\n",
    "#Bibliothèques pour générer, acquérir les sons\n",
    "import traitesignfip\n",
    "\n",
    "\n",
    "traitesignfip.record_microphone(\"noise\") #Acquisition du son des microphones durant 5 secondes, l'haut-parleur émet le son passé en argument pendant 1 seconde\n",
    "\n",
    "left,right = traitesignfip.read_signal('enregistrement.wav')\n",
    "\n",
    "#La ligne ci-dessus permet de séparer les deux canaux (Left and Right) car chacun des 2 micros enregistre sur un canal différent. \n",
    "#Ainsi deux tableaux permettent de traiter les valeurs de chaque micro. (Tableaux 'left' et 'right')\n",
    "```\n"
   ]
  }
 ],
 "metadata": {
  "kernelspec": {
   "display_name": "Python 3.9.12 ('base')",
   "language": "python",
   "name": "python3"
  },
  "language_info": {
   "codemirror_mode": {
    "name": "ipython",
    "version": 3
   },
   "file_extension": ".py",
   "mimetype": "text/x-python",
   "name": "python",
   "nbconvert_exporter": "python",
   "pygments_lexer": "ipython3",
   "version": "3.9.12"
  },
  "orig_nbformat": 4,
  "vscode": {
   "interpreter": {
    "hash": "3067ead486e059ec00ffe7555bdb889e6e264a24dc711bf108106cc7baee8d5d"
   }
  }
 },
 "nbformat": 4,
 "nbformat_minor": 2
}
