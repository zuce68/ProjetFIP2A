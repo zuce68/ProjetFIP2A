{
 "cells": [
  {
   "attachments": {},
   "cell_type": "markdown",
   "metadata": {},
   "source": [
    "# Maquette 2 : énoncé\n",
    "\n",
    "# TP : Communication numérique"
   ]
  },
  {
   "attachments": {},
   "cell_type": "markdown",
   "metadata": {},
   "source": [
    "### Module Python nécessaires :\n",
    "\n",
    "Dans ce TP, nous utiliserons les modules numpy, scipy, matplotlib, comnumfip2 et sounddevicecustom.\n",
    "\n",
    "### Matériel\n",
    "\n",
    "- 2 Ordinateurs sous Ubuntu avec Python et Jupyter\n",
    "- 1 boitier “canal FIP”\n",
    "\n",
    "## Introduction :\n",
    "\n",
    "Le TP se déroulera en binôme et consistera à simuler une communication numérique entre deux ordinateurs à l'aide du boîtier \"canal FIP\". L'un des ordinateurs sera utilisé pour transmettre des messages tandis que l'autre les recevra. La communication passera à travers le boîtier \"canal FIP\", qui permet d'introduire des perturbations sur le canal de transmission.\n",
    "\n",
    "## Partie 1 : Installation et configuration du matériel\n",
    "\n",
    "Connectez le boitier “canal FIP”’ à l’ordinateur émetteur avec le câble jack IN et à l’ordinateur récepteur avec le câble jack OUT et alimenter le avec le câble USB."
   ]
  },
  {
   "attachments": {},
   "cell_type": "markdown",
   "metadata": {},
   "source": [
    "\n",
    "<img src=\"branchement.png\" width=\"50%\">\n",
    "<img src=\"ordinateur.png\" width=\"20%\">\n"
   ]
  },
  {
   "attachments": {},
   "cell_type": "markdown",
   "metadata": {},
   "source": [
    "## Configuration sur Ubuntu\n",
    "\n",
    "Pour l’émetteur :\n",
    "\n",
    "- Sélectionnez le périphérique casque audio et mettez le volume au maximum sans suramplification\n",
    "\n",
    "Pour le récepteur :\n",
    "\n",
    "- Sélectionnez le périphérique microphone\n",
    "- lancez la fonction du module **comnumfip2.init_volume** pour configurer les paramètres de son\n",
    "\n",
    "Vérification :\n",
    "\n",
    "Pour vérifier la configuration, vous devez d'abord exécuter la fonction **comnumfip2.check_config_receiver** sur le récepteur. Attendez que la fonction soit entièrement lancée puis lancer la commande **comnumfip2.check_config_transmitter** sur l'émetteur\n",
    "\n",
    "Si l’opération c’est déroulé sans erreur, vérifiez la qualité de la transmission. Voici le type de signal à obtenir :\n",
    "\n",
    "\n",
    "<div style=\"text-align:center\">\n",
    "    <img src=\"signalok.png\" width=\"40%\">\n",
    "</div>\n",
    "\n"
   ]
  },
  {
   "attachments": {},
   "cell_type": "markdown",
   "metadata": {},
   "source": [
    "## Partie 2 : Étude de la modulation numérique en bande de base\n",
    "\n",
    "### 2.1 Source \"idéale\"\n",
    "\n",
    "L’objectif de cet exercice est d’implémenter et de comparer quelques modulations numériques :\n",
    "\n",
    "- NRZ (*non-return-to-zero*) binaire\n",
    "- Manchester\n",
    "- AMI (*bipolar alternate mark inversion*)\n",
    "\n",
    "Ces modulations sont étudiées et comparées à la fois dans le domaine temporel et dans le domaine fréquentiel.\n",
    "\n",
    "- Créez un message binaire en utilisant le codage source ASCII (comnumfip2.stringtoascii)\n",
    "- Appliquez les modulations NRZ, Manchester et AMI (comnumfip2.ami_signal_generator, comnumfip2.nrz_signal_generator, comnumfip2.manchester_signal_generator) sur la séquence binaire\n",
    "- L’analyse spectrale des modulations peut être effectuée à l’aide de la densité spectrale de puissance, qui est le carré du module de la transformée de Fourier. En choisissant un message suffisamment long (N grand), représentez la densité spectrale de puissance de chaque modulation en échelle décimale en utilisant la méthode du périodogramme (`scipy.signal.periodogram`, en fixant la fréquence d’échantillonnage égale à 100/d où d est la durée d’un bit).\n",
    "- Lancez la fonction d’acquisition sur le récepteur avec comnumfip2.acquire_signal et envoyez le message à travers le boitier “canal FIP” avec comnumfip2.send_signal_to_canal (assurez vous que tout les boutons du boitier soit sur la position off).\n",
    "- Supprimez le bit de start et de stop de la trame avec comnumfip.get_message_from_signal\n",
    "- Échantillonnez et seuillez le signal reçu (comnumfip.sample_and_threshold_AMI, comnumfip.sample_and_threshold_NRZ, comnumfip.sample_and_threshold_Manchester en fonction du signal émis)\n",
    "- Décodez le signal et vérifiez que le message est correct (comnumfip.ascii_to_string )\n",
    "- Vérifiez si votre modulation est robuste à l’inversion de polarisation en activant cette fonction sur le boitier “Canal FIP”\n",
    "\n",
    "## 2.2 Source réelle simulée\n",
    "\n",
    "Pour cette partie, répartissez dans la classe les différentes modulations et comparez vos résultats à  la fin de la séance.\n",
    "\n",
    "### 2.2.1 Source en présence d’un filtre passe-bas\n",
    "\n",
    "- Activez le filtre 1 sur le boîtier “canal FIP” et transmettez un message au récepteur\n",
    "- Supprimez les bits de start et de stop\n",
    "- Tracer le diagramme de l’œil du message\n",
    "- Seuillez et décodez le message en fonction du diagramme de l’oeil\n",
    "- Calculer le taux d'erreur obtenu\n",
    "\n",
    "répétez l’opération pour le filtre 2\n",
    "\n",
    "### 2.2.1 Source en présence de bruit\n",
    "\n",
    "- Activez le bruit 1 sur le boîtier “canal FIP” et transmettez un message au récepteur\n",
    "- Mettez en place un filtre adapté sur le signal reçu\n",
    "- Supprimez les bits de start et de stop\n",
    "- Tracer le diagramme de l’œil du message\n",
    "- Seuillez et décodez le message\n",
    "\n",
    "répétez l’opération pour le bruit 2"
   ]
  }
 ],
 "metadata": {
  "language_info": {
   "name": "python"
  },
  "orig_nbformat": 4
 },
 "nbformat": 4,
 "nbformat_minor": 2
}
