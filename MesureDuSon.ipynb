{
 "cells": [
  {
   "cell_type": "markdown",
   "metadata": {},
   "source": [
    "### TP : Traitement du Signal\n",
    "## Objectif\n",
    "\n",
    "L'objectif de ce TP est de mesurer la vitesse du son en utilisant le matériel fourni.\n",
    "\n",
    "## Matériel\n",
    "\n",
    "- Haut-parleur\n",
    "- Deux microphones\n",
    "- Ordinateur avec Python et Jupyter Notebook installés\n",
    "\n",
    "## Questions\n",
    "\n",
    "1. Comment peut-on mesurer la vitesse du son ?\n",
    "2. Comment isoler le signal émis par l'haut-parleur et comment peut-on minimiser les bruits captés par les microphones ?\n",
    "3. Utiliser les différents signaux afin de déduire lequel est le plus qualitatif.\n",
    "\n",
    "## Code\n",
    "\n",
    "Voici le code Python à utiliser pour générer les signaux et enregistrer le son :\n",
    "\n",
    "```\n",
    "# Importer les bibliothèques nécessaires\n",
    "# Gestion du son\n",
    "import sounddevice as sd\n",
    "import soundfile as sf\n",
    "# Bibliothèques pour analyse traitement du signal\n",
    "import scipy.io.wavfile\n",
    "import matplotlib.pyplot as plt\n",
    "import numpy as np\n",
    "#Bibliothèques pour générer, acquérir les sons\n",
    "import traitesignfip\n",
    "\n",
    "\n",
    "traitesignfip.record_microphone(\"noise\") #Acquisition du son des microphones durant 5 secondes, l'haut-parleur émet le son passé en argument pendant 1 seconde\n",
    "\n",
    "left,right = traitesignfip.read_signal('enregistrement.wav')\n",
    "\n",
    "#La ligne ci-dessus permet de séparer les deux canaux (Left and Right) car chacun des 2 micros enregistre sur un canal différent. \n",
    "#Ainsi deux tableaux permettent de traiter les valeurs de chaque micro. (Tableaux 'left' et 'right')\n",
    "```\n"
   ]
  },
  {
   "cell_type": "markdown",
   "metadata": {},
   "source": [
    "# Code python permettant de réaliser la mesure du son"
   ]
  },
  {
   "cell_type": "code",
   "execution_count": 2,
   "metadata": {},
   "outputs": [
    {
     "ename": "KeyboardInterrupt",
     "evalue": "",
     "output_type": "error",
     "traceback": [
      "\u001b[0;31m---------------------------------------------------------------------------\u001b[0m",
      "\u001b[0;31mKeyboardInterrupt\u001b[0m                         Traceback (most recent call last)",
      "\u001b[1;32m/adhome/p/pm/pmisiuk/ProjetFIP2A/MesureDuSon.ipynb Cell 3\u001b[0m in \u001b[0;36m<cell line: 14>\u001b[0;34m()\u001b[0m\n\u001b[1;32m     <a href='vscode-notebook-cell:/adhome/p/pm/pmisiuk/ProjetFIP2A/MesureDuSon.ipynb#W2sZmlsZQ%3D%3D?line=10'>11</a>\u001b[0m \u001b[39mfrom\u001b[39;00m \u001b[39mimportlib\u001b[39;00m \u001b[39mimport\u001b[39;00m reload\n\u001b[1;32m     <a href='vscode-notebook-cell:/adhome/p/pm/pmisiuk/ProjetFIP2A/MesureDuSon.ipynb#W2sZmlsZQ%3D%3D?line=11'>12</a>\u001b[0m reload(traitesignfip)\n\u001b[0;32m---> <a href='vscode-notebook-cell:/adhome/p/pm/pmisiuk/ProjetFIP2A/MesureDuSon.ipynb#W2sZmlsZQ%3D%3D?line=13'>14</a>\u001b[0m traitesignfip\u001b[39m.\u001b[39;49mrecord_microphone(\u001b[39m\"\u001b[39;49m\u001b[39msinus\u001b[39;49m\u001b[39m\"\u001b[39;49m,\u001b[39m3\u001b[39;49m)\n\u001b[1;32m     <a href='vscode-notebook-cell:/adhome/p/pm/pmisiuk/ProjetFIP2A/MesureDuSon.ipynb#W2sZmlsZQ%3D%3D?line=15'>16</a>\u001b[0m data_left, data_right \u001b[39m=\u001b[39m traitesignfip\u001b[39m.\u001b[39mread_signal(\u001b[39m'\u001b[39m\u001b[39menregistrement.wav\u001b[39m\u001b[39m'\u001b[39m)\n\u001b[1;32m     <a href='vscode-notebook-cell:/adhome/p/pm/pmisiuk/ProjetFIP2A/MesureDuSon.ipynb#W2sZmlsZQ%3D%3D?line=17'>18</a>\u001b[0m fs \u001b[39m=\u001b[39m \u001b[39m44100\u001b[39m \u001b[39m# fréquence d'échantillonage\u001b[39;00m\n",
      "File \u001b[0;32m~/ProjetFIP2A/traitesignfip.py:98\u001b[0m, in \u001b[0;36mrecord_microphone\u001b[0;34m(signal_type, time)\u001b[0m\n\u001b[1;32m     96\u001b[0m \u001b[39m# Enregistrer le son du microphone dans un fichier WAV\u001b[39;00m\n\u001b[1;32m     97\u001b[0m recorded_audio \u001b[39m=\u001b[39m sd\u001b[39m.\u001b[39mrec(\u001b[39mint\u001b[39m(duration \u001b[39m*\u001b[39m sample_rate), samplerate\u001b[39m=\u001b[39msample_rate, channels\u001b[39m=\u001b[39mchannels)\n\u001b[0;32m---> 98\u001b[0m sd\u001b[39m.\u001b[39;49mwait()  \u001b[39m# Attendre la fin de l'enregistrement\u001b[39;00m\n\u001b[1;32m     99\u001b[0m \u001b[39m# Enregistrer les données audio dans un fichier WAV\u001b[39;00m\n\u001b[1;32m    100\u001b[0m file_name \u001b[39m=\u001b[39m \u001b[39m\"\u001b[39m\u001b[39menregistrement.wav\u001b[39m\u001b[39m\"\u001b[39m\n",
      "File \u001b[0;32m/usr/local/anaconda3/lib/python3.9/site-packages/sounddevice.py:392\u001b[0m, in \u001b[0;36mwait\u001b[0;34m(ignore_errors)\u001b[0m\n\u001b[1;32m    376\u001b[0m \u001b[39m\"\"\"Wait for `play()`/`rec()`/`playrec()` to be finished.\u001b[39;00m\n\u001b[1;32m    377\u001b[0m \n\u001b[1;32m    378\u001b[0m \u001b[39mPlayback/recording can be stopped with a `KeyboardInterrupt`.\u001b[39;00m\n\u001b[0;32m   (...)\u001b[0m\n\u001b[1;32m    389\u001b[0m \n\u001b[1;32m    390\u001b[0m \u001b[39m\"\"\"\u001b[39;00m\n\u001b[1;32m    391\u001b[0m \u001b[39mif\u001b[39;00m _last_callback:\n\u001b[0;32m--> 392\u001b[0m     \u001b[39mreturn\u001b[39;00m _last_callback\u001b[39m.\u001b[39;49mwait(ignore_errors)\n",
      "File \u001b[0;32m/usr/local/anaconda3/lib/python3.9/site-packages/sounddevice.py:2592\u001b[0m, in \u001b[0;36m_CallbackContext.wait\u001b[0;34m(self, ignore_errors)\u001b[0m\n\u001b[1;32m   2586\u001b[0m \u001b[39m\"\"\"Wait for finished_callback.\u001b[39;00m\n\u001b[1;32m   2587\u001b[0m \n\u001b[1;32m   2588\u001b[0m \u001b[39mCan be interrupted with a KeyboardInterrupt.\u001b[39;00m\n\u001b[1;32m   2589\u001b[0m \n\u001b[1;32m   2590\u001b[0m \u001b[39m\"\"\"\u001b[39;00m\n\u001b[1;32m   2591\u001b[0m \u001b[39mtry\u001b[39;00m:\n\u001b[0;32m-> 2592\u001b[0m     \u001b[39mself\u001b[39;49m\u001b[39m.\u001b[39;49mevent\u001b[39m.\u001b[39;49mwait()\n\u001b[1;32m   2593\u001b[0m \u001b[39mfinally\u001b[39;00m:\n\u001b[1;32m   2594\u001b[0m     \u001b[39mself\u001b[39m\u001b[39m.\u001b[39mstream\u001b[39m.\u001b[39mclose(ignore_errors)\n",
      "File \u001b[0;32m/usr/local/anaconda3/lib/python3.9/threading.py:574\u001b[0m, in \u001b[0;36mEvent.wait\u001b[0;34m(self, timeout)\u001b[0m\n\u001b[1;32m    572\u001b[0m signaled \u001b[39m=\u001b[39m \u001b[39mself\u001b[39m\u001b[39m.\u001b[39m_flag\n\u001b[1;32m    573\u001b[0m \u001b[39mif\u001b[39;00m \u001b[39mnot\u001b[39;00m signaled:\n\u001b[0;32m--> 574\u001b[0m     signaled \u001b[39m=\u001b[39m \u001b[39mself\u001b[39;49m\u001b[39m.\u001b[39;49m_cond\u001b[39m.\u001b[39;49mwait(timeout)\n\u001b[1;32m    575\u001b[0m \u001b[39mreturn\u001b[39;00m signaled\n",
      "File \u001b[0;32m/usr/local/anaconda3/lib/python3.9/threading.py:312\u001b[0m, in \u001b[0;36mCondition.wait\u001b[0;34m(self, timeout)\u001b[0m\n\u001b[1;32m    310\u001b[0m \u001b[39mtry\u001b[39;00m:    \u001b[39m# restore state no matter what (e.g., KeyboardInterrupt)\u001b[39;00m\n\u001b[1;32m    311\u001b[0m     \u001b[39mif\u001b[39;00m timeout \u001b[39mis\u001b[39;00m \u001b[39mNone\u001b[39;00m:\n\u001b[0;32m--> 312\u001b[0m         waiter\u001b[39m.\u001b[39;49macquire()\n\u001b[1;32m    313\u001b[0m         gotit \u001b[39m=\u001b[39m \u001b[39mTrue\u001b[39;00m\n\u001b[1;32m    314\u001b[0m     \u001b[39melse\u001b[39;00m:\n",
      "\u001b[0;31mKeyboardInterrupt\u001b[0m: "
     ]
    }
   ],
   "source": [
    "# Importer les bibliothèques nécessaires\n",
    "# Gestion du son\n",
    "import sounddevice as sd\n",
    "import soundfile as sf\n",
    "# Bibliothèques pour analyse traitement du signal\n",
    "import scipy.io.wavfile\n",
    "import matplotlib.pyplot as plt\n",
    "import numpy as np\n",
    "#Bibliothèques pour générer, acquérir les sons\n",
    "import traitesignfip\n",
    "from importlib import reload\n",
    "reload(traitesignfip)\n",
    "\n",
    "traitesignfip.record_microphone(\"noise\",2)\n",
    "\n",
    "data_left, data_right = traitesignfip.read_signal('enregistrement.wav')\n",
    "\n",
    "fs = 44100 # fréquence d'échantillonage\n",
    "N=len(data_left) #nombre d'échantillions \n",
    "n = np.arange(0,N)/fs   #on divise par la fréquence d'échantillonage pour etre mieux dans l'échelle \n",
    "\n",
    "distance=0.80#Distance entre les deux micros en mètre\n",
    "\n",
    "#affichage du channel 1 \n",
    "plt.figure()\n",
    "plt.title(\"Right\")\n",
    "plt.plot(n,data_right)\n",
    "plt.figure()\n",
    "plt.title(\"Left\")\n",
    "plt.plot(n,data_left)\n",
    "\n",
    "corrLeft=np.correlate(data_left,traitesignfip.samples, mode='same')\n",
    "corrRight=np.correlate(data_right,traitesignfip.samples, mode='same')\n",
    "# Calcul de la corrélation croisée entre les deux signaux\n",
    "\n",
    "plt.figure()\n",
    "plt.title(\"CorrelLeft\")\n",
    "plt.plot(n,corrLeft)\n",
    "#Intercorrélation gauche \n",
    "plt.figure()\n",
    "plt.title(\"CorrelRight\")\n",
    "plt.plot(n,corrRight)\n",
    "#Intercorrélation droite \n",
    "\n",
    "# Trouver l'indice du maximum de la corrélation\n",
    "max_index_Left = np.argmax(corrLeft)/fs\n",
    "max_index_Right = np.argmax(corrRight)/fs\n",
    "\n",
    "delta_t = delta = np.abs(max_index_Left - max_index_Right)\n",
    "\n",
    "print(\"Temps PIC Gauche : \"+str(max_index_Left))\n",
    "print(\"Temps PIC Droit : \"+str(max_index_Right))\n",
    "\n",
    "print(\"Delta : \"+str(delta_t))\n",
    "print(\"Vitesse : \"+str(distance/delta_t)+\" m/s\")\n"
   ]
  },
  {
   "cell_type": "code",
   "execution_count": 1,
   "metadata": {},
   "outputs": [
    {
     "name": "stderr",
     "output_type": "stream",
     "text": [
      "ALSA lib pcm.c:8526:(snd_pcm_recover) underrun occurred\n",
      "ALSA lib pcm.c:8526:(snd_pcm_recover) underrun occurred\n",
      "ALSA lib pcm.c:8526:(snd_pcm_recover) underrun occurred\n",
      "ALSA lib pcm.c:8526:(snd_pcm_recover) underrun occurred\n",
      "ALSA lib pcm.c:8526:(snd_pcm_recover) underrun occurred\n",
      "ALSA lib pcm.c:8526:(snd_pcm_recover) underrun occurred\n",
      "ALSA lib pcm.c:8526:(snd_pcm_recover) underrun occurred\n",
      "ALSA lib pcm.c:8526:(snd_pcm_recover) underrun occurred\n",
      "ALSA lib pcm.c:8526:(snd_pcm_recover) underrun occurred\n",
      "ALSA lib pcm.c:8526:(snd_pcm_recover) underrun occurred\n"
     ]
    },
    {
     "ename": "KeyboardInterrupt",
     "evalue": "",
     "output_type": "error",
     "traceback": [
      "\u001b[0;31m---------------------------------------------------------------------------\u001b[0m",
      "\u001b[0;31mKeyboardInterrupt\u001b[0m                         Traceback (most recent call last)",
      "\u001b[1;32m/adhome/p/pm/pmisiuk/ProjetFIP2A/MesureDuSon.ipynb Cell 4\u001b[0m in \u001b[0;36m<cell line: 15>\u001b[0;34m()\u001b[0m\n\u001b[1;32m     <a href='vscode-notebook-cell:/adhome/p/pm/pmisiuk/ProjetFIP2A/MesureDuSon.ipynb#W3sZmlsZQ%3D%3D?line=12'>13</a>\u001b[0m vitesse_moyenne\u001b[39m=\u001b[39m\u001b[39m0\u001b[39m\n\u001b[1;32m     <a href='vscode-notebook-cell:/adhome/p/pm/pmisiuk/ProjetFIP2A/MesureDuSon.ipynb#W3sZmlsZQ%3D%3D?line=14'>15</a>\u001b[0m \u001b[39mfor\u001b[39;00m x \u001b[39min\u001b[39;00m \u001b[39mrange\u001b[39m(\u001b[39m3\u001b[39m):\n\u001b[0;32m---> <a href='vscode-notebook-cell:/adhome/p/pm/pmisiuk/ProjetFIP2A/MesureDuSon.ipynb#W3sZmlsZQ%3D%3D?line=15'>16</a>\u001b[0m     traitesignfip\u001b[39m.\u001b[39;49mrecord_microphone(\u001b[39m\"\u001b[39;49m\u001b[39mnoise\u001b[39;49m\u001b[39m\"\u001b[39;49m,\u001b[39m3\u001b[39;49m)\n\u001b[1;32m     <a href='vscode-notebook-cell:/adhome/p/pm/pmisiuk/ProjetFIP2A/MesureDuSon.ipynb#W3sZmlsZQ%3D%3D?line=17'>18</a>\u001b[0m     data_left, data_right \u001b[39m=\u001b[39m traitesignfip\u001b[39m.\u001b[39mread_signal(\u001b[39m'\u001b[39m\u001b[39menregistrement.wav\u001b[39m\u001b[39m'\u001b[39m)\n\u001b[1;32m     <a href='vscode-notebook-cell:/adhome/p/pm/pmisiuk/ProjetFIP2A/MesureDuSon.ipynb#W3sZmlsZQ%3D%3D?line=19'>20</a>\u001b[0m     fs \u001b[39m=\u001b[39m \u001b[39m44100\u001b[39m \u001b[39m# fréquence d'échantillonage\u001b[39;00m\n",
      "File \u001b[0;32m~/ProjetFIP2A/traitesignfip.py:98\u001b[0m, in \u001b[0;36mrecord_microphone\u001b[0;34m(signal_type, time)\u001b[0m\n\u001b[1;32m     96\u001b[0m \u001b[39m# Enregistrer le son du microphone dans un fichier WAV\u001b[39;00m\n\u001b[1;32m     97\u001b[0m recorded_audio \u001b[39m=\u001b[39m sd\u001b[39m.\u001b[39mrec(\u001b[39mint\u001b[39m(duration \u001b[39m*\u001b[39m sample_rate), samplerate\u001b[39m=\u001b[39msample_rate, channels\u001b[39m=\u001b[39mchannels)\n\u001b[0;32m---> 98\u001b[0m sd\u001b[39m.\u001b[39;49mwait()  \u001b[39m# Attendre la fin de l'enregistrement\u001b[39;00m\n\u001b[1;32m     99\u001b[0m \u001b[39m# Enregistrer les données audio dans un fichier WAV\u001b[39;00m\n\u001b[1;32m    100\u001b[0m file_name \u001b[39m=\u001b[39m \u001b[39m\"\u001b[39m\u001b[39menregistrement.wav\u001b[39m\u001b[39m\"\u001b[39m\n",
      "File \u001b[0;32m/usr/local/anaconda3/lib/python3.9/site-packages/sounddevice.py:392\u001b[0m, in \u001b[0;36mwait\u001b[0;34m(ignore_errors)\u001b[0m\n\u001b[1;32m    376\u001b[0m \u001b[39m\"\"\"Wait for `play()`/`rec()`/`playrec()` to be finished.\u001b[39;00m\n\u001b[1;32m    377\u001b[0m \n\u001b[1;32m    378\u001b[0m \u001b[39mPlayback/recording can be stopped with a `KeyboardInterrupt`.\u001b[39;00m\n\u001b[0;32m   (...)\u001b[0m\n\u001b[1;32m    389\u001b[0m \n\u001b[1;32m    390\u001b[0m \u001b[39m\"\"\"\u001b[39;00m\n\u001b[1;32m    391\u001b[0m \u001b[39mif\u001b[39;00m _last_callback:\n\u001b[0;32m--> 392\u001b[0m     \u001b[39mreturn\u001b[39;00m _last_callback\u001b[39m.\u001b[39;49mwait(ignore_errors)\n",
      "File \u001b[0;32m/usr/local/anaconda3/lib/python3.9/site-packages/sounddevice.py:2592\u001b[0m, in \u001b[0;36m_CallbackContext.wait\u001b[0;34m(self, ignore_errors)\u001b[0m\n\u001b[1;32m   2586\u001b[0m \u001b[39m\"\"\"Wait for finished_callback.\u001b[39;00m\n\u001b[1;32m   2587\u001b[0m \n\u001b[1;32m   2588\u001b[0m \u001b[39mCan be interrupted with a KeyboardInterrupt.\u001b[39;00m\n\u001b[1;32m   2589\u001b[0m \n\u001b[1;32m   2590\u001b[0m \u001b[39m\"\"\"\u001b[39;00m\n\u001b[1;32m   2591\u001b[0m \u001b[39mtry\u001b[39;00m:\n\u001b[0;32m-> 2592\u001b[0m     \u001b[39mself\u001b[39;49m\u001b[39m.\u001b[39;49mevent\u001b[39m.\u001b[39;49mwait()\n\u001b[1;32m   2593\u001b[0m \u001b[39mfinally\u001b[39;00m:\n\u001b[1;32m   2594\u001b[0m     \u001b[39mself\u001b[39m\u001b[39m.\u001b[39mstream\u001b[39m.\u001b[39mclose(ignore_errors)\n",
      "File \u001b[0;32m/usr/local/anaconda3/lib/python3.9/threading.py:574\u001b[0m, in \u001b[0;36mEvent.wait\u001b[0;34m(self, timeout)\u001b[0m\n\u001b[1;32m    572\u001b[0m signaled \u001b[39m=\u001b[39m \u001b[39mself\u001b[39m\u001b[39m.\u001b[39m_flag\n\u001b[1;32m    573\u001b[0m \u001b[39mif\u001b[39;00m \u001b[39mnot\u001b[39;00m signaled:\n\u001b[0;32m--> 574\u001b[0m     signaled \u001b[39m=\u001b[39m \u001b[39mself\u001b[39;49m\u001b[39m.\u001b[39;49m_cond\u001b[39m.\u001b[39;49mwait(timeout)\n\u001b[1;32m    575\u001b[0m \u001b[39mreturn\u001b[39;00m signaled\n",
      "File \u001b[0;32m/usr/local/anaconda3/lib/python3.9/threading.py:312\u001b[0m, in \u001b[0;36mCondition.wait\u001b[0;34m(self, timeout)\u001b[0m\n\u001b[1;32m    310\u001b[0m \u001b[39mtry\u001b[39;00m:    \u001b[39m# restore state no matter what (e.g., KeyboardInterrupt)\u001b[39;00m\n\u001b[1;32m    311\u001b[0m     \u001b[39mif\u001b[39;00m timeout \u001b[39mis\u001b[39;00m \u001b[39mNone\u001b[39;00m:\n\u001b[0;32m--> 312\u001b[0m         waiter\u001b[39m.\u001b[39;49macquire()\n\u001b[1;32m    313\u001b[0m         gotit \u001b[39m=\u001b[39m \u001b[39mTrue\u001b[39;00m\n\u001b[1;32m    314\u001b[0m     \u001b[39melse\u001b[39;00m:\n",
      "\u001b[0;31mKeyboardInterrupt\u001b[0m: "
     ]
    }
   ],
   "source": [
    "# Importer les bibliothèques nécessaires\n",
    "# Gestion du son\n",
    "import sounddevice as sd\n",
    "import soundfile as sf\n",
    "# Bibliothèques pour analyse traitement du signal\n",
    "import scipy.io.wavfile\n",
    "import matplotlib.pyplot as plt\n",
    "import numpy as np\n",
    "#Bibliothèques pour générer, acquérir les sons\n",
    "import traitesignfip\n",
    "from importlib import reload\n",
    "reload(traitesignfip)\n",
    "vitesse_moyenne=0\n",
    "\n",
    "for x in range(3):\n",
    "    traitesignfip.record_microphone(\"noise\",3)\n",
    "\n",
    "    data_left, data_right = traitesignfip.read_signal('enregistrement.wav')\n",
    "\n",
    "    fs = 44100 # fréquence d'échantillonage\n",
    "    N=len(data_left) #nombre d'échantillions \n",
    "    n = np.arange(0,N)/fs   #on divise par la fréquence d'échantillonage pour etre mieux dans l'échelle \n",
    "\n",
    "    distance=0.80#Distance entre les deux micros en mètre\n",
    "\n",
    "    corrLeft=np.correlate(data_left,traitesignfip.samples, mode='same')\n",
    "    corrRight=np.correlate(data_right,traitesignfip.samples, mode='same')\n",
    "    # Calcul de la corrélation croisée entre les deux signaux\n",
    "\n",
    "    # Trouver l'indice du maximum de la corrélation\n",
    "    max_index_Left = np.argmax(corrLeft)/fs\n",
    "    max_index_Right = np.argmax(corrRight)/fs\n",
    "\n",
    "    delta_t  = np.abs(max_index_Left - max_index_Right)\n",
    "\n",
    "    print(\"Temps PIC Gauche : \"+str(max_index_Left))\n",
    "    print(\"Temps PIC Droit : \"+str(max_index_Right))\n",
    "\n",
    "    print(\"Delta : \"+str(delta_t))\n",
    "    print(\"Vitesse : \"+str(distance/delta_t)+\" m/s\")\n",
    "    vitesse_moyenne+=distance/delta_t\n",
    "\n",
    "print(\"Vitesse moyenne Noise 2 seconde : \"+str(vitesse_moyenne/3))"
   ]
  }
 ],
 "metadata": {
  "kernelspec": {
   "display_name": "Python 3.9.12 ('base')",
   "language": "python",
   "name": "python3"
  },
  "language_info": {
   "codemirror_mode": {
    "name": "ipython",
    "version": 3
   },
   "file_extension": ".py",
   "mimetype": "text/x-python",
   "name": "python",
   "nbconvert_exporter": "python",
   "pygments_lexer": "ipython3",
   "version": "3.9.12"
  },
  "orig_nbformat": 4,
  "vscode": {
   "interpreter": {
    "hash": "3067ead486e059ec00ffe7555bdb889e6e264a24dc711bf108106cc7baee8d5d"
   }
  }
 },
 "nbformat": 4,
 "nbformat_minor": 2
}
