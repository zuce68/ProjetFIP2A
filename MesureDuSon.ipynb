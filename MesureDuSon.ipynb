{
 "cells": [
  {
   "cell_type": "markdown",
   "metadata": {},
   "source": [
    "## TP : Traitement du Signal\n",
    "\n",
    "### Objectif\n",
    "\n",
    "L'objectif de ce TP est de mesurer la vitesse du son en utilisant le matériel fourni.\n",
    "\n",
    "### Matériel\n",
    "\n",
    "- Haut-parleur\n",
    "- Deux microphones\n",
    "- Ordinateur avec Python et Jupyter Notebook installés\n",
    "\n",
    "### Questions\n",
    "\n",
    "1. Quel est l'objectif de ce TP ?\n",
    "2. Quel est le matériel nécessaire pour réaliser cette expérience ?\n",
    "3. Comment peut-on mesurer la vitesse du son ?\n",
    "4. Pourquoi doit-on utiliser une corrélation pour isoler le signal envoyé par l'haut-parleur et comment peut-on minimiser les bruits captés par les microphones ?\n",
    "5. Comment peut-on minimiser les bruits captés par les microphones ?\n",
    "\n",
    "### Code\n",
    "\n",
    "Voici le code Python à utiliser pour générer les signaux et enregistrer le son :\n",
    "\n",
    "\n",
    "```\n",
    "# Importer les bibliothèques nécessaires\n",
    "# Gestion du son\n",
    "import sounddevice as sd\n",
    "import soundfile as sf\n",
    "# Bibliothèques pour analyse traitement du signal\n",
    "import scipy.io.wavfile\n",
    "import matplotlib.pyplot as plt\n",
    "import numpy as np\n",
    "#Bibliothèques pour générer, acquérir les sons\n",
    "import traitesignfip\n",
    "\n",
    "\n",
    "\n",
    "\n",
    "# Définir les paramètres du signal\n",
    "duration = 5  # Durée du signal en secondes\n",
    "frequency = 440  # Fréquence du signal en Hertz\n",
    "\n",
    "# Générer le signal\n",
    "time = np.linspace(0, duration, int(duration * 44100), False)\n",
    "signal = np.sin(frequency * 2 * np.pi * time)\n",
    "\n",
    "# Jouer le signal sur les haut-parleurs\n",
    "sd.play(signal, 44100)\n",
    "\n",
    "# Enregistrer le son du microphone\n",
    "recording = sd.rec(int(duration * 44100), 44100, channels=2)\n",
    "sd.wait()\n",
    "\n",
    "```\n"
   ]
  },
  {
   "cell_type": "code",
   "execution_count": null,
   "metadata": {},
   "outputs": [],
   "source": []
  }
 ],
 "metadata": {
  "kernelspec": {
   "display_name": "Python 3.9.12 ('base')",
   "language": "python",
   "name": "python3"
  },
  "language_info": {
   "name": "python",
   "version": "3.9.12"
  },
  "orig_nbformat": 4,
  "vscode": {
   "interpreter": {
    "hash": "3067ead486e059ec00ffe7555bdb889e6e264a24dc711bf108106cc7baee8d5d"
   }
  }
 },
 "nbformat": 4,
 "nbformat_minor": 2
}
