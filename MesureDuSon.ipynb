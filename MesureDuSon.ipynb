{
 "cells": [
  {
   "cell_type": "markdown",
   "metadata": {},
   "source": [
    "### TP : Traitement du Signal\n",
    "## Objectif\n",
    "\n",
    "L'objectif de ce TP est de mesurer la vitesse du son en utilisant le matériel fourni.\n",
    "\n",
    "## Matériel\n",
    "\n",
    "- Haut-parleur\n",
    "- Deux microphones\n",
    "- Ordinateur avec Python et Jupyter Notebook installés\n",
    "\n",
    "## Questions\n",
    "\n",
    "1. Comment peut-on mesurer la vitesse du son ?\n",
    "2. Comment isoler le signal émis par l'haut-parleur et comment peut-on minimiser les bruits captés par les microphones ?\n",
    "3. Utiliser les différents signaux afin de déduire lequel est le plus qualitatif.\n",
    "\n",
    "## Code\n",
    "\n",
    "Voici le code Python à utiliser pour générer les signaux et enregistrer le son :\n",
    "\n",
    "```\n",
    "# Importer les bibliothèques nécessaires\n",
    "# Gestion du son\n",
    "import sounddevice as sd\n",
    "import soundfile as sf\n",
    "# Bibliothèques pour analyse traitement du signal\n",
    "import scipy.io.wavfile\n",
    "import matplotlib.pyplot as plt\n",
    "import numpy as np\n",
    "#Bibliothèques pour générer, acquérir les sons\n",
    "import traitesignfip\n",
    "\n",
    "\n",
    "traitesignfip.record_microphone(\"noise\") #Acquisition du son des microphones durant 5 secondes, l'haut-parleur émet le son passé en argument pendant 1 seconde\n",
    "\n",
    "rate, data = scipy.io.wavfile.read('enregistrement.wav')#Lecture du fichier où l'acquisition a été enregistrée \n",
    "\n",
    "data_right = data[:,1]\n",
    "data_left = data[:,0]\n",
    "\n",
    "#Ces deux lignes permettent de séparer les deux canaux (Left and Right) car chacun des 2 micros enregistre sur un canal différent. \n",
    "#Ainsi deux tableaux permettent de traiter les valeurs de chaque micro.\n",
    "```\n"
   ]
  },
  {
   "cell_type": "code",
   "execution_count": 200,
   "metadata": {},
   "outputs": [
    {
     "data": {
      "image/png": "[encoded data removed]",
      "text/plain": [
       "<Figure size 432x288 with 1 Axes>"
      ]
     },
     "metadata": {
      "needs_background": "light"
     },
     "output_type": "display_data"
    }
   ],
   "source": [
    "import sounddevice as sd\n",
    "import numpy as np\n",
    "import matplotlib.pyplot as plt\n",
    "\n",
    "fs=44100\n",
    "duration=5\n",
    "\n",
    "analog = sd.rec(int(duration*fs),samplerate=fs,channels=1)\n",
    "sd.wait()\n",
    "digital = np.array(analog.flatten()>0,dtype=int)\n",
    "\n",
    "\n",
    "plt.plot(analog)\n",
    "plt.show()\n"
   ]
  },
  {
   "cell_type": "code",
   "execution_count": 201,
   "metadata": {},
   "outputs": [
    {
     "name": "stdout",
     "output_type": "stream",
     "text": [
      "[-1.         -1.         -1.         ...  0.90164185  0.90112305\n",
      "  0.90115356]\n",
      "[0 1 0 0 0 1 0 1 0 1 1 0 1 1 1 0 0 1 1 1 1 0 1 0 0 0 1 0 0 0 0 0 0 1 1 0 1\n",
      " 1 1 0 0 1 1 1 0 1 0 0 0 1 0 0 0 0 0 1 0 1 0 0 0 0 0 1 0 1 0 0 0 0 0 1 0 1\n",
      " 0 0 0 0 0 1 0 1 0 0 0 0 0 1 0 1 0 0 0 0 0 1 0 1 0 0 0 0 0 1 0 1 0 0 0 0 0\n",
      " 1 0 1 0 0 0 0 0 1 0 1 0 0 0 0 0 1 0 1 0 0 0 0 0 1 0 1 0 0 0 0 0 1 0 1 0 0\n",
      " 0 0 0 1 0 1 0 0 0 0 0 1 0 1 0 0 0 0 0 1 0 1 0 0 0 0 0 1 0 1 0 0 0 0 0 1 0\n",
      " 1 0 0 0 0 0 1 0 1 0 0 0 0 0 1 0 1 0 0 0 0 0 1 0 1 0 0 0 0 0 1 0 1 0 0 0 0\n",
      " 0 1 0 1 0 0 0 0 0 1 0 1 0 0 0 0 0 1 0 1 0 0 0 0 0 1 0 1 0 0 0 0 0 1 0 1 0\n",
      " 0 0 0 0 1 0 1 0 0 0 0 0 1 0 1 0 0 0 0 0 1 0 1 0 0 0 0 0 1 0 1 0 0 0 0 0 1\n",
      " 0 1 0 0 0 0 0 1 0 1 0 0 0 0 0 1 0 1 0 0 0 0 0 1 0 1 0 0 0 0 0 1 0 1 0 0 0\n",
      " 0 0 1 0 1 1 0 1 1 0 1 1 1 1 1 1 1 1 1 1 1 1 1 1 1 1 1 1 1 1 1 1 1 1 1 1 1\n",
      " 1 1 1 1 1 1 1 1 1 1 1 1 1 1 1 1 1 1 1 1 1 1 1 1 1 1 1 1 1 1 1 1 1 1 1 1 1\n",
      " 1 1 1 1 1 1 1 1 1 1 1 1 1 1 1 1 1 1 1 1 1 1 1 1 1 1 1 1 1 1 1 1 1 1 1 1 1\n",
      " 1 1 1 1 1 1 1 1 1 1 1 1 1 1 1 1 1 1 1 1 1 1 1 1 1 1 1 1 1 1 1 1 1 1 1 1 1\n",
      " 1 1 1 1 1 1 1 1 1 1 1 1 1 1 1 1 1 1 1 1 1 1 1 1 1 1 1 1 1 1 1 1 1 1 1 1 1\n",
      " 1 1 1 1 1 1 1 1 1 1 1 1 1 1 1 1 1 1 1 1 1 1 1 1 1 1 1 1 1 1 1 1 1 1 1 1 1\n",
      " 1 1 1 1 1 1 1 1 1 1 1 1 1 1 1 1 1 1 1 1 1 1 1 1 1 1 1 1 1 1 1 1 1 1 1 1 1\n",
      " 1 1 1 1 1 1 1 1 1 1 1 1 1 1 1 1 1 1 1 1 1 1 1 1 1 1 1 1 1 1 1 1 1 1 1 1 1\n",
      " 1 1 1 1 1 1 1 1 1 1 1 1 1 1 1 1 1 1 1 1 1 1 1 1 1 1 1 1 1 1 1 1 1 1 1 1 1\n",
      " 1 1 1 1 1 1 1 1 1 1 1 1 1 1 1 1 1 1 1 1 1 1 1 1 1 1 1 1 1 1 1 1 1 1 1 1 1\n",
      " 1 1 1 1 1 1 1 1 1 1 1 1 1 1 1 1 1 1 1 1 1 1 1 1 1 1 1 1 1 1 1 1 1 1 1 1 1\n",
      " 1 1 1 1 1 1 1 1 1 1 1 1 1 1 1 1 1 1 1 1 1 1 1 1 1 1 1 1 1 1 1 1 1 1 1 1 1\n",
      " 1 1 1 1 1 1 1 1 1 1 1 1 1 1 1 1 1 1 1 1 1 1 1 1 1 1 1 1 1 1 1 1 1 1 1 1 1\n",
      " 1 1 1 1 1 1 1 1 1 1 1 1 1 1 1 1 1 1 1 1 1 1 1 1 1 1 1 1 1 1 1 1 1 1 1 1 1\n",
      " 1]\n",
      "Enz ntAAAAAAAAAAAAAAAAAAAAAAAAAAAAAAAAAAAAmÿÿÿÿÿÿÿÿÿÿÿÿÿÿÿÿÿÿÿÿÿÿÿÿÿÿÿÿÿÿÿÿÿÿÿÿÿÿÿÿÿÿÿÿÿÿÿÿÿÿÿÿÿÿÿÿÿÿÿÿÿÿÿ\u000f\n"
     ]
    },
    {
     "data": {
      "image/png": "[encoded data removed]",
      "text/plain": [
       "<Figure size 432x288 with 1 Axes>"
      ]
     },
     "metadata": {
      "needs_background": "light"
     },
     "output_type": "display_data"
    }
   ],
   "source": [
    "import comnumfip2\n",
    "from importlib import reload\n",
    "reload(comnumfip2)\n",
    "plt.plot(analog)\n",
    "plt.xlim(35000,36000)\n",
    "analog_cut = [x for x in analog if (x<-0.5 or x>0.5)]\n",
    "#Filtre de réception\n",
    "mask = (analog<-0.9) | (analog>0.9) #On garde tout ce qui a une amplitude de plus de 0.5V\n",
    "analog_test = analog[mask]\n",
    "print(analog_test)\n",
    "bin=comnumfip2.sample_and_threshold(analog_test,0.9)\n",
    "print(bin)\n",
    "\n",
    "\n",
    "def decode_nrz(bits): \n",
    "    signal = np.zeros(len(bits), dtype=np.int8) \n",
    "    for i, bit in enumerate(bits): \n",
    "        if bit == 0: \n",
    "            signal[i] = -1 \n",
    "        else: \n",
    "            signal[i] = 1 \n",
    "    return signal\n",
    "\n",
    "def decode_manchester(bits):\n",
    "    signal = np.zeros(2*len(bits), dtype=np.int8)\n",
    "    for i, bit in enumerate(bits):\n",
    "        if bit == 0:\n",
    "            signal[2*i] = 1\n",
    "            signal[2*i+1] = -1\n",
    "        else:\n",
    "            signal[2*i] = -1\n",
    "            signal[2*i+1] = 1\n",
    "    return signal\n",
    "\n",
    "def decode_ami(bits):\n",
    "    signal = np.zeros(len(bits), dtype=np.int8)\n",
    "    last_voltage = 1\n",
    "    for i, bit in enumerate(bits):\n",
    "        if bit == 0:\n",
    "            signal[i] = 0\n",
    "        else:\n",
    "            signal[i] = last_voltage\n",
    "            last_voltage = -last_voltage\n",
    "    return signal\n",
    "\n",
    "\n",
    "def bin2ascii(bits): # Séparer les bits en groupes de 8 \n",
    "    bits_str =''.join(str(bit) for bit in bits)\n",
    "    bytes_list = [bits_str[i:i+8] for i in range(0, len(bits_str), 8)] # Convertir chaque groupe de 8 bits en un caractère ASCII \n",
    "    ascii_str = ''.join([chr(int(byte, 2)) for byte in bytes_list]) \n",
    "    return ascii_str\n",
    "\n",
    "\n",
    "print(bin2ascii(bin))\n",
    "\n"
   ]
  },
  {
   "cell_type": "markdown",
   "metadata": {},
   "source": [
    "# Code python permettant de réaliser la mesure du son"
   ]
  },
  {
   "cell_type": "code",
   "execution_count": 90,
   "metadata": {},
   "outputs": [
    {
     "name": "stderr",
     "output_type": "stream",
     "text": [
      "ALSA lib pcm.c:8526:(snd_pcm_recover) underrun occurred\n",
      "ALSA lib pcm.c:8526:(snd_pcm_recover) underrun occurred\n",
      "ALSA lib pcm.c:8526:(snd_pcm_recover) underrun occurred\n",
      "ALSA lib pcm.c:8526:(snd_pcm_recover) underrun occurred\n",
      "ALSA lib pcm.c:8526:(snd_pcm_recover) underrun occurred\n",
      "ALSA lib pcm.c:8526:(snd_pcm_recover) underrun occurred\n",
      "ALSA lib pcm.c:8526:(snd_pcm_recover) underrun occurred\n",
      "ALSA lib pcm.c:8526:(snd_pcm_recover) underrun occurred\n"
     ]
    },
    {
     "ename": "KeyboardInterrupt",
     "evalue": "",
     "output_type": "error",
     "traceback": [
      "\u001b[0;31m---------------------------------------------------------------------------\u001b[0m",
      "\u001b[0;31mKeyboardInterrupt\u001b[0m                         Traceback (most recent call last)",
      "\u001b[1;32m/adhome/p/pm/pmisiuk/ProjetFIP2A/MesureDuSon.ipynb Cell 5\u001b[0m in \u001b[0;36m<cell line: 43>\u001b[0;34m()\u001b[0m\n\u001b[1;32m     <a href='vscode-notebook-cell:/adhome/p/pm/pmisiuk/ProjetFIP2A/MesureDuSon.ipynb#W4sZmlsZQ%3D%3D?line=34'>35</a>\u001b[0m plt\u001b[39m.\u001b[39mplot(n,data_left)\n\u001b[1;32m     <a href='vscode-notebook-cell:/adhome/p/pm/pmisiuk/ProjetFIP2A/MesureDuSon.ipynb#W4sZmlsZQ%3D%3D?line=36'>37</a>\u001b[0m \u001b[39m# fc = 1000 # fréquence de coupure du filtre passe-bas\u001b[39;00m\n\u001b[1;32m     <a href='vscode-notebook-cell:/adhome/p/pm/pmisiuk/ProjetFIP2A/MesureDuSon.ipynb#W4sZmlsZQ%3D%3D?line=37'>38</a>\u001b[0m \u001b[39m# b, a = sp.signal.butter(4, fc / (fs / 2), 'low')\u001b[39;00m\n\u001b[1;32m     <a href='vscode-notebook-cell:/adhome/p/pm/pmisiuk/ProjetFIP2A/MesureDuSon.ipynb#W4sZmlsZQ%3D%3D?line=38'>39</a>\u001b[0m \u001b[39m# data_left_filtered = sp.signal.filtfilt(b, a, data_left)\u001b[39;00m\n\u001b[1;32m     <a href='vscode-notebook-cell:/adhome/p/pm/pmisiuk/ProjetFIP2A/MesureDuSon.ipynb#W4sZmlsZQ%3D%3D?line=39'>40</a>\u001b[0m \u001b[39m# data_right_filtered = sp.signal.filtfilt(b, a, data_right)\u001b[39;00m\n\u001b[0;32m---> <a href='vscode-notebook-cell:/adhome/p/pm/pmisiuk/ProjetFIP2A/MesureDuSon.ipynb#W4sZmlsZQ%3D%3D?line=42'>43</a>\u001b[0m corrLeft\u001b[39m=\u001b[39mnp\u001b[39m.\u001b[39;49mcorrelate(data_left,traitesignfip\u001b[39m.\u001b[39;49msamples, mode\u001b[39m=\u001b[39;49m\u001b[39m'\u001b[39;49m\u001b[39msame\u001b[39;49m\u001b[39m'\u001b[39;49m)\n\u001b[1;32m     <a href='vscode-notebook-cell:/adhome/p/pm/pmisiuk/ProjetFIP2A/MesureDuSon.ipynb#W4sZmlsZQ%3D%3D?line=43'>44</a>\u001b[0m corrRight\u001b[39m=\u001b[39mnp\u001b[39m.\u001b[39mcorrelate(data_right,traitesignfip\u001b[39m.\u001b[39msamples, mode\u001b[39m=\u001b[39m\u001b[39m'\u001b[39m\u001b[39msame\u001b[39m\u001b[39m'\u001b[39m)\n\u001b[1;32m     <a href='vscode-notebook-cell:/adhome/p/pm/pmisiuk/ProjetFIP2A/MesureDuSon.ipynb#W4sZmlsZQ%3D%3D?line=44'>45</a>\u001b[0m \u001b[39m# Calcul de la corrélation croisée entre les deux signaux\u001b[39;00m\n",
      "File \u001b[0;32m<__array_function__ internals>:5\u001b[0m, in \u001b[0;36mcorrelate\u001b[0;34m(*args, **kwargs)\u001b[0m\n",
      "File \u001b[0;32m/usr/local/anaconda3/lib/python3.9/site-packages/numpy/core/numeric.py:741\u001b[0m, in \u001b[0;36mcorrelate\u001b[0;34m(a, v, mode)\u001b[0m\n\u001b[1;32m    670\u001b[0m \u001b[39m@array_function_dispatch\u001b[39m(_correlate_dispatcher)\n\u001b[1;32m    671\u001b[0m \u001b[39mdef\u001b[39;00m \u001b[39mcorrelate\u001b[39m(a, v, mode\u001b[39m=\u001b[39m\u001b[39m'\u001b[39m\u001b[39mvalid\u001b[39m\u001b[39m'\u001b[39m):\n\u001b[1;32m    672\u001b[0m     \u001b[39m\"\"\"\u001b[39;00m\n\u001b[1;32m    673\u001b[0m \u001b[39m    Cross-correlation of two 1-dimensional sequences.\u001b[39;00m\n\u001b[1;32m    674\u001b[0m \n\u001b[0;32m   (...)\u001b[0m\n\u001b[1;32m    739\u001b[0m \n\u001b[1;32m    740\u001b[0m \u001b[39m    \"\"\"\u001b[39;00m\n\u001b[0;32m--> 741\u001b[0m     \u001b[39mreturn\u001b[39;00m multiarray\u001b[39m.\u001b[39;49mcorrelate2(a, v, mode)\n",
      "\u001b[0;31mKeyboardInterrupt\u001b[0m: "
     ]
    },
    {
     "data": {
      "image/png": "[encoded data removed]",
      "text/plain": [
       "<Figure size 432x288 with 1 Axes>"
      ]
     },
     "metadata": {
      "needs_background": "light"
     },
     "output_type": "display_data"
    },
    {
     "data": {
      "image/png": "[encoded data removed]",
      "text/plain": [
       "<Figure size 432x288 with 1 Axes>"
      ]
     },
     "metadata": {
      "needs_background": "light"
     },
     "output_type": "display_data"
    }
   ],
   "source": [
    "# Importer les bibliothèques nécessaires\n",
    "# Gestion du son\n",
    "import sounddevice as sd\n",
    "import soundfile as sf\n",
    "# Bibliothèques pour analyse traitement du signal\n",
    "import scipy.io.wavfile\n",
    "import matplotlib.pyplot as plt\n",
    "import numpy as np\n",
    "#Bibliothèques pour générer, acquérir les sons\n",
    "import traitesignfip\n",
    "from importlib import reload\n",
    "reload(traitesignfip)\n",
    "\n",
    "traitesignfip.record_microphone(\"noise\",3)\n",
    "\n",
    "rate, data = scipy.io.wavfile.read('enregistrement.wav')\n",
    "\n",
    "fs = 44100 # fréquence d'échantillonage\n",
    "N=len(data) #nombre d'échantillions \n",
    "n = np.arange(0,N)/fs   #on divise par la fréquence d'échantillonage pour etre mieux dans l'échelle \n",
    "\n",
    "\n",
    "distance=0.50\n",
    "\n",
    "\n",
    "data_right = data[:,1]\n",
    "data_left = data[:,0]\n",
    "\n",
    "#affichage du channel 1 \n",
    "plt.figure()\n",
    "plt.title(\"Right\")\n",
    "plt.plot(n,data_right)\n",
    "plt.figure()\n",
    "plt.title(\"Left\")\n",
    "plt.plot(n,data_left)\n",
    "\n",
    "# fc = 1000 # fréquence de coupure du filtre passe-bas\n",
    "# b, a = sp.signal.butter(4, fc / (fs / 2), 'low')\n",
    "# data_left_filtered = sp.signal.filtfilt(b, a, data_left)\n",
    "# data_right_filtered = sp.signal.filtfilt(b, a, data_right)\n",
    "\n",
    "\n",
    "corrLeft=np.correlate(data_left,traitesignfip.samples, mode='same')\n",
    "corrRight=np.correlate(data_right,traitesignfip.samples, mode='same')\n",
    "# Calcul de la corrélation croisée entre les deux signaux\n",
    "\n",
    "plt.figure()\n",
    "plt.title(\"CorrelLeft\")\n",
    "plt.plot(n,corrLeft)\n",
    "#signal X\n",
    "plt.figure()\n",
    "plt.title(\"CorrelRight\")\n",
    "plt.plot(n,corrRight)\n",
    "#signal X\n",
    "\n",
    "\n",
    "\n",
    "# Trouver l'indice du maximum de la corrélation\n",
    "max_index_Left = np.argmax(corrLeft)/fs\n",
    "max_index_Right = np.argmax(corrRight)/fs\n",
    "\n",
    "delta_t = delta = np.abs(max_index_Left - max_index_Right)\n",
    "\n",
    "print(\"Temps PIC Gauche : \"+str(max_index_Left))\n",
    "print(\"Temps PIC Droit : \"+str(max_index_Right))\n",
    "\n",
    "print(\"Delta : \"+str(delta_t))\n",
    "print(\"Vitesse : \"+str(distance/delta_t)+\" m/s\")\n"
   ]
  },
  {
   "cell_type": "markdown",
   "metadata": {},
   "source": []
  }
 ],
 "metadata": {
  "kernelspec": {
   "display_name": "Python 3.9.12 ('base')",
   "language": "python",
   "name": "python3"
  },
  "language_info": {
   "codemirror_mode": {
    "name": "ipython",
    "version": 3
   },
   "file_extension": ".py",
   "mimetype": "text/x-python",
   "name": "python",
   "nbconvert_exporter": "python",
   "pygments_lexer": "ipython3",
   "version": "3.9.12"
  },
  "orig_nbformat": 4,
  "vscode": {
   "interpreter": {
    "hash": "3067ead486e059ec00ffe7555bdb889e6e264a24dc711bf108106cc7baee8d5d"
   }
  }
 },
 "nbformat": 4,
 "nbformat_minor": 2
}
