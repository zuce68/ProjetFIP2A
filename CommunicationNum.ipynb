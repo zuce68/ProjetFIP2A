{
 "cells": [
  {
   "cell_type": "markdown",
   "metadata": {},
   "source": [
    "### TP : Traitement du signal 2\n",
    "### Objectif\n",
    "\n",
    "L'objectif de ce TP est de mettre en oeuvre une communication numérique entre deux ordinateur via une liaison Jack. \n",
    "\n",
    "### Matériel\n",
    "\n",
    "- 2 Ordinateurs sous Ubuntu avec Python et Jupyter\n",
    "- 1 Canal composé d’une boîte noire et de deux câbles jack\n",
    "\n",
    "### Questions\n",
    "\n",
    "1. Mettre en oeuvre une chaîne de communication numérique.\n",
    "2. Quelle modulation sera utilisée lors de ce TP ? Pourquoi ? \n",
    "3. Essayer de transmettre des messages avec différentes forme d’onde. \n",
    "4. Quelle est la forme d’onde la plus robuste aux bruits ?\n",
    "5. Quelle est l’interêt du code ASCII ? \n",
    "6. Existe-t-il un code source plus avantageux que le ASCII ?\n",
    "\n",
    "## Code\n",
    "\n",
    "Voici le code Python à utiliser pour enregistrer une communication numérique :\n",
    "\n",
    "```\n",
    "# Importer les bibliothèques nécessaires\n",
    "# Bibliothèques pour analyse traitement du signal\n",
    "import scipy.io.wavfile\n",
    "import matplotlib.pyplot as plt\n",
    "import numpy as np\n",
    "#Bibliothèques pour générer, acquérir les sons\n",
    "import comnumfip2\n",
    "\n",
    "\n",
    "signal = comnumfip2.receive_signal() #Acquisition du signal \n",
    "\n",
    "signal_binaire = commnumfip2.sample_and_threshold(signal)\n",
    "\n",
    "#La ligne ci-dessus permet d'échantillonner et de seuiller le signal acquérit.\n",
    "```\n"
   ]
  },
  {
   "cell_type": "code",
   "execution_count": 97,
   "metadata": {},
   "outputs": [
    {
     "data": {
      "image/png": "[encoded data removed]",
      "text/plain": [
       "<Figure size 432x288 with 1 Axes>"
      ]
     },
     "metadata": {
      "needs_background": "light"
     },
     "output_type": "display_data"
    },
    {
     "name": "stdout",
     "output_type": "stream",
     "text": [
      "[0 1 1 1 0 0 0 0 0 1 1 0 1 0 0 1 0 1 1 0 0 1 0 1 0 1 1 1 0 0 1 0 0 1 1 1 0\n",
      " 0 1 0 0 1 1 0 0 1 0 1 0 0 1 0 0 0 0 0 0 1 1 1 0 1 0 0 0 1 1 0 0 1 0 1 0 1\n",
      " 1 1 0 0 1 1 0 1 1 1 0 1 0 0 0 0 1 0 0 0 0 0 0 1 1 0 1 1 0 0 0 1 1 0 0 0 0\n",
      " 1 0 0 1 0 0 0 0 0 0 1 1 0 0 0 1 1 0 1 1 0 1 1 1 1 0 1 1 0 1 1 0 1 0 1 1 0\n",
      " 1 1 0 1 0 1 1 1 0 1 0 1 0 1 1 0 1 1 1 0 0 1 1 0 1 0 0 1 0 1 1 0 0 0 1 1 0\n",
      " 1 1 0 0 0 0 1 0 1 1 1 0 1 0 0 0 1 1 0 1 0 0 1 0 1 1 0 1 1 1 1 0 1 1 0 1 1\n",
      " 1 0 0 0 1 0 0 0 0 0 0 1 1 0 1 1 1 0 0 1 1 1 0 1 0 1 0 1 1 0 1 1 0 1 1 1 1\n",
      " 0 1 0 0 1 0 1 1 1 0 0 1 0 0 1 1 0 1 0 0 1 0 1 1 1 0 0 0 1 0 1 1 1 0 1 0 1\n",
      " 0 1 1 0 0 1 0 1]\n",
      "304\n",
      "pierre test la communication numérique\n"
     ]
    },
    {
     "data": {
      "image/png": "[encoded data removed]",
      "text/plain": [
       "<Figure size 432x288 with 1 Axes>"
      ]
     },
     "metadata": {
      "needs_background": "light"
     },
     "output_type": "display_data"
    }
   ],
   "source": [
    "import comnumfip2\n",
    "from importlib import reload\n",
    "import sounddevice as sd\n",
    "import numpy as np\n",
    "import matplotlib.pyplot as plt\n",
    "import soundfile as sf\n",
    "import os\n",
    "\n",
    "\n",
    "reload(comnumfip2)\n",
    "\n",
    "\n",
    "\n",
    "\n",
    "fs=44100\n",
    "duration=1\n",
    "analog_test =[]\n",
    "\n",
    "while len(analog_test)==0:\n",
    "    scrut = sd.rec(int(duration*fs),samplerate=fs,channels=1)\n",
    "    sd.wait()\n",
    "    #Filtre de réception\n",
    "    mask = (scrut<-0.5) | (scrut>0.5) #On garde tout ce qui a une amplitude de plus de 0.9V\n",
    "    analog_test = scrut[mask]\n",
    "\n",
    "signal = sd.rec(int(1*fs),samplerate=fs,channels=1)\n",
    "sd.wait()\n",
    "#Filtre de réception\n",
    "mask = (signal<-0.5) | (signal>0.5) #On garde tout ce qui a une amplitude de plus de 0.9V\n",
    "signal_test = signal[mask]\n",
    "\n",
    "plt.plot(signal)\n",
    "plt.show()\n",
    "\n",
    "fe=44100\n",
    "t= np.arange(0,1/10000,1/fe)\n",
    "motif = np.where((t<=(1/10000)),1,0)\n",
    "\n",
    "#plt.plot(motif)\n",
    "#nb=0\n",
    "#x_last=0\n",
    "#for x in analog_test:\n",
    "#    if x_last == x :\n",
    "#        nb+=1\n",
    "#    else:\n",
    "#        if nb < 10:\n",
    "#            for y in range(nb):\n",
    "#                analog_test[y]=100\n",
    "#            nb=0\n",
    "#        if nb >= 10:\n",
    "#            nb=0\n",
    "#            pass\n",
    "#    x_last=x\n",
    "\n",
    "\n",
    "signal=signal.flatten()\n",
    "\n",
    "filtered_signal = np.correlate(signal, motif, mode='same')\n",
    "\n",
    "\n",
    "plt.plot(filtered_signal)\n",
    "\n",
    "bin=comnumfip2.sample_and_threshold(signal_test,0.5)\n",
    "print(bin)\n",
    "print(len(bin))\n",
    "print(comnumfip2.bin2ascii(bin))\n"
   ]
  },
  {
   "cell_type": "code",
   "execution_count": 96,
   "metadata": {},
   "outputs": [
    {
     "data": {
      "text/plain": [
       "0"
      ]
     },
     "execution_count": 96,
     "metadata": {},
     "output_type": "execute_result"
    }
   ],
   "source": [
    "os.system(\"amixer -q set Master 90%\")\n",
    "os.system(\"amixer -q set Capture 65%\")"
   ]
  },
  {
   "cell_type": "code",
   "execution_count": null,
   "metadata": {},
   "outputs": [],
   "source": [
    "import comnumfip2\n",
    "from importlib import reload\n",
    "import sounddevice as sd\n",
    "import numpy as np\n",
    "import matplotlib.pyplot as plt\n",
    "import soundfile as sf\n",
    "\n",
    "reload(comnumfip2)\n",
    "\n",
    "\n",
    "plt.plot(analog)\n",
    "plt.xlim(9200,9500)\n",
    "#plt.plot(filtered_signal)\n",
    "plt.xlim(9250,9400)\n",
    "\n",
    "plt.plot(analog)\n",
    "plt.show()\n",
    "\n",
    "fe=44100\n",
    "t= np.arange(0,1/10000,1/fe)\n",
    "motif = np.where((t<=(1/10000)),1,0)\n",
    "\n",
    "plt.plot(motif)\n",
    "\n",
    "analog=analog.flatten()\n",
    "\n",
    "filtered_signal = np.correlate(analog, motif, mode='same')\n",
    "\n",
    "\n",
    "plt.plot(filtered_signal)\n",
    "\n",
    "bin=comnumfip2.sample_and_threshold(filtered_signal,0.9)\n",
    "print(bin)\n",
    "print(comnumfip2.bin2ascii(bin))"
   ]
  }
 ],
 "metadata": {
  "kernelspec": {
   "display_name": "Python 3.9.12 ('base')",
   "language": "python",
   "name": "python3"
  },
  "language_info": {
   "codemirror_mode": {
    "name": "ipython",
    "version": 3
   },
   "file_extension": ".py",
   "mimetype": "text/x-python",
   "name": "python",
   "nbconvert_exporter": "python",
   "pygments_lexer": "ipython3",
   "version": "3.9.12"
  },
  "orig_nbformat": 4,
  "vscode": {
   "interpreter": {
    "hash": "3067ead486e059ec00ffe7555bdb889e6e264a24dc711bf108106cc7baee8d5d"
   }
  }
 },
 "nbformat": 4,
 "nbformat_minor": 2
}
